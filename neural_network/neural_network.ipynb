{
  "nbformat": 4,
  "nbformat_minor": 0,
  "metadata": {
    "colab": {
      "provenance": [],
      "toc_visible": true,
      "authorship_tag": "ABX9TyOlypEieD4cFgSHRlN4fDcO",
      "include_colab_link": true
    },
    "kernelspec": {
      "name": "python3",
      "display_name": "Python 3"
    },
    "language_info": {
      "name": "python"
    }
  },
  "cells": [
    {
      "cell_type": "markdown",
      "metadata": {
        "id": "view-in-github",
        "colab_type": "text"
      },
      "source": [
        "<a href=\"https://colab.research.google.com/github/ArshiAbolghasemi/AI-UT/blob/main/neural_network/neural_network.ipynb\" target=\"_parent\"><img src=\"https://colab.research.google.com/assets/colab-badge.svg\" alt=\"Open In Colab\"/></a>"
      ]
    },
    {
      "cell_type": "markdown",
      "source": [
        "In this project, we will utilize a text dataset to demonstrate advanced natural language processing techniques. Our approach will involve initial preprocessing of the text, followed by the application of Word2Vec and neural networks to effectively analyze and interpret the data. Through these methods, we aim to uncover meaningful patterns and insights within the text."
      ],
      "metadata": {
        "id": "LNv007UOa5l6"
      }
    },
    {
      "cell_type": "markdown",
      "source": [
        "# Imports and Settings"
      ],
      "metadata": {
        "id": "pg1vvEfemG-o"
      }
    },
    {
      "cell_type": "markdown",
      "source": [
        "## Imports"
      ],
      "metadata": {
        "id": "8Q3waVQnpzK9"
      }
    },
    {
      "cell_type": "code",
      "source": [
        "!pip install emoji"
      ],
      "metadata": {
        "id": "d_XniedQ5YAB",
        "outputId": "d0ae10dc-c7ea-4fed-9621-c6e3ec945aea",
        "colab": {
          "base_uri": "https://localhost:8080/"
        }
      },
      "execution_count": 20,
      "outputs": [
        {
          "output_type": "stream",
          "name": "stdout",
          "text": [
            "Requirement already satisfied: emoji in /usr/local/lib/python3.10/dist-packages (2.12.1)\n",
            "Requirement already satisfied: typing-extensions>=4.7.0 in /usr/local/lib/python3.10/dist-packages (from emoji) (4.12.1)\n"
          ]
        }
      ]
    },
    {
      "cell_type": "code",
      "source": [
        "import os\n",
        "import pandas as pd\n",
        "import numpy as np\n",
        "import re\n",
        "import nltk\n",
        "import seaborn as sns\n",
        "import matplotlib.pyplot as plt\n",
        "import gensim.downloader as api\n",
        "\n",
        "from google.colab import drive\n",
        "from nltk.corpus import stopwords\n",
        "from nltk.tokenize import word_tokenize\n",
        "from emoji import demojize"
      ],
      "metadata": {
        "id": "klKvEUJVp0XE"
      },
      "execution_count": 34,
      "outputs": []
    },
    {
      "cell_type": "markdown",
      "source": [
        "## Settings"
      ],
      "metadata": {
        "id": "aWlwiXlZqJA1"
      }
    },
    {
      "cell_type": "code",
      "source": [
        "DRIVE_MOUNTED_PATH=os.path.join(os.getcwd(), 'drive/')\n",
        "TWITTER_SUICIDAL_DATASET_PATH=os.path.join(DRIVE_MOUNTED_PATH, 'MyDrive/AI-UT/neural_network/twitter-suicidal-data.csv')"
      ],
      "metadata": {
        "id": "u8ZsSUF5qKhB"
      },
      "execution_count": 29,
      "outputs": []
    },
    {
      "cell_type": "markdown",
      "source": [
        "## Mounting to Google Drive"
      ],
      "metadata": {
        "id": "5SF7nRp3p0p-"
      }
    },
    {
      "cell_type": "code",
      "source": [
        "drive.mount(DRIVE_MOUNTED_PATH)"
      ],
      "metadata": {
        "colab": {
          "base_uri": "https://localhost:8080/"
        },
        "id": "l6EZ_ji1qEK1",
        "outputId": "c83a807c-f6a3-4bb4-da44-b5f2c82cbf58"
      },
      "execution_count": 4,
      "outputs": [
        {
          "output_type": "stream",
          "name": "stdout",
          "text": [
            "Mounted at /content/drive/\n"
          ]
        }
      ]
    },
    {
      "cell_type": "markdown",
      "source": [
        "# Data Preprocessing"
      ],
      "metadata": {
        "id": "MxDjNEfX8JH-"
      }
    },
    {
      "cell_type": "markdown",
      "source": [
        "## Reading Dataset"
      ],
      "metadata": {
        "id": "UqnBWzqn8MW1"
      }
    },
    {
      "cell_type": "code",
      "source": [
        "twitter_suicidal_data = pd.read_csv(TWITTER_SUICIDAL_DATASET_PATH)"
      ],
      "metadata": {
        "id": "BW2zcmGf8R67"
      },
      "execution_count": 5,
      "outputs": []
    },
    {
      "cell_type": "code",
      "source": [
        "twitter_suicidal_data"
      ],
      "metadata": {
        "colab": {
          "base_uri": "https://localhost:8080/",
          "height": 424
        },
        "id": "bRv_q_Fp8xzO",
        "outputId": "50b15629-3bac-43ef-e5bd-1fa9ddb0d4b2"
      },
      "execution_count": null,
      "outputs": [
        {
          "output_type": "execute_result",
          "data": {
            "text/plain": [
              "                                                  tweet  intention\n",
              "0     my life is meaningless i just want to end my l...          1\n",
              "1     muttering i wanna die to myself daily for a fe...          1\n",
              "2     work slave i really feel like my only purpose ...          1\n",
              "3     i did something on the 2 of october i overdose...          1\n",
              "4     i feel like no one cares i just want to die ma...          1\n",
              "...                                                 ...        ...\n",
              "9114  have you ever laid on your bed at night and cr...          1\n",
              "9115  the fault the blame the pain s still there i m...          1\n",
              "9116  stop asking me to trust you when i m still cou...          1\n",
              "9117  i never know how to handle sadness crying make...          1\n",
              "9118  when cancer takes a life we blame cancer depre...          1\n",
              "\n",
              "[9119 rows x 2 columns]"
            ],
            "text/html": [
              "\n",
              "  <div id=\"df-19f5151f-e780-45f2-bd43-d842fe4226ee\" class=\"colab-df-container\">\n",
              "    <div>\n",
              "<style scoped>\n",
              "    .dataframe tbody tr th:only-of-type {\n",
              "        vertical-align: middle;\n",
              "    }\n",
              "\n",
              "    .dataframe tbody tr th {\n",
              "        vertical-align: top;\n",
              "    }\n",
              "\n",
              "    .dataframe thead th {\n",
              "        text-align: right;\n",
              "    }\n",
              "</style>\n",
              "<table border=\"1\" class=\"dataframe\">\n",
              "  <thead>\n",
              "    <tr style=\"text-align: right;\">\n",
              "      <th></th>\n",
              "      <th>tweet</th>\n",
              "      <th>intention</th>\n",
              "    </tr>\n",
              "  </thead>\n",
              "  <tbody>\n",
              "    <tr>\n",
              "      <th>0</th>\n",
              "      <td>my life is meaningless i just want to end my l...</td>\n",
              "      <td>1</td>\n",
              "    </tr>\n",
              "    <tr>\n",
              "      <th>1</th>\n",
              "      <td>muttering i wanna die to myself daily for a fe...</td>\n",
              "      <td>1</td>\n",
              "    </tr>\n",
              "    <tr>\n",
              "      <th>2</th>\n",
              "      <td>work slave i really feel like my only purpose ...</td>\n",
              "      <td>1</td>\n",
              "    </tr>\n",
              "    <tr>\n",
              "      <th>3</th>\n",
              "      <td>i did something on the 2 of october i overdose...</td>\n",
              "      <td>1</td>\n",
              "    </tr>\n",
              "    <tr>\n",
              "      <th>4</th>\n",
              "      <td>i feel like no one cares i just want to die ma...</td>\n",
              "      <td>1</td>\n",
              "    </tr>\n",
              "    <tr>\n",
              "      <th>...</th>\n",
              "      <td>...</td>\n",
              "      <td>...</td>\n",
              "    </tr>\n",
              "    <tr>\n",
              "      <th>9114</th>\n",
              "      <td>have you ever laid on your bed at night and cr...</td>\n",
              "      <td>1</td>\n",
              "    </tr>\n",
              "    <tr>\n",
              "      <th>9115</th>\n",
              "      <td>the fault the blame the pain s still there i m...</td>\n",
              "      <td>1</td>\n",
              "    </tr>\n",
              "    <tr>\n",
              "      <th>9116</th>\n",
              "      <td>stop asking me to trust you when i m still cou...</td>\n",
              "      <td>1</td>\n",
              "    </tr>\n",
              "    <tr>\n",
              "      <th>9117</th>\n",
              "      <td>i never know how to handle sadness crying make...</td>\n",
              "      <td>1</td>\n",
              "    </tr>\n",
              "    <tr>\n",
              "      <th>9118</th>\n",
              "      <td>when cancer takes a life we blame cancer depre...</td>\n",
              "      <td>1</td>\n",
              "    </tr>\n",
              "  </tbody>\n",
              "</table>\n",
              "<p>9119 rows × 2 columns</p>\n",
              "</div>\n",
              "    <div class=\"colab-df-buttons\">\n",
              "\n",
              "  <div class=\"colab-df-container\">\n",
              "    <button class=\"colab-df-convert\" onclick=\"convertToInteractive('df-19f5151f-e780-45f2-bd43-d842fe4226ee')\"\n",
              "            title=\"Convert this dataframe to an interactive table.\"\n",
              "            style=\"display:none;\">\n",
              "\n",
              "  <svg xmlns=\"http://www.w3.org/2000/svg\" height=\"24px\" viewBox=\"0 -960 960 960\">\n",
              "    <path d=\"M120-120v-720h720v720H120Zm60-500h600v-160H180v160Zm220 220h160v-160H400v160Zm0 220h160v-160H400v160ZM180-400h160v-160H180v160Zm440 0h160v-160H620v160ZM180-180h160v-160H180v160Zm440 0h160v-160H620v160Z\"/>\n",
              "  </svg>\n",
              "    </button>\n",
              "\n",
              "  <style>\n",
              "    .colab-df-container {\n",
              "      display:flex;\n",
              "      gap: 12px;\n",
              "    }\n",
              "\n",
              "    .colab-df-convert {\n",
              "      background-color: #E8F0FE;\n",
              "      border: none;\n",
              "      border-radius: 50%;\n",
              "      cursor: pointer;\n",
              "      display: none;\n",
              "      fill: #1967D2;\n",
              "      height: 32px;\n",
              "      padding: 0 0 0 0;\n",
              "      width: 32px;\n",
              "    }\n",
              "\n",
              "    .colab-df-convert:hover {\n",
              "      background-color: #E2EBFA;\n",
              "      box-shadow: 0px 1px 2px rgba(60, 64, 67, 0.3), 0px 1px 3px 1px rgba(60, 64, 67, 0.15);\n",
              "      fill: #174EA6;\n",
              "    }\n",
              "\n",
              "    .colab-df-buttons div {\n",
              "      margin-bottom: 4px;\n",
              "    }\n",
              "\n",
              "    [theme=dark] .colab-df-convert {\n",
              "      background-color: #3B4455;\n",
              "      fill: #D2E3FC;\n",
              "    }\n",
              "\n",
              "    [theme=dark] .colab-df-convert:hover {\n",
              "      background-color: #434B5C;\n",
              "      box-shadow: 0px 1px 3px 1px rgba(0, 0, 0, 0.15);\n",
              "      filter: drop-shadow(0px 1px 2px rgba(0, 0, 0, 0.3));\n",
              "      fill: #FFFFFF;\n",
              "    }\n",
              "  </style>\n",
              "\n",
              "    <script>\n",
              "      const buttonEl =\n",
              "        document.querySelector('#df-19f5151f-e780-45f2-bd43-d842fe4226ee button.colab-df-convert');\n",
              "      buttonEl.style.display =\n",
              "        google.colab.kernel.accessAllowed ? 'block' : 'none';\n",
              "\n",
              "      async function convertToInteractive(key) {\n",
              "        const element = document.querySelector('#df-19f5151f-e780-45f2-bd43-d842fe4226ee');\n",
              "        const dataTable =\n",
              "          await google.colab.kernel.invokeFunction('convertToInteractive',\n",
              "                                                    [key], {});\n",
              "        if (!dataTable) return;\n",
              "\n",
              "        const docLinkHtml = 'Like what you see? Visit the ' +\n",
              "          '<a target=\"_blank\" href=https://colab.research.google.com/notebooks/data_table.ipynb>data table notebook</a>'\n",
              "          + ' to learn more about interactive tables.';\n",
              "        element.innerHTML = '';\n",
              "        dataTable['output_type'] = 'display_data';\n",
              "        await google.colab.output.renderOutput(dataTable, element);\n",
              "        const docLink = document.createElement('div');\n",
              "        docLink.innerHTML = docLinkHtml;\n",
              "        element.appendChild(docLink);\n",
              "      }\n",
              "    </script>\n",
              "  </div>\n",
              "\n",
              "\n",
              "<div id=\"df-bd7be909-6c16-482e-8698-76857be08e1d\">\n",
              "  <button class=\"colab-df-quickchart\" onclick=\"quickchart('df-bd7be909-6c16-482e-8698-76857be08e1d')\"\n",
              "            title=\"Suggest charts\"\n",
              "            style=\"display:none;\">\n",
              "\n",
              "<svg xmlns=\"http://www.w3.org/2000/svg\" height=\"24px\"viewBox=\"0 0 24 24\"\n",
              "     width=\"24px\">\n",
              "    <g>\n",
              "        <path d=\"M19 3H5c-1.1 0-2 .9-2 2v14c0 1.1.9 2 2 2h14c1.1 0 2-.9 2-2V5c0-1.1-.9-2-2-2zM9 17H7v-7h2v7zm4 0h-2V7h2v10zm4 0h-2v-4h2v4z\"/>\n",
              "    </g>\n",
              "</svg>\n",
              "  </button>\n",
              "\n",
              "<style>\n",
              "  .colab-df-quickchart {\n",
              "      --bg-color: #E8F0FE;\n",
              "      --fill-color: #1967D2;\n",
              "      --hover-bg-color: #E2EBFA;\n",
              "      --hover-fill-color: #174EA6;\n",
              "      --disabled-fill-color: #AAA;\n",
              "      --disabled-bg-color: #DDD;\n",
              "  }\n",
              "\n",
              "  [theme=dark] .colab-df-quickchart {\n",
              "      --bg-color: #3B4455;\n",
              "      --fill-color: #D2E3FC;\n",
              "      --hover-bg-color: #434B5C;\n",
              "      --hover-fill-color: #FFFFFF;\n",
              "      --disabled-bg-color: #3B4455;\n",
              "      --disabled-fill-color: #666;\n",
              "  }\n",
              "\n",
              "  .colab-df-quickchart {\n",
              "    background-color: var(--bg-color);\n",
              "    border: none;\n",
              "    border-radius: 50%;\n",
              "    cursor: pointer;\n",
              "    display: none;\n",
              "    fill: var(--fill-color);\n",
              "    height: 32px;\n",
              "    padding: 0;\n",
              "    width: 32px;\n",
              "  }\n",
              "\n",
              "  .colab-df-quickchart:hover {\n",
              "    background-color: var(--hover-bg-color);\n",
              "    box-shadow: 0 1px 2px rgba(60, 64, 67, 0.3), 0 1px 3px 1px rgba(60, 64, 67, 0.15);\n",
              "    fill: var(--button-hover-fill-color);\n",
              "  }\n",
              "\n",
              "  .colab-df-quickchart-complete:disabled,\n",
              "  .colab-df-quickchart-complete:disabled:hover {\n",
              "    background-color: var(--disabled-bg-color);\n",
              "    fill: var(--disabled-fill-color);\n",
              "    box-shadow: none;\n",
              "  }\n",
              "\n",
              "  .colab-df-spinner {\n",
              "    border: 2px solid var(--fill-color);\n",
              "    border-color: transparent;\n",
              "    border-bottom-color: var(--fill-color);\n",
              "    animation:\n",
              "      spin 1s steps(1) infinite;\n",
              "  }\n",
              "\n",
              "  @keyframes spin {\n",
              "    0% {\n",
              "      border-color: transparent;\n",
              "      border-bottom-color: var(--fill-color);\n",
              "      border-left-color: var(--fill-color);\n",
              "    }\n",
              "    20% {\n",
              "      border-color: transparent;\n",
              "      border-left-color: var(--fill-color);\n",
              "      border-top-color: var(--fill-color);\n",
              "    }\n",
              "    30% {\n",
              "      border-color: transparent;\n",
              "      border-left-color: var(--fill-color);\n",
              "      border-top-color: var(--fill-color);\n",
              "      border-right-color: var(--fill-color);\n",
              "    }\n",
              "    40% {\n",
              "      border-color: transparent;\n",
              "      border-right-color: var(--fill-color);\n",
              "      border-top-color: var(--fill-color);\n",
              "    }\n",
              "    60% {\n",
              "      border-color: transparent;\n",
              "      border-right-color: var(--fill-color);\n",
              "    }\n",
              "    80% {\n",
              "      border-color: transparent;\n",
              "      border-right-color: var(--fill-color);\n",
              "      border-bottom-color: var(--fill-color);\n",
              "    }\n",
              "    90% {\n",
              "      border-color: transparent;\n",
              "      border-bottom-color: var(--fill-color);\n",
              "    }\n",
              "  }\n",
              "</style>\n",
              "\n",
              "  <script>\n",
              "    async function quickchart(key) {\n",
              "      const quickchartButtonEl =\n",
              "        document.querySelector('#' + key + ' button');\n",
              "      quickchartButtonEl.disabled = true;  // To prevent multiple clicks.\n",
              "      quickchartButtonEl.classList.add('colab-df-spinner');\n",
              "      try {\n",
              "        const charts = await google.colab.kernel.invokeFunction(\n",
              "            'suggestCharts', [key], {});\n",
              "      } catch (error) {\n",
              "        console.error('Error during call to suggestCharts:', error);\n",
              "      }\n",
              "      quickchartButtonEl.classList.remove('colab-df-spinner');\n",
              "      quickchartButtonEl.classList.add('colab-df-quickchart-complete');\n",
              "    }\n",
              "    (() => {\n",
              "      let quickchartButtonEl =\n",
              "        document.querySelector('#df-bd7be909-6c16-482e-8698-76857be08e1d button');\n",
              "      quickchartButtonEl.style.display =\n",
              "        google.colab.kernel.accessAllowed ? 'block' : 'none';\n",
              "    })();\n",
              "  </script>\n",
              "</div>\n",
              "    </div>\n",
              "  </div>\n"
            ],
            "application/vnd.google.colaboratory.intrinsic+json": {
              "type": "dataframe",
              "variable_name": "twitter_suicidal_data",
              "summary": "{\n  \"name\": \"twitter_suicidal_data\",\n  \"rows\": 9119,\n  \"fields\": [\n    {\n      \"column\": \"tweet\",\n      \"properties\": {\n        \"dtype\": \"string\",\n        \"num_unique_values\": 8785,\n        \"samples\": [\n          \"i am so frustrated i hanged myself 6 and half weeks ago i barely survived i have a scar on my neck from the 12 inch manilla that cut into my neck yet all i can think of right now is blowing my head off i am on 20mg lexapro 10mg zyprexa and 100mg lamotrigine i spent all of yesterday cutting into my chest because the pain makes not see the hallucinations i get every hour of every day i just want to live a normal life\",\n          \"cold shower ftw too bad clothes had to be put back on it s too hot \",\n          \"rip jack kemp a great american patriot i always wanted to meet and now never will \"\n        ],\n        \"semantic_type\": \"\",\n        \"description\": \"\"\n      }\n    },\n    {\n      \"column\": \"intention\",\n      \"properties\": {\n        \"dtype\": \"number\",\n        \"std\": 0,\n        \"min\": 0,\n        \"max\": 1,\n        \"num_unique_values\": 2,\n        \"samples\": [\n          0,\n          1\n        ],\n        \"semantic_type\": \"\",\n        \"description\": \"\"\n      }\n    }\n  ]\n}"
            }
          },
          "metadata": {},
          "execution_count": 12
        }
      ]
    },
    {
      "cell_type": "code",
      "source": [
        "twitter_suicidal_data_cleaned = twitter_suicidal_data.copy()"
      ],
      "metadata": {
        "id": "FY-D-eBV9RWX"
      },
      "execution_count": 10,
      "outputs": []
    },
    {
      "cell_type": "markdown",
      "source": [
        "## Convert to lowercase"
      ],
      "metadata": {
        "id": "dwgkvGU_9MEd"
      }
    },
    {
      "cell_type": "markdown",
      "source": [
        "Converting all text to lowercase ensures uniformity. It helps in matching words correctly regardless of their case, reducing redundancy (e.g., \"Python\" and \"python\" are considered the same word).\n",
        "<br>\n",
        "Pros:\n",
        "- **Normalization**: Converting text to lowercase helps normalize the text by ensuring consistency. It treats words with different cases (e.g., \"Hello\", \"hello\", \"HELLO\") as the same, which can simplify text processing and analysis.\n",
        "\n",
        "- **Reduced Vocabulary Size**: Lowercasing reduces the number of distinct tokens in the text, which can improve the efficiency of downstream tasks such as tokenization, indexing, and modeling. This is particularly beneficial for tasks with limited computational resources.\n",
        "\n",
        "- **Improved Matching**: Lowercasing facilitates case-insensitive matching. This is useful in tasks such as search, comparison, and retrieval, where case sensitivity might not be desired or necessary.\n",
        "\n",
        "- **Standardization**: Lowercasing helps standardize text data, making it consistent across different sources, systems, and languages. It ensures that text processing pipelines produce consistent results regardless of the original casing.\n",
        "\n",
        "Cons:\n",
        "- **Loss of Information**: Lowercasing can lead to the loss of information, especially in cases where the distinction between uppercase and lowercase letters is semantically meaningful. For example, proper nouns, acronyms, and emphasis can be lost when converted to lowercase.\n",
        "\n",
        "- **Misinterpretation of Entities**: Lowercasing can potentially alter the interpretation of named entities (e.g., \"USA\" to \"usa\"), leading to ambiguity or misinterpretation in text analysis tasks, such as named entity recognition or entity disambiguation.\n",
        "\n",
        "- **Loss of Emphasis**: Lowercasing removes emphasis conveyed by uppercase letters, which might be important for conveying tone, emphasis, or significance in the text. This can affect tasks such as sentiment analysis or text summarization."
      ],
      "metadata": {
        "id": "qg96Ob8e9j8m"
      }
    },
    {
      "cell_type": "markdown",
      "source": [
        "## Remove Punctuation"
      ],
      "metadata": {
        "id": "VRLT9_LQ9pMU"
      }
    },
    {
      "cell_type": "markdown",
      "source": [
        "Punctuation marks are generally not useful in most text analysis tasks (e.g., sentiment analysis) and can be removed to focus on the words themselves. This step simplifies tokenization and text processing."
      ],
      "metadata": {
        "id": "KXjN_mJK9r_5"
      }
    },
    {
      "cell_type": "markdown",
      "source": [
        "## Removing Numbers"
      ],
      "metadata": {
        "id": "uyE2yzW_9u-r"
      }
    },
    {
      "cell_type": "markdown",
      "source": [
        "Numbers in text data, especially from social media, can be noisy and might not contribute meaningfully to the analysis. For example, random numbers, dates, and phone numbers often do not hold significant value in text sentiment analysis or other NLP tasks.\n",
        "<br>\n",
        "Pros:\n",
        "- **Improved Text Clarity**: Removing numbers can make the text clearer and more readable, especially in tasks like sentiment analysis, topic modeling, or text summarization, where numbers might not contribute to the overall meaning.\n",
        "\n",
        "- **Reduced Vocabulary Size**: By eliminating numbers, you reduce the size of the vocabulary, which can simplify text processing tasks such as tokenization, indexing, and modeling. This can lead to more efficient algorithms and reduced computational overhead.\n",
        "\n",
        "- **Focused Analysis**: In some cases, numbers are noise that distracts from the main content of the text. By removing them, you can focus your analysis on the relevant textual information, leading to more accurate results.\n",
        "\n",
        "Cons:\n",
        "- **Loss of Information**: Removing numbers may result in the loss of valuable information, especially in contexts where numerical data is significant, such as financial reports, scientific documents, or technical manuals. The presence of numbers can convey quantitative information, dates, measurements, or other important details.\n",
        "\n",
        "- **Altered Meaning**: In certain text analysis tasks, such as sentiment analysis or opinion mining, numbers may carry emotional or contextual significance. Removing them could potentially alter the meaning or sentiment of the text, leading to misinterpretation.\n",
        "\n",
        "- **Impact on Tasks**: Removing numbers may not be suitable for all tasks or datasets. In some cases, such as text classification based on numerical patterns or sentiment analysis of numerical reviews, preserving numbers might be essential for accurate analysis."
      ],
      "metadata": {
        "id": "JqRPl3ayM-jl"
      }
    },
    {
      "cell_type": "markdown",
      "source": [
        "## Remove URLs"
      ],
      "metadata": {
        "id": "-3yl1ORv99M3"
      }
    },
    {
      "cell_type": "markdown",
      "source": [
        "URLs are often not useful for text analysis and can introduce noise. They usually don't contribute to the sentiment or meaning of the tweet and can be safely removed to focus on the actual content."
      ],
      "metadata": {
        "id": "b5V61R-u-Cro"
      }
    },
    {
      "cell_type": "markdown",
      "source": [
        "## Remove Mentions"
      ],
      "metadata": {
        "id": "lfOjqevO-Mo_"
      }
    },
    {
      "cell_type": "markdown",
      "source": [
        "Mentions (e.g., @elonmusk) are specific to Twitter and do not usually contribute to the semantic content of the text. Removing them helps in focusing on the message rather than the addressed users."
      ],
      "metadata": {
        "id": "7dfOohQa-N3l"
      }
    },
    {
      "cell_type": "markdown",
      "source": [
        "## Remove Emojis"
      ],
      "metadata": {
        "id": "XRDHJYu6-aPM"
      }
    },
    {
      "cell_type": "markdown",
      "source": [
        "Emojis can convey sentiment and meaning, but they might complicate text processing. If the analysis does not benefit from emojis, removing them can simplify the text. However, if you are interested in the sentiment or emotional content, you might want to keep them or replace them with corresponding text descriptions."
      ],
      "metadata": {
        "id": "Cg3Kxr6v-bbl"
      }
    },
    {
      "cell_type": "markdown",
      "source": [
        "## Space Uniformity"
      ],
      "metadata": {
        "id": "AzeCMmjdHwtb"
      }
    },
    {
      "cell_type": "markdown",
      "source": [
        "\n",
        "Ensuring uniformity of spaces is an important step in text preprocessing. It involves removing extra spaces, leading and trailing spaces, and ensuring that words are properly separated by a single space. This helps in maintaining consistency and avoiding potential issues in tokenization or further analysis."
      ],
      "metadata": {
        "id": "G9qg8ex4HxcL"
      }
    },
    {
      "cell_type": "markdown",
      "source": [
        "## Tokenize"
      ],
      "metadata": {
        "id": "oC3PUSvdHz6k"
      }
    },
    {
      "cell_type": "markdown",
      "source": [
        "Tokenization splits the text into individual words (tokens). This is a crucial step for many text processing tasks like filtering out stopwords, analyzing word frequencies, and further text analysis.\n",
        "\n"
      ],
      "metadata": {
        "id": "YYhbuoNnIRTt"
      }
    },
    {
      "cell_type": "markdown",
      "source": [
        "## Remove Stopwords"
      ],
      "metadata": {
        "id": "UrDceEmpIUYK"
      }
    },
    {
      "cell_type": "markdown",
      "source": [
        "Stopwords (e.g., \"and\", \"is\", \"in\") are common words that usually do not carry significant meaning and can be removed to focus on the more meaningful words. This reduces the dimensionality of the data and improves analysis efficiency."
      ],
      "metadata": {
        "id": "KWw2sG_-IU90"
      }
    },
    {
      "cell_type": "markdown",
      "source": [
        "## Remove Hashtags"
      ],
      "metadata": {
        "id": "1gY6hB-DN6M9"
      }
    },
    {
      "cell_type": "markdown",
      "source": [
        "Preserving hashtags in suicidal tweets can provide valuable contextual information and improve model accuracy in certain cases, but it also carries risks of introducing noise, overfitting, and ethical concerns. The impact on model accuracy depends on various factors, including the quality of the data, the task at hand, and the design of the model. Therefore, it's crucial to carefully evaluate the trade-offs and implications of preserving hashtags in suicidal tweets and to adopt appropriate strategies for mitigating potential risks while maximizing the benefits of contextual information."
      ],
      "metadata": {
        "id": "FV7oZ7y4N7-P"
      }
    },
    {
      "cell_type": "markdown",
      "source": [
        "## Implementation"
      ],
      "metadata": {
        "id": "e6vA0BOvJLwc"
      }
    },
    {
      "cell_type": "code",
      "source": [
        "# Download Stopwords\n",
        "nltk.download('stopwords')\n",
        "nltk.download('punkt')"
      ],
      "metadata": {
        "id": "U2gvTC9uJI3Z",
        "outputId": "5c424120-ac44-4742-9110-855e40c25ecf",
        "colab": {
          "base_uri": "https://localhost:8080/"
        }
      },
      "execution_count": 6,
      "outputs": [
        {
          "output_type": "stream",
          "name": "stderr",
          "text": [
            "[nltk_data] Downloading package stopwords to /root/nltk_data...\n",
            "[nltk_data]   Unzipping corpora/stopwords.zip.\n",
            "[nltk_data] Downloading package punkt to /root/nltk_data...\n",
            "[nltk_data]   Unzipping tokenizers/punkt.zip.\n"
          ]
        },
        {
          "output_type": "execute_result",
          "data": {
            "text/plain": [
              "True"
            ]
          },
          "metadata": {},
          "execution_count": 6
        }
      ]
    },
    {
      "cell_type": "code",
      "source": [
        "def preprocess_tweet(tweet):\n",
        "  tweet = tweet.lower()\n",
        "  tweet = re.sub(r'[^\\w\\s]', '', tweet)\n",
        "  tweet = re.sub(r'\\d+', '', tweet)\n",
        "  tweet = re.sub(r'http\\S+|www\\S+|https\\S+', '', tweet, flags=re.MULTILINE)\n",
        "  tweet = re.sub(r'@\\w+', '', tweet)\n",
        "  tweet = demojize(tweet)\n",
        "  tweet = re.sub(r'\\s+', ' ', tweet).strip()\n",
        "  return tweet"
      ],
      "metadata": {
        "id": "y0LsIMRKIbQF"
      },
      "execution_count": 7,
      "outputs": []
    },
    {
      "cell_type": "code",
      "source": [
        "def tokenize_cleaned_tweet(cleaned_tweet):\n",
        "  tokens = word_tokenize(cleaned_tweet)\n",
        "  tokens = [word for word in tokens if word not in stopwords.words('english')]\n",
        "  return tokens"
      ],
      "metadata": {
        "id": "pn7UTn8uP5FQ"
      },
      "execution_count": 8,
      "outputs": []
    },
    {
      "cell_type": "code",
      "source": [
        "twitter_suicidal_data_cleaned['cleaned_tweet'] = twitter_suicidal_data_cleaned['tweet'].apply(preprocess_tweet)"
      ],
      "metadata": {
        "id": "2bmdS866OCJO"
      },
      "execution_count": 11,
      "outputs": []
    },
    {
      "cell_type": "code",
      "source": [
        "sample_tweet = twitter_suicidal_data_cleaned.sample(n=5)"
      ],
      "metadata": {
        "id": "v17CPBqYQtv3"
      },
      "execution_count": 12,
      "outputs": []
    },
    {
      "cell_type": "code",
      "source": [
        "sample_tweet['tweet'].head()"
      ],
      "metadata": {
        "id": "FgXbZCDSPQpi",
        "outputId": "fbe0288e-35ff-4802-e997-b9868c273009",
        "colab": {
          "base_uri": "https://localhost:8080/"
        }
      },
      "execution_count": 13,
      "outputs": [
        {
          "output_type": "execute_result",
          "data": {
            "text/plain": [
              "8133    i have a feeling that someone i don t want to ...\n",
              "7053                 really don t feel like trivia today \n",
              "7604    i don t want to die for barely there wages in ...\n",
              "4819     i think i read somewhere that it was shot as ...\n",
              "1520    getting it all of my chest i m not a good pers...\n",
              "Name: tweet, dtype: object"
            ]
          },
          "metadata": {},
          "execution_count": 13
        }
      ]
    },
    {
      "cell_type": "code",
      "source": [
        "sample_tweet['cleaned_tweet'].head()"
      ],
      "metadata": {
        "id": "D3bb25HEQVyB",
        "outputId": "52fd2223-322f-4488-abb6-d1478d6edebd",
        "colab": {
          "base_uri": "https://localhost:8080/"
        }
      },
      "execution_count": 14,
      "outputs": [
        {
          "output_type": "execute_result",
          "data": {
            "text/plain": [
              "8133    i have a feeling that someone i don t want to ...\n",
              "7053                  really don t feel like trivia today\n",
              "7604    i don t want to die for barely there wages in ...\n",
              "4819    i think i read somewhere that it was shot as a...\n",
              "1520    getting it all of my chest i m not a good pers...\n",
              "Name: cleaned_tweet, dtype: object"
            ]
          },
          "metadata": {},
          "execution_count": 14
        }
      ]
    },
    {
      "cell_type": "code",
      "source": [
        "twitter_suicidal_data_cleaned['tokens'] = twitter_suicidal_data_cleaned['cleaned_tweet'].apply(tokenize_cleaned_tweet)"
      ],
      "metadata": {
        "id": "yEyT0xrjQzno"
      },
      "execution_count": 15,
      "outputs": []
    },
    {
      "cell_type": "markdown",
      "source": [
        "## Describe Result"
      ],
      "metadata": {
        "id": "I9fd9NADRavQ"
      }
    },
    {
      "cell_type": "code",
      "source": [
        "twitter_suicidal_data_cleaned.head()"
      ],
      "metadata": {
        "id": "gdirAwuFRpjj",
        "outputId": "c063a767-98b6-4b6d-fb1f-04dc2acada48",
        "colab": {
          "base_uri": "https://localhost:8080/",
          "height": 206
        }
      },
      "execution_count": 16,
      "outputs": [
        {
          "output_type": "execute_result",
          "data": {
            "text/plain": [
              "                                               tweet  intention  \\\n",
              "0  my life is meaningless i just want to end my l...          1   \n",
              "1  muttering i wanna die to myself daily for a fe...          1   \n",
              "2  work slave i really feel like my only purpose ...          1   \n",
              "3  i did something on the 2 of october i overdose...          1   \n",
              "4  i feel like no one cares i just want to die ma...          1   \n",
              "\n",
              "                                       cleaned_tweet  \\\n",
              "0  my life is meaningless i just want to end my l...   \n",
              "1  muttering i wanna die to myself daily for a fe...   \n",
              "2  work slave i really feel like my only purpose ...   \n",
              "3  i did something on the of october i overdosed ...   \n",
              "4  i feel like no one cares i just want to die ma...   \n",
              "\n",
              "                                              tokens  \n",
              "0  [life, meaningless, want, end, life, badly, li...  \n",
              "1  [muttering, wan, na, die, daily, months, feel,...  \n",
              "2  [work, slave, really, feel, like, purpose, lif...  \n",
              "3  [something, october, overdosed, felt, alone, h...  \n",
              "4  [feel, like, one, cares, want, die, maybe, fee...  "
            ],
            "text/html": [
              "\n",
              "  <div id=\"df-ffe802dd-42e0-4cc5-b794-82ae9c4d2c8e\" class=\"colab-df-container\">\n",
              "    <div>\n",
              "<style scoped>\n",
              "    .dataframe tbody tr th:only-of-type {\n",
              "        vertical-align: middle;\n",
              "    }\n",
              "\n",
              "    .dataframe tbody tr th {\n",
              "        vertical-align: top;\n",
              "    }\n",
              "\n",
              "    .dataframe thead th {\n",
              "        text-align: right;\n",
              "    }\n",
              "</style>\n",
              "<table border=\"1\" class=\"dataframe\">\n",
              "  <thead>\n",
              "    <tr style=\"text-align: right;\">\n",
              "      <th></th>\n",
              "      <th>tweet</th>\n",
              "      <th>intention</th>\n",
              "      <th>cleaned_tweet</th>\n",
              "      <th>tokens</th>\n",
              "    </tr>\n",
              "  </thead>\n",
              "  <tbody>\n",
              "    <tr>\n",
              "      <th>0</th>\n",
              "      <td>my life is meaningless i just want to end my l...</td>\n",
              "      <td>1</td>\n",
              "      <td>my life is meaningless i just want to end my l...</td>\n",
              "      <td>[life, meaningless, want, end, life, badly, li...</td>\n",
              "    </tr>\n",
              "    <tr>\n",
              "      <th>1</th>\n",
              "      <td>muttering i wanna die to myself daily for a fe...</td>\n",
              "      <td>1</td>\n",
              "      <td>muttering i wanna die to myself daily for a fe...</td>\n",
              "      <td>[muttering, wan, na, die, daily, months, feel,...</td>\n",
              "    </tr>\n",
              "    <tr>\n",
              "      <th>2</th>\n",
              "      <td>work slave i really feel like my only purpose ...</td>\n",
              "      <td>1</td>\n",
              "      <td>work slave i really feel like my only purpose ...</td>\n",
              "      <td>[work, slave, really, feel, like, purpose, lif...</td>\n",
              "    </tr>\n",
              "    <tr>\n",
              "      <th>3</th>\n",
              "      <td>i did something on the 2 of october i overdose...</td>\n",
              "      <td>1</td>\n",
              "      <td>i did something on the of october i overdosed ...</td>\n",
              "      <td>[something, october, overdosed, felt, alone, h...</td>\n",
              "    </tr>\n",
              "    <tr>\n",
              "      <th>4</th>\n",
              "      <td>i feel like no one cares i just want to die ma...</td>\n",
              "      <td>1</td>\n",
              "      <td>i feel like no one cares i just want to die ma...</td>\n",
              "      <td>[feel, like, one, cares, want, die, maybe, fee...</td>\n",
              "    </tr>\n",
              "  </tbody>\n",
              "</table>\n",
              "</div>\n",
              "    <div class=\"colab-df-buttons\">\n",
              "\n",
              "  <div class=\"colab-df-container\">\n",
              "    <button class=\"colab-df-convert\" onclick=\"convertToInteractive('df-ffe802dd-42e0-4cc5-b794-82ae9c4d2c8e')\"\n",
              "            title=\"Convert this dataframe to an interactive table.\"\n",
              "            style=\"display:none;\">\n",
              "\n",
              "  <svg xmlns=\"http://www.w3.org/2000/svg\" height=\"24px\" viewBox=\"0 -960 960 960\">\n",
              "    <path d=\"M120-120v-720h720v720H120Zm60-500h600v-160H180v160Zm220 220h160v-160H400v160Zm0 220h160v-160H400v160ZM180-400h160v-160H180v160Zm440 0h160v-160H620v160ZM180-180h160v-160H180v160Zm440 0h160v-160H620v160Z\"/>\n",
              "  </svg>\n",
              "    </button>\n",
              "\n",
              "  <style>\n",
              "    .colab-df-container {\n",
              "      display:flex;\n",
              "      gap: 12px;\n",
              "    }\n",
              "\n",
              "    .colab-df-convert {\n",
              "      background-color: #E8F0FE;\n",
              "      border: none;\n",
              "      border-radius: 50%;\n",
              "      cursor: pointer;\n",
              "      display: none;\n",
              "      fill: #1967D2;\n",
              "      height: 32px;\n",
              "      padding: 0 0 0 0;\n",
              "      width: 32px;\n",
              "    }\n",
              "\n",
              "    .colab-df-convert:hover {\n",
              "      background-color: #E2EBFA;\n",
              "      box-shadow: 0px 1px 2px rgba(60, 64, 67, 0.3), 0px 1px 3px 1px rgba(60, 64, 67, 0.15);\n",
              "      fill: #174EA6;\n",
              "    }\n",
              "\n",
              "    .colab-df-buttons div {\n",
              "      margin-bottom: 4px;\n",
              "    }\n",
              "\n",
              "    [theme=dark] .colab-df-convert {\n",
              "      background-color: #3B4455;\n",
              "      fill: #D2E3FC;\n",
              "    }\n",
              "\n",
              "    [theme=dark] .colab-df-convert:hover {\n",
              "      background-color: #434B5C;\n",
              "      box-shadow: 0px 1px 3px 1px rgba(0, 0, 0, 0.15);\n",
              "      filter: drop-shadow(0px 1px 2px rgba(0, 0, 0, 0.3));\n",
              "      fill: #FFFFFF;\n",
              "    }\n",
              "  </style>\n",
              "\n",
              "    <script>\n",
              "      const buttonEl =\n",
              "        document.querySelector('#df-ffe802dd-42e0-4cc5-b794-82ae9c4d2c8e button.colab-df-convert');\n",
              "      buttonEl.style.display =\n",
              "        google.colab.kernel.accessAllowed ? 'block' : 'none';\n",
              "\n",
              "      async function convertToInteractive(key) {\n",
              "        const element = document.querySelector('#df-ffe802dd-42e0-4cc5-b794-82ae9c4d2c8e');\n",
              "        const dataTable =\n",
              "          await google.colab.kernel.invokeFunction('convertToInteractive',\n",
              "                                                    [key], {});\n",
              "        if (!dataTable) return;\n",
              "\n",
              "        const docLinkHtml = 'Like what you see? Visit the ' +\n",
              "          '<a target=\"_blank\" href=https://colab.research.google.com/notebooks/data_table.ipynb>data table notebook</a>'\n",
              "          + ' to learn more about interactive tables.';\n",
              "        element.innerHTML = '';\n",
              "        dataTable['output_type'] = 'display_data';\n",
              "        await google.colab.output.renderOutput(dataTable, element);\n",
              "        const docLink = document.createElement('div');\n",
              "        docLink.innerHTML = docLinkHtml;\n",
              "        element.appendChild(docLink);\n",
              "      }\n",
              "    </script>\n",
              "  </div>\n",
              "\n",
              "\n",
              "<div id=\"df-4ec902a6-afc4-499b-971e-22ca6777e697\">\n",
              "  <button class=\"colab-df-quickchart\" onclick=\"quickchart('df-4ec902a6-afc4-499b-971e-22ca6777e697')\"\n",
              "            title=\"Suggest charts\"\n",
              "            style=\"display:none;\">\n",
              "\n",
              "<svg xmlns=\"http://www.w3.org/2000/svg\" height=\"24px\"viewBox=\"0 0 24 24\"\n",
              "     width=\"24px\">\n",
              "    <g>\n",
              "        <path d=\"M19 3H5c-1.1 0-2 .9-2 2v14c0 1.1.9 2 2 2h14c1.1 0 2-.9 2-2V5c0-1.1-.9-2-2-2zM9 17H7v-7h2v7zm4 0h-2V7h2v10zm4 0h-2v-4h2v4z\"/>\n",
              "    </g>\n",
              "</svg>\n",
              "  </button>\n",
              "\n",
              "<style>\n",
              "  .colab-df-quickchart {\n",
              "      --bg-color: #E8F0FE;\n",
              "      --fill-color: #1967D2;\n",
              "      --hover-bg-color: #E2EBFA;\n",
              "      --hover-fill-color: #174EA6;\n",
              "      --disabled-fill-color: #AAA;\n",
              "      --disabled-bg-color: #DDD;\n",
              "  }\n",
              "\n",
              "  [theme=dark] .colab-df-quickchart {\n",
              "      --bg-color: #3B4455;\n",
              "      --fill-color: #D2E3FC;\n",
              "      --hover-bg-color: #434B5C;\n",
              "      --hover-fill-color: #FFFFFF;\n",
              "      --disabled-bg-color: #3B4455;\n",
              "      --disabled-fill-color: #666;\n",
              "  }\n",
              "\n",
              "  .colab-df-quickchart {\n",
              "    background-color: var(--bg-color);\n",
              "    border: none;\n",
              "    border-radius: 50%;\n",
              "    cursor: pointer;\n",
              "    display: none;\n",
              "    fill: var(--fill-color);\n",
              "    height: 32px;\n",
              "    padding: 0;\n",
              "    width: 32px;\n",
              "  }\n",
              "\n",
              "  .colab-df-quickchart:hover {\n",
              "    background-color: var(--hover-bg-color);\n",
              "    box-shadow: 0 1px 2px rgba(60, 64, 67, 0.3), 0 1px 3px 1px rgba(60, 64, 67, 0.15);\n",
              "    fill: var(--button-hover-fill-color);\n",
              "  }\n",
              "\n",
              "  .colab-df-quickchart-complete:disabled,\n",
              "  .colab-df-quickchart-complete:disabled:hover {\n",
              "    background-color: var(--disabled-bg-color);\n",
              "    fill: var(--disabled-fill-color);\n",
              "    box-shadow: none;\n",
              "  }\n",
              "\n",
              "  .colab-df-spinner {\n",
              "    border: 2px solid var(--fill-color);\n",
              "    border-color: transparent;\n",
              "    border-bottom-color: var(--fill-color);\n",
              "    animation:\n",
              "      spin 1s steps(1) infinite;\n",
              "  }\n",
              "\n",
              "  @keyframes spin {\n",
              "    0% {\n",
              "      border-color: transparent;\n",
              "      border-bottom-color: var(--fill-color);\n",
              "      border-left-color: var(--fill-color);\n",
              "    }\n",
              "    20% {\n",
              "      border-color: transparent;\n",
              "      border-left-color: var(--fill-color);\n",
              "      border-top-color: var(--fill-color);\n",
              "    }\n",
              "    30% {\n",
              "      border-color: transparent;\n",
              "      border-left-color: var(--fill-color);\n",
              "      border-top-color: var(--fill-color);\n",
              "      border-right-color: var(--fill-color);\n",
              "    }\n",
              "    40% {\n",
              "      border-color: transparent;\n",
              "      border-right-color: var(--fill-color);\n",
              "      border-top-color: var(--fill-color);\n",
              "    }\n",
              "    60% {\n",
              "      border-color: transparent;\n",
              "      border-right-color: var(--fill-color);\n",
              "    }\n",
              "    80% {\n",
              "      border-color: transparent;\n",
              "      border-right-color: var(--fill-color);\n",
              "      border-bottom-color: var(--fill-color);\n",
              "    }\n",
              "    90% {\n",
              "      border-color: transparent;\n",
              "      border-bottom-color: var(--fill-color);\n",
              "    }\n",
              "  }\n",
              "</style>\n",
              "\n",
              "  <script>\n",
              "    async function quickchart(key) {\n",
              "      const quickchartButtonEl =\n",
              "        document.querySelector('#' + key + ' button');\n",
              "      quickchartButtonEl.disabled = true;  // To prevent multiple clicks.\n",
              "      quickchartButtonEl.classList.add('colab-df-spinner');\n",
              "      try {\n",
              "        const charts = await google.colab.kernel.invokeFunction(\n",
              "            'suggestCharts', [key], {});\n",
              "      } catch (error) {\n",
              "        console.error('Error during call to suggestCharts:', error);\n",
              "      }\n",
              "      quickchartButtonEl.classList.remove('colab-df-spinner');\n",
              "      quickchartButtonEl.classList.add('colab-df-quickchart-complete');\n",
              "    }\n",
              "    (() => {\n",
              "      let quickchartButtonEl =\n",
              "        document.querySelector('#df-4ec902a6-afc4-499b-971e-22ca6777e697 button');\n",
              "      quickchartButtonEl.style.display =\n",
              "        google.colab.kernel.accessAllowed ? 'block' : 'none';\n",
              "    })();\n",
              "  </script>\n",
              "</div>\n",
              "    </div>\n",
              "  </div>\n"
            ],
            "application/vnd.google.colaboratory.intrinsic+json": {
              "type": "dataframe",
              "variable_name": "twitter_suicidal_data_cleaned",
              "summary": "{\n  \"name\": \"twitter_suicidal_data_cleaned\",\n  \"rows\": 9119,\n  \"fields\": [\n    {\n      \"column\": \"tweet\",\n      \"properties\": {\n        \"dtype\": \"string\",\n        \"num_unique_values\": 8785,\n        \"samples\": [\n          \"i am so frustrated i hanged myself 6 and half weeks ago i barely survived i have a scar on my neck from the 12 inch manilla that cut into my neck yet all i can think of right now is blowing my head off i am on 20mg lexapro 10mg zyprexa and 100mg lamotrigine i spent all of yesterday cutting into my chest because the pain makes not see the hallucinations i get every hour of every day i just want to live a normal life\",\n          \"cold shower ftw too bad clothes had to be put back on it s too hot \",\n          \"rip jack kemp a great american patriot i always wanted to meet and now never will \"\n        ],\n        \"semantic_type\": \"\",\n        \"description\": \"\"\n      }\n    },\n    {\n      \"column\": \"intention\",\n      \"properties\": {\n        \"dtype\": \"number\",\n        \"std\": 0,\n        \"min\": 0,\n        \"max\": 1,\n        \"num_unique_values\": 2,\n        \"samples\": [\n          0,\n          1\n        ],\n        \"semantic_type\": \"\",\n        \"description\": \"\"\n      }\n    },\n    {\n      \"column\": \"cleaned_tweet\",\n      \"properties\": {\n        \"dtype\": \"string\",\n        \"num_unique_values\": 8757,\n        \"samples\": [\n          \"im tiered why do i always work saturday i need a coffee urgent\",\n          \"i feel bad for my cat i didn t feed him this morning before i left\"\n        ],\n        \"semantic_type\": \"\",\n        \"description\": \"\"\n      }\n    },\n    {\n      \"column\": \"tokens\",\n      \"properties\": {\n        \"dtype\": \"object\",\n        \"semantic_type\": \"\",\n        \"description\": \"\"\n      }\n    }\n  ]\n}"
            }
          },
          "metadata": {},
          "execution_count": 16
        }
      ]
    },
    {
      "cell_type": "code",
      "source": [
        "twitter_suicidal_data_cleaned['token_count'] = twitter_suicidal_data_cleaned['tokens'].apply(len)"
      ],
      "metadata": {
        "id": "Rt-VEVVaRs8M"
      },
      "execution_count": 17,
      "outputs": []
    },
    {
      "cell_type": "code",
      "source": [
        "result = twitter_suicidal_data_cleaned.groupby('intention')['token_count'].agg(['mean', 'max', 'min'])\n",
        "print(result)"
      ],
      "metadata": {
        "id": "3BlqAonNRlyI",
        "outputId": "c9153562-6688-4cc0-b489-7820791d5801",
        "colab": {
          "base_uri": "https://localhost:8080/"
        }
      },
      "execution_count": null,
      "outputs": [
        {
          "output_type": "stream",
          "name": "stdout",
          "text": [
            "                mean   max  min\n",
            "intention                      \n",
            "0           8.976567    38    0\n",
            "1          73.848424  2147    1\n"
          ]
        }
      ]
    },
    {
      "cell_type": "code",
      "source": [
        "plt.figure(figsize=(10, 6))\n",
        "sns.boxplot(data=twitter_suicidal_data_cleaned, x='intention', y='token_count', showmeans=True, meanline=True)\n",
        "sns.stripplot(data=twitter_suicidal_data_cleaned, x='intention', y='token_count', jitter=True, color='black', alpha=0.5)\n",
        "plt.title('Distribution of Token Counts for Suicidal and Non-Suicidal Tweets')\n",
        "plt.xlabel('Intention')\n",
        "plt.ylabel('Token Count')\n",
        "plt.show()"
      ],
      "metadata": {
        "id": "SpwAM6WfRhMw",
        "outputId": "598846b2-5075-4874-f303-805db8d9698f",
        "colab": {
          "base_uri": "https://localhost:8080/",
          "height": 564
        }
      },
      "execution_count": null,
      "outputs": [
        {
          "output_type": "display_data",
          "data": {
            "text/plain": [
              "<Figure size 1000x600 with 1 Axes>"
            ],
            "image/png": "[encoded data removed]"
          },
          "metadata": {}
        }
      ]
    },
    {
      "cell_type": "markdown",
      "source": [
        "# Feature Vectors"
      ],
      "metadata": {
        "id": "JsHN6Fh5vuXD"
      }
    },
    {
      "cell_type": "markdown",
      "source": [
        "## Word Embedding"
      ],
      "metadata": {
        "id": "Hs9LnxsFvyNc"
      }
    },
    {
      "cell_type": "markdown",
      "source": [
        "Word embeddings are basically representations where contexts and similarities are captured by encoding in a vector space- similar words would have similar representations"
      ],
      "metadata": {
        "id": "o08EghG4wigj"
      }
    },
    {
      "cell_type": "markdown",
      "source": [
        "## Word2Vec"
      ],
      "metadata": {
        "id": "O8udo32uwkeR"
      }
    },
    {
      "cell_type": "code",
      "source": [
        "w2v = api.load(\"word2vec-google-news-300\")"
      ],
      "metadata": {
        "id": "W87jId4f7AT2",
        "outputId": "4dda26ac-3365-4443-8c53-cbfb095c9577",
        "colab": {
          "base_uri": "https://localhost:8080/"
        }
      },
      "execution_count": 28,
      "outputs": [
        {
          "output_type": "stream",
          "name": "stdout",
          "text": [
            "[==================================================] 100.0% 1662.8/1662.8MB downloaded\n"
          ]
        }
      ]
    },
    {
      "cell_type": "markdown",
      "source": [
        "## Padding"
      ],
      "metadata": {
        "id": "Deucy80C_bWv"
      }
    },
    {
      "cell_type": "markdown",
      "source": [
        "Padding involves adding extra tokens or values to sequences to make them all have the same length. This is often necessary because many machine learning models expect inputs of fixed dimensions. When working with sequences, such as sentences in natural language processing or time series data, it's common to have sequences of different lengths. Padding helps ensure that all sequences are of equal length.\n",
        "\n",
        "- **Zero-Padding**: is a specific type of padding where the extra values added to the sequences are zeros. Zero-padding is widely used because it has minimal impact on the data's original meaning, especially in scenarios like text processing where zero indices don't represent any actual words."
      ],
      "metadata": {
        "id": "BW2jQevB_vBq"
      }
    },
    {
      "cell_type": "markdown",
      "source": [
        "## Out of Vocabulary Words(OOV Words)"
      ],
      "metadata": {
        "id": "vec4hmTTC2mr"
      }
    },
    {
      "cell_type": "markdown",
      "source": [
        "\n",
        "\n",
        "1.   **Zero-Padding**\n",
        "\n",
        " **Pros**:\n",
        "\n",
        "  *   Simple and easy to implement.\n",
        "  *   Preserves the structure of the input data.\n",
        "  *   Zero vectors don't introduce additional parameters to the model.\n",
        "\n",
        " **Cons**:\n",
        "  *   Loss of information: Zero vectors do not convey any semantic meaning, potentially leading to loss of valuable information.\n",
        "  *  Ineffective for unseen words: Similarity calculations involving OOV words will be inaccurate, as all OOV words are treated the same.\n",
        "\n",
        "\n",
        "2.   **Random Vectors**\n",
        "\n",
        "  **Pros**:\n",
        "  \n",
        "    * Preserves input dimensionality.\n",
        "    * Provides some representation for OOV words.\n",
        "    * Can be useful when dealing with small datasets or rare words.\n",
        "\n",
        "  **Cons**:\n",
        "    * Lack of semantic meaning: Random vectors do not capture any meaningful information about the words.\n",
        "    * Not deterministic: The representations for OOV words will vary randomly during each training session, making it challenging to learn meaningful patterns.\n",
        "\n",
        "3.  **Subword Embeddings**\n",
        "\n",
        "  **Pros**\n",
        "\n",
        "    * Handles OOV words by decomposing words into subword units (n-grams), allowing for the creation of embeddings for unseen words based on their subword components.\n",
        "    * Effective for handling morphologically rich languages and rare words.\n",
        "    * Captures more fine-grained information compared to word-level embeddings.\n",
        "\n",
        "  **Cons**\n",
        "\n",
        "    * Increased computational complexity: Training and inference with subword embeddings can be computationally more expensive than traditional word embeddings.\n",
        "    * Larger memory footprint: Subword embeddings typically require more memory to store due to the increased vocabulary size.\n",
        "\n",
        "4. **Character-Level Embeddings**\n",
        "\n",
        "  **Pros**:\n",
        "\n",
        "    * Generates embeddings directly from characters, allowing the model to learn representations for unseen words based on their character compositions.\n",
        "    * Effective for handling misspellings, morphological variations, and rare words.\n",
        "    * Encodes subword information, making it robust to unseen words and languages with complex morphology.\n",
        "    \n",
        "  **Cons**:\n",
        "\n",
        "    * Increased model complexity: Character-level embeddings require more parameters and computational resources compared to word-level embeddings.\n",
        "    * Longer training time: Training character-level embeddings can be slower due to the increased dimensionality of the input data.\n",
        "5. **OOV Word Handling Strategies during Training**\n",
        "  \n",
        "  **Pros**:\n",
        "\n",
        "    * Adaptive approach: Dynamically updates word representations during training based on the context and similarity to known words.\n",
        "    * Provides a more nuanced representation for OOV words compared to fixed methods like zero or random vectors.\n",
        "    * Can be combined with other techniques for improved performance.\n",
        "\n",
        "  **Cons**:\n",
        "\n",
        "    * Complexity: Requires specialized algorithms and additional training procedures to handle OOV words effectively.\n",
        "    * Risk of overfitting: Adapting representations for OOV words based on limited context may lead to overfitting, especially in data-poor scenarios.\n"
      ],
      "metadata": {
        "id": "20x50UyfDH1f"
      }
    },
    {
      "cell_type": "markdown",
      "source": [
        "## Implementation"
      ],
      "metadata": {
        "id": "tvZh-9uz_5cI"
      }
    },
    {
      "cell_type": "code",
      "source": [
        "def get_tweet_features_vector(tweet_tokens, tweet_token_length=64,\n",
        "                             token_feature_vector_len=w2v.vector_size,\n",
        "                             model=w2v):\n",
        "  tweet_vectors = np.zeros((tweet_token_length, token_feature_vector_len))\n",
        "  for idx, token in enumerate(tweet_tokens[:tweet_token_length]):\n",
        "    if not token in model.key_to_index:\n",
        "      continue\n",
        "\n",
        "    tweet_vectors[idx] = model[token]\n",
        "\n",
        "  return tweet_vectors"
      ],
      "metadata": {
        "id": "e58gQtIDA8yn"
      },
      "execution_count": 45,
      "outputs": []
    },
    {
      "cell_type": "code",
      "source": [
        "tweet_features_vector = twitter_suicidal_data_cleaned['tokens'].apply(get_tweet_features_vector)"
      ],
      "metadata": {
        "id": "NU5fiJpdCQSM"
      },
      "execution_count": 50,
      "outputs": []
    },
    {
      "cell_type": "code",
      "source": [
        "tweet_features_vector"
      ],
      "metadata": {
        "id": "G6ADV6b-CrB9",
        "outputId": "18c0bbbd-01de-47a3-cf32-f9095b5b57c7",
        "colab": {
          "base_uri": "https://localhost:8080/"
        }
      },
      "execution_count": 51,
      "outputs": [
        {
          "output_type": "execute_result",
          "data": {
            "text/plain": [
              "0       [[-0.06787109375, 0.09521484375, 0.03564453125...\n",
              "1       [[0.234375, -0.02294921875, 0.1826171875, 0.12...\n",
              "2       [[-0.07568359375, 0.03369140625, -0.0649414062...\n",
              "3       [[0.1123046875, 0.018310546875, 0.0771484375, ...\n",
              "4       [[-0.0556640625, 0.01373291015625, -0.14160156...\n",
              "                              ...                        \n",
              "9114    [[-0.2255859375, -0.032470703125, 0.0402832031...\n",
              "9115    [[-0.02490234375, -0.37890625, 0.330078125, 0....\n",
              "9116    [[-0.057861328125, 0.01318359375, 0.115234375,...\n",
              "9117    [[0.02392578125, -0.046142578125, 0.00390625, ...\n",
              "9118    [[-0.1240234375, 0.2470703125, 0.0218505859375...\n",
              "Name: tokens, Length: 9119, dtype: object"
            ]
          },
          "metadata": {},
          "execution_count": 51
        }
      ]
    }
  ]
}