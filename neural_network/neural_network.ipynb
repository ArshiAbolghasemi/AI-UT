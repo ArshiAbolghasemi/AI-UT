{
  "nbformat": 4,
  "nbformat_minor": 0,
  "metadata": {
    "colab": {
      "provenance": [],
      "toc_visible": true,
      "authorship_tag": "ABX9TyOM4Ow2H60byP6X/5KOOy4H",
      "include_colab_link": true
    },
    "kernelspec": {
      "name": "python3",
      "display_name": "Python 3"
    },
    "language_info": {
      "name": "python"
    }
  },
  "cells": [
    {
      "cell_type": "markdown",
      "metadata": {
        "id": "view-in-github",
        "colab_type": "text"
      },
      "source": [
        "<a href=\"https://colab.research.google.com/github/ArshiAbolghasemi/AI-UT/blob/main/neural_network/neural_network.ipynb\" target=\"_parent\"><img src=\"https://colab.research.google.com/assets/colab-badge.svg\" alt=\"Open In Colab\"/></a>"
      ]
    },
    {
      "cell_type": "markdown",
      "source": [
        "In this project, we will utilize a text dataset to demonstrate advanced natural language processing techniques. Our approach will involve initial preprocessing of the text, followed by the application of Word2Vec and neural networks to effectively analyze and interpret the data. Through these methods, we aim to uncover meaningful patterns and insights within the text."
      ],
      "metadata": {
        "id": "LNv007UOa5l6"
      }
    },
    {
      "cell_type": "markdown",
      "source": [
        "# Imports and Settings"
      ],
      "metadata": {
        "id": "pg1vvEfemG-o"
      }
    },
    {
      "cell_type": "markdown",
      "source": [
        "## Imports"
      ],
      "metadata": {
        "id": "8Q3waVQnpzK9"
      }
    },
    {
      "cell_type": "code",
      "source": [
        "!pip install emoji"
      ],
      "metadata": {
        "id": "d_XniedQ5YAB",
        "outputId": "f5d41c28-7f9d-43c5-a9cd-47630a6b07c4",
        "colab": {
          "base_uri": "https://localhost:8080/"
        }
      },
      "execution_count": 65,
      "outputs": [
        {
          "output_type": "stream",
          "name": "stdout",
          "text": [
            "Requirement already satisfied: emoji in /usr/local/lib/python3.10/dist-packages (2.12.1)\n",
            "Requirement already satisfied: typing-extensions>=4.7.0 in /usr/local/lib/python3.10/dist-packages (from emoji) (4.12.1)\n"
          ]
        }
      ]
    },
    {
      "cell_type": "code",
      "source": [
        "import os\n",
        "import pandas as pd\n",
        "import numpy as np\n",
        "import re\n",
        "import nltk\n",
        "import seaborn as sns\n",
        "import matplotlib.pyplot as plt\n",
        "import gensim.downloader as api\n",
        "import torch\n",
        "import torch.nn as nn\n",
        "import torch.optim as optim\n",
        "\n",
        "from google.colab import drive\n",
        "from nltk.corpus import stopwords\n",
        "from nltk.tokenize import word_tokenize\n",
        "from emoji import demojize\n",
        "from sklearn.model_selection import train_test_split\n",
        "from torch.utils.data import DataLoader,Dataset\n",
        "from random import randint, random\n",
        "from sklearn.metrics import precision_score, recall_score, f1_score\n",
        "from torchsummary import summary"
      ],
      "metadata": {
        "id": "klKvEUJVp0XE"
      },
      "execution_count": 61,
      "outputs": []
    },
    {
      "cell_type": "markdown",
      "source": [
        "## Settings"
      ],
      "metadata": {
        "id": "aWlwiXlZqJA1"
      }
    },
    {
      "cell_type": "code",
      "source": [
        "DRIVE_MOUNTED_PATH=os.path.join(os.getcwd(), 'drive/')\n",
        "TWITTER_SUICIDAL_DATASET_PATH=os.path.join(DRIVE_MOUNTED_PATH, 'MyDrive/AI-UT/neural_network/twitter-suicidal-data.csv')"
      ],
      "metadata": {
        "id": "u8ZsSUF5qKhB"
      },
      "execution_count": 8,
      "outputs": []
    },
    {
      "cell_type": "markdown",
      "source": [
        "## Device Configuration"
      ],
      "metadata": {
        "id": "deix3T4B9Zru"
      }
    },
    {
      "cell_type": "code",
      "source": [
        "device = torch.device('cuda' if torch.cuda.is_available() else 'cpu')"
      ],
      "metadata": {
        "id": "EiA2OWXb9cA8"
      },
      "execution_count": 9,
      "outputs": []
    },
    {
      "cell_type": "markdown",
      "source": [
        "## Mounting to Google Drive"
      ],
      "metadata": {
        "id": "5SF7nRp3p0p-"
      }
    },
    {
      "cell_type": "code",
      "source": [
        "drive.mount(DRIVE_MOUNTED_PATH)"
      ],
      "metadata": {
        "colab": {
          "base_uri": "https://localhost:8080/"
        },
        "id": "l6EZ_ji1qEK1",
        "outputId": "33aaa36e-d878-4dfe-9c34-d6f5088ca366"
      },
      "execution_count": 10,
      "outputs": [
        {
          "output_type": "stream",
          "name": "stdout",
          "text": [
            "Drive already mounted at /content/drive/; to attempt to forcibly remount, call drive.mount(\"/content/drive/\", force_remount=True).\n"
          ]
        }
      ]
    },
    {
      "cell_type": "markdown",
      "source": [
        "# Data Preprocessing"
      ],
      "metadata": {
        "id": "MxDjNEfX8JH-"
      }
    },
    {
      "cell_type": "markdown",
      "source": [
        "## Reading Dataset"
      ],
      "metadata": {
        "id": "UqnBWzqn8MW1"
      }
    },
    {
      "cell_type": "code",
      "source": [
        "twitter_suicidal_data = pd.read_csv(TWITTER_SUICIDAL_DATASET_PATH)"
      ],
      "metadata": {
        "id": "BW2zcmGf8R67"
      },
      "execution_count": 11,
      "outputs": []
    },
    {
      "cell_type": "code",
      "source": [
        "twitter_suicidal_data"
      ],
      "metadata": {
        "colab": {
          "base_uri": "https://localhost:8080/",
          "height": 424
        },
        "id": "bRv_q_Fp8xzO",
        "outputId": "ddf9732f-5df9-400b-d664-86725404d146"
      },
      "execution_count": 12,
      "outputs": [
        {
          "output_type": "execute_result",
          "data": {
            "text/plain": [
              "                                                  tweet  intention\n",
              "0     my life is meaningless i just want to end my l...          1\n",
              "1     muttering i wanna die to myself daily for a fe...          1\n",
              "2     work slave i really feel like my only purpose ...          1\n",
              "3     i did something on the 2 of october i overdose...          1\n",
              "4     i feel like no one cares i just want to die ma...          1\n",
              "...                                                 ...        ...\n",
              "9114  have you ever laid on your bed at night and cr...          1\n",
              "9115  the fault the blame the pain s still there i m...          1\n",
              "9116  stop asking me to trust you when i m still cou...          1\n",
              "9117  i never know how to handle sadness crying make...          1\n",
              "9118  when cancer takes a life we blame cancer depre...          1\n",
              "\n",
              "[9119 rows x 2 columns]"
            ],
            "text/html": [
              "\n",
              "  <div id=\"df-5d6397e2-c6e7-4e80-bcb9-8a234895394e\" class=\"colab-df-container\">\n",
              "    <div>\n",
              "<style scoped>\n",
              "    .dataframe tbody tr th:only-of-type {\n",
              "        vertical-align: middle;\n",
              "    }\n",
              "\n",
              "    .dataframe tbody tr th {\n",
              "        vertical-align: top;\n",
              "    }\n",
              "\n",
              "    .dataframe thead th {\n",
              "        text-align: right;\n",
              "    }\n",
              "</style>\n",
              "<table border=\"1\" class=\"dataframe\">\n",
              "  <thead>\n",
              "    <tr style=\"text-align: right;\">\n",
              "      <th></th>\n",
              "      <th>tweet</th>\n",
              "      <th>intention</th>\n",
              "    </tr>\n",
              "  </thead>\n",
              "  <tbody>\n",
              "    <tr>\n",
              "      <th>0</th>\n",
              "      <td>my life is meaningless i just want to end my l...</td>\n",
              "      <td>1</td>\n",
              "    </tr>\n",
              "    <tr>\n",
              "      <th>1</th>\n",
              "      <td>muttering i wanna die to myself daily for a fe...</td>\n",
              "      <td>1</td>\n",
              "    </tr>\n",
              "    <tr>\n",
              "      <th>2</th>\n",
              "      <td>work slave i really feel like my only purpose ...</td>\n",
              "      <td>1</td>\n",
              "    </tr>\n",
              "    <tr>\n",
              "      <th>3</th>\n",
              "      <td>i did something on the 2 of october i overdose...</td>\n",
              "      <td>1</td>\n",
              "    </tr>\n",
              "    <tr>\n",
              "      <th>4</th>\n",
              "      <td>i feel like no one cares i just want to die ma...</td>\n",
              "      <td>1</td>\n",
              "    </tr>\n",
              "    <tr>\n",
              "      <th>...</th>\n",
              "      <td>...</td>\n",
              "      <td>...</td>\n",
              "    </tr>\n",
              "    <tr>\n",
              "      <th>9114</th>\n",
              "      <td>have you ever laid on your bed at night and cr...</td>\n",
              "      <td>1</td>\n",
              "    </tr>\n",
              "    <tr>\n",
              "      <th>9115</th>\n",
              "      <td>the fault the blame the pain s still there i m...</td>\n",
              "      <td>1</td>\n",
              "    </tr>\n",
              "    <tr>\n",
              "      <th>9116</th>\n",
              "      <td>stop asking me to trust you when i m still cou...</td>\n",
              "      <td>1</td>\n",
              "    </tr>\n",
              "    <tr>\n",
              "      <th>9117</th>\n",
              "      <td>i never know how to handle sadness crying make...</td>\n",
              "      <td>1</td>\n",
              "    </tr>\n",
              "    <tr>\n",
              "      <th>9118</th>\n",
              "      <td>when cancer takes a life we blame cancer depre...</td>\n",
              "      <td>1</td>\n",
              "    </tr>\n",
              "  </tbody>\n",
              "</table>\n",
              "<p>9119 rows × 2 columns</p>\n",
              "</div>\n",
              "    <div class=\"colab-df-buttons\">\n",
              "\n",
              "  <div class=\"colab-df-container\">\n",
              "    <button class=\"colab-df-convert\" onclick=\"convertToInteractive('df-5d6397e2-c6e7-4e80-bcb9-8a234895394e')\"\n",
              "            title=\"Convert this dataframe to an interactive table.\"\n",
              "            style=\"display:none;\">\n",
              "\n",
              "  <svg xmlns=\"http://www.w3.org/2000/svg\" height=\"24px\" viewBox=\"0 -960 960 960\">\n",
              "    <path d=\"M120-120v-720h720v720H120Zm60-500h600v-160H180v160Zm220 220h160v-160H400v160Zm0 220h160v-160H400v160ZM180-400h160v-160H180v160Zm440 0h160v-160H620v160ZM180-180h160v-160H180v160Zm440 0h160v-160H620v160Z\"/>\n",
              "  </svg>\n",
              "    </button>\n",
              "\n",
              "  <style>\n",
              "    .colab-df-container {\n",
              "      display:flex;\n",
              "      gap: 12px;\n",
              "    }\n",
              "\n",
              "    .colab-df-convert {\n",
              "      background-color: #E8F0FE;\n",
              "      border: none;\n",
              "      border-radius: 50%;\n",
              "      cursor: pointer;\n",
              "      display: none;\n",
              "      fill: #1967D2;\n",
              "      height: 32px;\n",
              "      padding: 0 0 0 0;\n",
              "      width: 32px;\n",
              "    }\n",
              "\n",
              "    .colab-df-convert:hover {\n",
              "      background-color: #E2EBFA;\n",
              "      box-shadow: 0px 1px 2px rgba(60, 64, 67, 0.3), 0px 1px 3px 1px rgba(60, 64, 67, 0.15);\n",
              "      fill: #174EA6;\n",
              "    }\n",
              "\n",
              "    .colab-df-buttons div {\n",
              "      margin-bottom: 4px;\n",
              "    }\n",
              "\n",
              "    [theme=dark] .colab-df-convert {\n",
              "      background-color: #3B4455;\n",
              "      fill: #D2E3FC;\n",
              "    }\n",
              "\n",
              "    [theme=dark] .colab-df-convert:hover {\n",
              "      background-color: #434B5C;\n",
              "      box-shadow: 0px 1px 3px 1px rgba(0, 0, 0, 0.15);\n",
              "      filter: drop-shadow(0px 1px 2px rgba(0, 0, 0, 0.3));\n",
              "      fill: #FFFFFF;\n",
              "    }\n",
              "  </style>\n",
              "\n",
              "    <script>\n",
              "      const buttonEl =\n",
              "        document.querySelector('#df-5d6397e2-c6e7-4e80-bcb9-8a234895394e button.colab-df-convert');\n",
              "      buttonEl.style.display =\n",
              "        google.colab.kernel.accessAllowed ? 'block' : 'none';\n",
              "\n",
              "      async function convertToInteractive(key) {\n",
              "        const element = document.querySelector('#df-5d6397e2-c6e7-4e80-bcb9-8a234895394e');\n",
              "        const dataTable =\n",
              "          await google.colab.kernel.invokeFunction('convertToInteractive',\n",
              "                                                    [key], {});\n",
              "        if (!dataTable) return;\n",
              "\n",
              "        const docLinkHtml = 'Like what you see? Visit the ' +\n",
              "          '<a target=\"_blank\" href=https://colab.research.google.com/notebooks/data_table.ipynb>data table notebook</a>'\n",
              "          + ' to learn more about interactive tables.';\n",
              "        element.innerHTML = '';\n",
              "        dataTable['output_type'] = 'display_data';\n",
              "        await google.colab.output.renderOutput(dataTable, element);\n",
              "        const docLink = document.createElement('div');\n",
              "        docLink.innerHTML = docLinkHtml;\n",
              "        element.appendChild(docLink);\n",
              "      }\n",
              "    </script>\n",
              "  </div>\n",
              "\n",
              "\n",
              "<div id=\"df-504b6d08-893a-41bc-8c1a-38ba729f17bb\">\n",
              "  <button class=\"colab-df-quickchart\" onclick=\"quickchart('df-504b6d08-893a-41bc-8c1a-38ba729f17bb')\"\n",
              "            title=\"Suggest charts\"\n",
              "            style=\"display:none;\">\n",
              "\n",
              "<svg xmlns=\"http://www.w3.org/2000/svg\" height=\"24px\"viewBox=\"0 0 24 24\"\n",
              "     width=\"24px\">\n",
              "    <g>\n",
              "        <path d=\"M19 3H5c-1.1 0-2 .9-2 2v14c0 1.1.9 2 2 2h14c1.1 0 2-.9 2-2V5c0-1.1-.9-2-2-2zM9 17H7v-7h2v7zm4 0h-2V7h2v10zm4 0h-2v-4h2v4z\"/>\n",
              "    </g>\n",
              "</svg>\n",
              "  </button>\n",
              "\n",
              "<style>\n",
              "  .colab-df-quickchart {\n",
              "      --bg-color: #E8F0FE;\n",
              "      --fill-color: #1967D2;\n",
              "      --hover-bg-color: #E2EBFA;\n",
              "      --hover-fill-color: #174EA6;\n",
              "      --disabled-fill-color: #AAA;\n",
              "      --disabled-bg-color: #DDD;\n",
              "  }\n",
              "\n",
              "  [theme=dark] .colab-df-quickchart {\n",
              "      --bg-color: #3B4455;\n",
              "      --fill-color: #D2E3FC;\n",
              "      --hover-bg-color: #434B5C;\n",
              "      --hover-fill-color: #FFFFFF;\n",
              "      --disabled-bg-color: #3B4455;\n",
              "      --disabled-fill-color: #666;\n",
              "  }\n",
              "\n",
              "  .colab-df-quickchart {\n",
              "    background-color: var(--bg-color);\n",
              "    border: none;\n",
              "    border-radius: 50%;\n",
              "    cursor: pointer;\n",
              "    display: none;\n",
              "    fill: var(--fill-color);\n",
              "    height: 32px;\n",
              "    padding: 0;\n",
              "    width: 32px;\n",
              "  }\n",
              "\n",
              "  .colab-df-quickchart:hover {\n",
              "    background-color: var(--hover-bg-color);\n",
              "    box-shadow: 0 1px 2px rgba(60, 64, 67, 0.3), 0 1px 3px 1px rgba(60, 64, 67, 0.15);\n",
              "    fill: var(--button-hover-fill-color);\n",
              "  }\n",
              "\n",
              "  .colab-df-quickchart-complete:disabled,\n",
              "  .colab-df-quickchart-complete:disabled:hover {\n",
              "    background-color: var(--disabled-bg-color);\n",
              "    fill: var(--disabled-fill-color);\n",
              "    box-shadow: none;\n",
              "  }\n",
              "\n",
              "  .colab-df-spinner {\n",
              "    border: 2px solid var(--fill-color);\n",
              "    border-color: transparent;\n",
              "    border-bottom-color: var(--fill-color);\n",
              "    animation:\n",
              "      spin 1s steps(1) infinite;\n",
              "  }\n",
              "\n",
              "  @keyframes spin {\n",
              "    0% {\n",
              "      border-color: transparent;\n",
              "      border-bottom-color: var(--fill-color);\n",
              "      border-left-color: var(--fill-color);\n",
              "    }\n",
              "    20% {\n",
              "      border-color: transparent;\n",
              "      border-left-color: var(--fill-color);\n",
              "      border-top-color: var(--fill-color);\n",
              "    }\n",
              "    30% {\n",
              "      border-color: transparent;\n",
              "      border-left-color: var(--fill-color);\n",
              "      border-top-color: var(--fill-color);\n",
              "      border-right-color: var(--fill-color);\n",
              "    }\n",
              "    40% {\n",
              "      border-color: transparent;\n",
              "      border-right-color: var(--fill-color);\n",
              "      border-top-color: var(--fill-color);\n",
              "    }\n",
              "    60% {\n",
              "      border-color: transparent;\n",
              "      border-right-color: var(--fill-color);\n",
              "    }\n",
              "    80% {\n",
              "      border-color: transparent;\n",
              "      border-right-color: var(--fill-color);\n",
              "      border-bottom-color: var(--fill-color);\n",
              "    }\n",
              "    90% {\n",
              "      border-color: transparent;\n",
              "      border-bottom-color: var(--fill-color);\n",
              "    }\n",
              "  }\n",
              "</style>\n",
              "\n",
              "  <script>\n",
              "    async function quickchart(key) {\n",
              "      const quickchartButtonEl =\n",
              "        document.querySelector('#' + key + ' button');\n",
              "      quickchartButtonEl.disabled = true;  // To prevent multiple clicks.\n",
              "      quickchartButtonEl.classList.add('colab-df-spinner');\n",
              "      try {\n",
              "        const charts = await google.colab.kernel.invokeFunction(\n",
              "            'suggestCharts', [key], {});\n",
              "      } catch (error) {\n",
              "        console.error('Error during call to suggestCharts:', error);\n",
              "      }\n",
              "      quickchartButtonEl.classList.remove('colab-df-spinner');\n",
              "      quickchartButtonEl.classList.add('colab-df-quickchart-complete');\n",
              "    }\n",
              "    (() => {\n",
              "      let quickchartButtonEl =\n",
              "        document.querySelector('#df-504b6d08-893a-41bc-8c1a-38ba729f17bb button');\n",
              "      quickchartButtonEl.style.display =\n",
              "        google.colab.kernel.accessAllowed ? 'block' : 'none';\n",
              "    })();\n",
              "  </script>\n",
              "</div>\n",
              "    </div>\n",
              "  </div>\n"
            ],
            "application/vnd.google.colaboratory.intrinsic+json": {
              "type": "dataframe",
              "variable_name": "twitter_suicidal_data",
              "summary": "{\n  \"name\": \"twitter_suicidal_data\",\n  \"rows\": 9119,\n  \"fields\": [\n    {\n      \"column\": \"tweet\",\n      \"properties\": {\n        \"dtype\": \"string\",\n        \"num_unique_values\": 8785,\n        \"samples\": [\n          \"i am so frustrated i hanged myself 6 and half weeks ago i barely survived i have a scar on my neck from the 12 inch manilla that cut into my neck yet all i can think of right now is blowing my head off i am on 20mg lexapro 10mg zyprexa and 100mg lamotrigine i spent all of yesterday cutting into my chest because the pain makes not see the hallucinations i get every hour of every day i just want to live a normal life\",\n          \"cold shower ftw too bad clothes had to be put back on it s too hot \",\n          \"rip jack kemp a great american patriot i always wanted to meet and now never will \"\n        ],\n        \"semantic_type\": \"\",\n        \"description\": \"\"\n      }\n    },\n    {\n      \"column\": \"intention\",\n      \"properties\": {\n        \"dtype\": \"number\",\n        \"std\": 0,\n        \"min\": 0,\n        \"max\": 1,\n        \"num_unique_values\": 2,\n        \"samples\": [\n          0,\n          1\n        ],\n        \"semantic_type\": \"\",\n        \"description\": \"\"\n      }\n    }\n  ]\n}"
            }
          },
          "metadata": {},
          "execution_count": 12
        }
      ]
    },
    {
      "cell_type": "code",
      "source": [
        "twitter_suicidal_data_cleaned = twitter_suicidal_data.copy()"
      ],
      "metadata": {
        "id": "FY-D-eBV9RWX"
      },
      "execution_count": 13,
      "outputs": []
    },
    {
      "cell_type": "markdown",
      "source": [
        "## Convert to lowercase"
      ],
      "metadata": {
        "id": "dwgkvGU_9MEd"
      }
    },
    {
      "cell_type": "markdown",
      "source": [
        "Converting all text to lowercase ensures uniformity. It helps in matching words correctly regardless of their case, reducing redundancy (e.g., \"Python\" and \"python\" are considered the same word).\n",
        "<br>\n",
        "Pros:\n",
        "- **Normalization**: Converting text to lowercase helps normalize the text by ensuring consistency. It treats words with different cases (e.g., \"Hello\", \"hello\", \"HELLO\") as the same, which can simplify text processing and analysis.\n",
        "\n",
        "- **Reduced Vocabulary Size**: Lowercasing reduces the number of distinct tokens in the text, which can improve the efficiency of downstream tasks such as tokenization, indexing, and modeling. This is particularly beneficial for tasks with limited computational resources.\n",
        "\n",
        "- **Improved Matching**: Lowercasing facilitates case-insensitive matching. This is useful in tasks such as search, comparison, and retrieval, where case sensitivity might not be desired or necessary.\n",
        "\n",
        "- **Standardization**: Lowercasing helps standardize text data, making it consistent across different sources, systems, and languages. It ensures that text processing pipelines produce consistent results regardless of the original casing.\n",
        "\n",
        "Cons:\n",
        "- **Loss of Information**: Lowercasing can lead to the loss of information, especially in cases where the distinction between uppercase and lowercase letters is semantically meaningful. For example, proper nouns, acronyms, and emphasis can be lost when converted to lowercase.\n",
        "\n",
        "- **Misinterpretation of Entities**: Lowercasing can potentially alter the interpretation of named entities (e.g., \"USA\" to \"usa\"), leading to ambiguity or misinterpretation in text analysis tasks, such as named entity recognition or entity disambiguation.\n",
        "\n",
        "- **Loss of Emphasis**: Lowercasing removes emphasis conveyed by uppercase letters, which might be important for conveying tone, emphasis, or significance in the text. This can affect tasks such as sentiment analysis or text summarization."
      ],
      "metadata": {
        "id": "qg96Ob8e9j8m"
      }
    },
    {
      "cell_type": "markdown",
      "source": [
        "## Remove Punctuation"
      ],
      "metadata": {
        "id": "VRLT9_LQ9pMU"
      }
    },
    {
      "cell_type": "markdown",
      "source": [
        "Punctuation marks are generally not useful in most text analysis tasks (e.g., sentiment analysis) and can be removed to focus on the words themselves. This step simplifies tokenization and text processing."
      ],
      "metadata": {
        "id": "KXjN_mJK9r_5"
      }
    },
    {
      "cell_type": "markdown",
      "source": [
        "## Removing Numbers"
      ],
      "metadata": {
        "id": "uyE2yzW_9u-r"
      }
    },
    {
      "cell_type": "markdown",
      "source": [
        "Numbers in text data, especially from social media, can be noisy and might not contribute meaningfully to the analysis. For example, random numbers, dates, and phone numbers often do not hold significant value in text sentiment analysis or other NLP tasks.\n",
        "<br>\n",
        "Pros:\n",
        "- **Improved Text Clarity**: Removing numbers can make the text clearer and more readable, especially in tasks like sentiment analysis, topic modeling, or text summarization, where numbers might not contribute to the overall meaning.\n",
        "\n",
        "- **Reduced Vocabulary Size**: By eliminating numbers, you reduce the size of the vocabulary, which can simplify text processing tasks such as tokenization, indexing, and modeling. This can lead to more efficient algorithms and reduced computational overhead.\n",
        "\n",
        "- **Focused Analysis**: In some cases, numbers are noise that distracts from the main content of the text. By removing them, you can focus your analysis on the relevant textual information, leading to more accurate results.\n",
        "\n",
        "Cons:\n",
        "- **Loss of Information**: Removing numbers may result in the loss of valuable information, especially in contexts where numerical data is significant, such as financial reports, scientific documents, or technical manuals. The presence of numbers can convey quantitative information, dates, measurements, or other important details.\n",
        "\n",
        "- **Altered Meaning**: In certain text analysis tasks, such as sentiment analysis or opinion mining, numbers may carry emotional or contextual significance. Removing them could potentially alter the meaning or sentiment of the text, leading to misinterpretation.\n",
        "\n",
        "- **Impact on Tasks**: Removing numbers may not be suitable for all tasks or datasets. In some cases, such as text classification based on numerical patterns or sentiment analysis of numerical reviews, preserving numbers might be essential for accurate analysis."
      ],
      "metadata": {
        "id": "JqRPl3ayM-jl"
      }
    },
    {
      "cell_type": "markdown",
      "source": [
        "## Remove URLs"
      ],
      "metadata": {
        "id": "-3yl1ORv99M3"
      }
    },
    {
      "cell_type": "markdown",
      "source": [
        "URLs are often not useful for text analysis and can introduce noise. They usually don't contribute to the sentiment or meaning of the tweet and can be safely removed to focus on the actual content."
      ],
      "metadata": {
        "id": "b5V61R-u-Cro"
      }
    },
    {
      "cell_type": "markdown",
      "source": [
        "## Remove Mentions"
      ],
      "metadata": {
        "id": "lfOjqevO-Mo_"
      }
    },
    {
      "cell_type": "markdown",
      "source": [
        "Mentions (e.g., @elonmusk) are specific to Twitter and do not usually contribute to the semantic content of the text. Removing them helps in focusing on the message rather than the addressed users."
      ],
      "metadata": {
        "id": "7dfOohQa-N3l"
      }
    },
    {
      "cell_type": "markdown",
      "source": [
        "## Remove Emojis"
      ],
      "metadata": {
        "id": "XRDHJYu6-aPM"
      }
    },
    {
      "cell_type": "markdown",
      "source": [
        "Emojis can convey sentiment and meaning, but they might complicate text processing. If the analysis does not benefit from emojis, removing them can simplify the text. However, if you are interested in the sentiment or emotional content, you might want to keep them or replace them with corresponding text descriptions."
      ],
      "metadata": {
        "id": "Cg3Kxr6v-bbl"
      }
    },
    {
      "cell_type": "markdown",
      "source": [
        "## Space Uniformity"
      ],
      "metadata": {
        "id": "AzeCMmjdHwtb"
      }
    },
    {
      "cell_type": "markdown",
      "source": [
        "\n",
        "Ensuring uniformity of spaces is an important step in text preprocessing. It involves removing extra spaces, leading and trailing spaces, and ensuring that words are properly separated by a single space. This helps in maintaining consistency and avoiding potential issues in tokenization or further analysis."
      ],
      "metadata": {
        "id": "G9qg8ex4HxcL"
      }
    },
    {
      "cell_type": "markdown",
      "source": [
        "## Tokenize"
      ],
      "metadata": {
        "id": "oC3PUSvdHz6k"
      }
    },
    {
      "cell_type": "markdown",
      "source": [
        "Tokenization splits the text into individual words (tokens). This is a crucial step for many text processing tasks like filtering out stopwords, analyzing word frequencies, and further text analysis.\n",
        "\n"
      ],
      "metadata": {
        "id": "YYhbuoNnIRTt"
      }
    },
    {
      "cell_type": "markdown",
      "source": [
        "## Remove Stopwords"
      ],
      "metadata": {
        "id": "UrDceEmpIUYK"
      }
    },
    {
      "cell_type": "markdown",
      "source": [
        "Stopwords (e.g., \"and\", \"is\", \"in\") are common words that usually do not carry significant meaning and can be removed to focus on the more meaningful words. This reduces the dimensionality of the data and improves analysis efficiency."
      ],
      "metadata": {
        "id": "KWw2sG_-IU90"
      }
    },
    {
      "cell_type": "markdown",
      "source": [
        "## Remove Hashtags"
      ],
      "metadata": {
        "id": "1gY6hB-DN6M9"
      }
    },
    {
      "cell_type": "markdown",
      "source": [
        "Preserving hashtags in suicidal tweets can provide valuable contextual information and improve model accuracy in certain cases, but it also carries risks of introducing noise, overfitting, and ethical concerns. The impact on model accuracy depends on various factors, including the quality of the data, the task at hand, and the design of the model. Therefore, it's crucial to carefully evaluate the trade-offs and implications of preserving hashtags in suicidal tweets and to adopt appropriate strategies for mitigating potential risks while maximizing the benefits of contextual information."
      ],
      "metadata": {
        "id": "FV7oZ7y4N7-P"
      }
    },
    {
      "cell_type": "markdown",
      "source": [
        "## Implementation"
      ],
      "metadata": {
        "id": "e6vA0BOvJLwc"
      }
    },
    {
      "cell_type": "code",
      "source": [
        "# Download Stopwords\n",
        "nltk.download('stopwords')\n",
        "nltk.download('punkt')"
      ],
      "metadata": {
        "id": "U2gvTC9uJI3Z",
        "outputId": "17f0f352-bf4c-4941-f4d0-f554dc0714ab",
        "colab": {
          "base_uri": "https://localhost:8080/"
        }
      },
      "execution_count": 14,
      "outputs": [
        {
          "output_type": "stream",
          "name": "stderr",
          "text": [
            "[nltk_data] Downloading package stopwords to /root/nltk_data...\n",
            "[nltk_data]   Package stopwords is already up-to-date!\n",
            "[nltk_data] Downloading package punkt to /root/nltk_data...\n",
            "[nltk_data]   Package punkt is already up-to-date!\n"
          ]
        },
        {
          "output_type": "execute_result",
          "data": {
            "text/plain": [
              "True"
            ]
          },
          "metadata": {},
          "execution_count": 14
        }
      ]
    },
    {
      "cell_type": "code",
      "source": [
        "def preprocess_tweet(tweet):\n",
        "  tweet = tweet.lower()\n",
        "  tweet = re.sub(r'[^\\w\\s]', '', tweet)\n",
        "  tweet = re.sub(r'\\d+', '', tweet)\n",
        "  tweet = re.sub(r'http\\S+|www\\S+|https\\S+', '', tweet, flags=re.MULTILINE)\n",
        "  tweet = re.sub(r'@\\w+', '', tweet)\n",
        "  tweet = demojize(tweet)\n",
        "  tweet = re.sub(r'\\s+', ' ', tweet).strip()\n",
        "  return tweet"
      ],
      "metadata": {
        "id": "y0LsIMRKIbQF"
      },
      "execution_count": 15,
      "outputs": []
    },
    {
      "cell_type": "code",
      "source": [
        "def tokenize_cleaned_tweet(cleaned_tweet):\n",
        "  tokens = word_tokenize(cleaned_tweet)\n",
        "  tokens = [word for word in tokens if word not in stopwords.words('english')]\n",
        "  return tokens"
      ],
      "metadata": {
        "id": "pn7UTn8uP5FQ"
      },
      "execution_count": 16,
      "outputs": []
    },
    {
      "cell_type": "code",
      "source": [
        "twitter_suicidal_data_cleaned['cleaned_tweet'] = twitter_suicidal_data_cleaned['tweet'].apply(preprocess_tweet)"
      ],
      "metadata": {
        "id": "2bmdS866OCJO"
      },
      "execution_count": 17,
      "outputs": []
    },
    {
      "cell_type": "code",
      "source": [
        "sample_tweet = twitter_suicidal_data_cleaned.sample(n=5)"
      ],
      "metadata": {
        "id": "v17CPBqYQtv3"
      },
      "execution_count": 18,
      "outputs": []
    },
    {
      "cell_type": "code",
      "source": [
        "sample_tweet['tweet'].head()"
      ],
      "metadata": {
        "id": "FgXbZCDSPQpi",
        "outputId": "bec612b7-f955-4f59-a744-134e054ef5f8",
        "colab": {
          "base_uri": "https://localhost:8080/"
        }
      },
      "execution_count": 19,
      "outputs": [
        {
          "output_type": "execute_result",
          "data": {
            "text/plain": [
              "2646    id do anything to die but id never kill myself...\n",
              "7688    i seems out governor along with a lot of other...\n",
              "7785    this country wants me to die and at this rate ...\n",
              "7344    jesus christ all i wanted was some support but...\n",
              "5999     ahaha lol srsly plus you in prison would make...\n",
              "Name: tweet, dtype: object"
            ]
          },
          "metadata": {},
          "execution_count": 19
        }
      ]
    },
    {
      "cell_type": "code",
      "source": [
        "sample_tweet['cleaned_tweet'].head()"
      ],
      "metadata": {
        "id": "D3bb25HEQVyB",
        "outputId": "3447fd2f-8078-463e-b8b0-7adf64579c2b",
        "colab": {
          "base_uri": "https://localhost:8080/"
        }
      },
      "execution_count": 20,
      "outputs": [
        {
          "output_type": "execute_result",
          "data": {
            "text/plain": [
              "2646    id do anything to die but id never kill myself...\n",
              "7688    i seems out governor along with a lot of other...\n",
              "7785    this country wants me to die and at this rate ...\n",
              "7344    jesus christ all i wanted was some support but...\n",
              "5999    ahaha lol srsly plus you in prison would make ...\n",
              "Name: cleaned_tweet, dtype: object"
            ]
          },
          "metadata": {},
          "execution_count": 20
        }
      ]
    },
    {
      "cell_type": "code",
      "source": [
        "twitter_suicidal_data_cleaned['tokens'] = twitter_suicidal_data_cleaned['cleaned_tweet'].apply(tokenize_cleaned_tweet)"
      ],
      "metadata": {
        "id": "yEyT0xrjQzno"
      },
      "execution_count": 21,
      "outputs": []
    },
    {
      "cell_type": "markdown",
      "source": [
        "## Describe Result"
      ],
      "metadata": {
        "id": "I9fd9NADRavQ"
      }
    },
    {
      "cell_type": "code",
      "source": [
        "twitter_suicidal_data_cleaned.head()"
      ],
      "metadata": {
        "id": "gdirAwuFRpjj",
        "outputId": "e5338d7c-d3f0-48ee-e61d-0c28f15aa651",
        "colab": {
          "base_uri": "https://localhost:8080/",
          "height": 206
        }
      },
      "execution_count": 22,
      "outputs": [
        {
          "output_type": "execute_result",
          "data": {
            "text/plain": [
              "                                               tweet  intention  \\\n",
              "0  my life is meaningless i just want to end my l...          1   \n",
              "1  muttering i wanna die to myself daily for a fe...          1   \n",
              "2  work slave i really feel like my only purpose ...          1   \n",
              "3  i did something on the 2 of october i overdose...          1   \n",
              "4  i feel like no one cares i just want to die ma...          1   \n",
              "\n",
              "                                       cleaned_tweet  \\\n",
              "0  my life is meaningless i just want to end my l...   \n",
              "1  muttering i wanna die to myself daily for a fe...   \n",
              "2  work slave i really feel like my only purpose ...   \n",
              "3  i did something on the of october i overdosed ...   \n",
              "4  i feel like no one cares i just want to die ma...   \n",
              "\n",
              "                                              tokens  \n",
              "0  [life, meaningless, want, end, life, badly, li...  \n",
              "1  [muttering, wan, na, die, daily, months, feel,...  \n",
              "2  [work, slave, really, feel, like, purpose, lif...  \n",
              "3  [something, october, overdosed, felt, alone, h...  \n",
              "4  [feel, like, one, cares, want, die, maybe, fee...  "
            ],
            "text/html": [
              "\n",
              "  <div id=\"df-40a14018-4407-4412-9f04-9643eb0e8168\" class=\"colab-df-container\">\n",
              "    <div>\n",
              "<style scoped>\n",
              "    .dataframe tbody tr th:only-of-type {\n",
              "        vertical-align: middle;\n",
              "    }\n",
              "\n",
              "    .dataframe tbody tr th {\n",
              "        vertical-align: top;\n",
              "    }\n",
              "\n",
              "    .dataframe thead th {\n",
              "        text-align: right;\n",
              "    }\n",
              "</style>\n",
              "<table border=\"1\" class=\"dataframe\">\n",
              "  <thead>\n",
              "    <tr style=\"text-align: right;\">\n",
              "      <th></th>\n",
              "      <th>tweet</th>\n",
              "      <th>intention</th>\n",
              "      <th>cleaned_tweet</th>\n",
              "      <th>tokens</th>\n",
              "    </tr>\n",
              "  </thead>\n",
              "  <tbody>\n",
              "    <tr>\n",
              "      <th>0</th>\n",
              "      <td>my life is meaningless i just want to end my l...</td>\n",
              "      <td>1</td>\n",
              "      <td>my life is meaningless i just want to end my l...</td>\n",
              "      <td>[life, meaningless, want, end, life, badly, li...</td>\n",
              "    </tr>\n",
              "    <tr>\n",
              "      <th>1</th>\n",
              "      <td>muttering i wanna die to myself daily for a fe...</td>\n",
              "      <td>1</td>\n",
              "      <td>muttering i wanna die to myself daily for a fe...</td>\n",
              "      <td>[muttering, wan, na, die, daily, months, feel,...</td>\n",
              "    </tr>\n",
              "    <tr>\n",
              "      <th>2</th>\n",
              "      <td>work slave i really feel like my only purpose ...</td>\n",
              "      <td>1</td>\n",
              "      <td>work slave i really feel like my only purpose ...</td>\n",
              "      <td>[work, slave, really, feel, like, purpose, lif...</td>\n",
              "    </tr>\n",
              "    <tr>\n",
              "      <th>3</th>\n",
              "      <td>i did something on the 2 of october i overdose...</td>\n",
              "      <td>1</td>\n",
              "      <td>i did something on the of october i overdosed ...</td>\n",
              "      <td>[something, october, overdosed, felt, alone, h...</td>\n",
              "    </tr>\n",
              "    <tr>\n",
              "      <th>4</th>\n",
              "      <td>i feel like no one cares i just want to die ma...</td>\n",
              "      <td>1</td>\n",
              "      <td>i feel like no one cares i just want to die ma...</td>\n",
              "      <td>[feel, like, one, cares, want, die, maybe, fee...</td>\n",
              "    </tr>\n",
              "  </tbody>\n",
              "</table>\n",
              "</div>\n",
              "    <div class=\"colab-df-buttons\">\n",
              "\n",
              "  <div class=\"colab-df-container\">\n",
              "    <button class=\"colab-df-convert\" onclick=\"convertToInteractive('df-40a14018-4407-4412-9f04-9643eb0e8168')\"\n",
              "            title=\"Convert this dataframe to an interactive table.\"\n",
              "            style=\"display:none;\">\n",
              "\n",
              "  <svg xmlns=\"http://www.w3.org/2000/svg\" height=\"24px\" viewBox=\"0 -960 960 960\">\n",
              "    <path d=\"M120-120v-720h720v720H120Zm60-500h600v-160H180v160Zm220 220h160v-160H400v160Zm0 220h160v-160H400v160ZM180-400h160v-160H180v160Zm440 0h160v-160H620v160ZM180-180h160v-160H180v160Zm440 0h160v-160H620v160Z\"/>\n",
              "  </svg>\n",
              "    </button>\n",
              "\n",
              "  <style>\n",
              "    .colab-df-container {\n",
              "      display:flex;\n",
              "      gap: 12px;\n",
              "    }\n",
              "\n",
              "    .colab-df-convert {\n",
              "      background-color: #E8F0FE;\n",
              "      border: none;\n",
              "      border-radius: 50%;\n",
              "      cursor: pointer;\n",
              "      display: none;\n",
              "      fill: #1967D2;\n",
              "      height: 32px;\n",
              "      padding: 0 0 0 0;\n",
              "      width: 32px;\n",
              "    }\n",
              "\n",
              "    .colab-df-convert:hover {\n",
              "      background-color: #E2EBFA;\n",
              "      box-shadow: 0px 1px 2px rgba(60, 64, 67, 0.3), 0px 1px 3px 1px rgba(60, 64, 67, 0.15);\n",
              "      fill: #174EA6;\n",
              "    }\n",
              "\n",
              "    .colab-df-buttons div {\n",
              "      margin-bottom: 4px;\n",
              "    }\n",
              "\n",
              "    [theme=dark] .colab-df-convert {\n",
              "      background-color: #3B4455;\n",
              "      fill: #D2E3FC;\n",
              "    }\n",
              "\n",
              "    [theme=dark] .colab-df-convert:hover {\n",
              "      background-color: #434B5C;\n",
              "      box-shadow: 0px 1px 3px 1px rgba(0, 0, 0, 0.15);\n",
              "      filter: drop-shadow(0px 1px 2px rgba(0, 0, 0, 0.3));\n",
              "      fill: #FFFFFF;\n",
              "    }\n",
              "  </style>\n",
              "\n",
              "    <script>\n",
              "      const buttonEl =\n",
              "        document.querySelector('#df-40a14018-4407-4412-9f04-9643eb0e8168 button.colab-df-convert');\n",
              "      buttonEl.style.display =\n",
              "        google.colab.kernel.accessAllowed ? 'block' : 'none';\n",
              "\n",
              "      async function convertToInteractive(key) {\n",
              "        const element = document.querySelector('#df-40a14018-4407-4412-9f04-9643eb0e8168');\n",
              "        const dataTable =\n",
              "          await google.colab.kernel.invokeFunction('convertToInteractive',\n",
              "                                                    [key], {});\n",
              "        if (!dataTable) return;\n",
              "\n",
              "        const docLinkHtml = 'Like what you see? Visit the ' +\n",
              "          '<a target=\"_blank\" href=https://colab.research.google.com/notebooks/data_table.ipynb>data table notebook</a>'\n",
              "          + ' to learn more about interactive tables.';\n",
              "        element.innerHTML = '';\n",
              "        dataTable['output_type'] = 'display_data';\n",
              "        await google.colab.output.renderOutput(dataTable, element);\n",
              "        const docLink = document.createElement('div');\n",
              "        docLink.innerHTML = docLinkHtml;\n",
              "        element.appendChild(docLink);\n",
              "      }\n",
              "    </script>\n",
              "  </div>\n",
              "\n",
              "\n",
              "<div id=\"df-447de50e-5b2e-4f7c-bcd7-6432b1dd4cd7\">\n",
              "  <button class=\"colab-df-quickchart\" onclick=\"quickchart('df-447de50e-5b2e-4f7c-bcd7-6432b1dd4cd7')\"\n",
              "            title=\"Suggest charts\"\n",
              "            style=\"display:none;\">\n",
              "\n",
              "<svg xmlns=\"http://www.w3.org/2000/svg\" height=\"24px\"viewBox=\"0 0 24 24\"\n",
              "     width=\"24px\">\n",
              "    <g>\n",
              "        <path d=\"M19 3H5c-1.1 0-2 .9-2 2v14c0 1.1.9 2 2 2h14c1.1 0 2-.9 2-2V5c0-1.1-.9-2-2-2zM9 17H7v-7h2v7zm4 0h-2V7h2v10zm4 0h-2v-4h2v4z\"/>\n",
              "    </g>\n",
              "</svg>\n",
              "  </button>\n",
              "\n",
              "<style>\n",
              "  .colab-df-quickchart {\n",
              "      --bg-color: #E8F0FE;\n",
              "      --fill-color: #1967D2;\n",
              "      --hover-bg-color: #E2EBFA;\n",
              "      --hover-fill-color: #174EA6;\n",
              "      --disabled-fill-color: #AAA;\n",
              "      --disabled-bg-color: #DDD;\n",
              "  }\n",
              "\n",
              "  [theme=dark] .colab-df-quickchart {\n",
              "      --bg-color: #3B4455;\n",
              "      --fill-color: #D2E3FC;\n",
              "      --hover-bg-color: #434B5C;\n",
              "      --hover-fill-color: #FFFFFF;\n",
              "      --disabled-bg-color: #3B4455;\n",
              "      --disabled-fill-color: #666;\n",
              "  }\n",
              "\n",
              "  .colab-df-quickchart {\n",
              "    background-color: var(--bg-color);\n",
              "    border: none;\n",
              "    border-radius: 50%;\n",
              "    cursor: pointer;\n",
              "    display: none;\n",
              "    fill: var(--fill-color);\n",
              "    height: 32px;\n",
              "    padding: 0;\n",
              "    width: 32px;\n",
              "  }\n",
              "\n",
              "  .colab-df-quickchart:hover {\n",
              "    background-color: var(--hover-bg-color);\n",
              "    box-shadow: 0 1px 2px rgba(60, 64, 67, 0.3), 0 1px 3px 1px rgba(60, 64, 67, 0.15);\n",
              "    fill: var(--button-hover-fill-color);\n",
              "  }\n",
              "\n",
              "  .colab-df-quickchart-complete:disabled,\n",
              "  .colab-df-quickchart-complete:disabled:hover {\n",
              "    background-color: var(--disabled-bg-color);\n",
              "    fill: var(--disabled-fill-color);\n",
              "    box-shadow: none;\n",
              "  }\n",
              "\n",
              "  .colab-df-spinner {\n",
              "    border: 2px solid var(--fill-color);\n",
              "    border-color: transparent;\n",
              "    border-bottom-color: var(--fill-color);\n",
              "    animation:\n",
              "      spin 1s steps(1) infinite;\n",
              "  }\n",
              "\n",
              "  @keyframes spin {\n",
              "    0% {\n",
              "      border-color: transparent;\n",
              "      border-bottom-color: var(--fill-color);\n",
              "      border-left-color: var(--fill-color);\n",
              "    }\n",
              "    20% {\n",
              "      border-color: transparent;\n",
              "      border-left-color: var(--fill-color);\n",
              "      border-top-color: var(--fill-color);\n",
              "    }\n",
              "    30% {\n",
              "      border-color: transparent;\n",
              "      border-left-color: var(--fill-color);\n",
              "      border-top-color: var(--fill-color);\n",
              "      border-right-color: var(--fill-color);\n",
              "    }\n",
              "    40% {\n",
              "      border-color: transparent;\n",
              "      border-right-color: var(--fill-color);\n",
              "      border-top-color: var(--fill-color);\n",
              "    }\n",
              "    60% {\n",
              "      border-color: transparent;\n",
              "      border-right-color: var(--fill-color);\n",
              "    }\n",
              "    80% {\n",
              "      border-color: transparent;\n",
              "      border-right-color: var(--fill-color);\n",
              "      border-bottom-color: var(--fill-color);\n",
              "    }\n",
              "    90% {\n",
              "      border-color: transparent;\n",
              "      border-bottom-color: var(--fill-color);\n",
              "    }\n",
              "  }\n",
              "</style>\n",
              "\n",
              "  <script>\n",
              "    async function quickchart(key) {\n",
              "      const quickchartButtonEl =\n",
              "        document.querySelector('#' + key + ' button');\n",
              "      quickchartButtonEl.disabled = true;  // To prevent multiple clicks.\n",
              "      quickchartButtonEl.classList.add('colab-df-spinner');\n",
              "      try {\n",
              "        const charts = await google.colab.kernel.invokeFunction(\n",
              "            'suggestCharts', [key], {});\n",
              "      } catch (error) {\n",
              "        console.error('Error during call to suggestCharts:', error);\n",
              "      }\n",
              "      quickchartButtonEl.classList.remove('colab-df-spinner');\n",
              "      quickchartButtonEl.classList.add('colab-df-quickchart-complete');\n",
              "    }\n",
              "    (() => {\n",
              "      let quickchartButtonEl =\n",
              "        document.querySelector('#df-447de50e-5b2e-4f7c-bcd7-6432b1dd4cd7 button');\n",
              "      quickchartButtonEl.style.display =\n",
              "        google.colab.kernel.accessAllowed ? 'block' : 'none';\n",
              "    })();\n",
              "  </script>\n",
              "</div>\n",
              "    </div>\n",
              "  </div>\n"
            ],
            "application/vnd.google.colaboratory.intrinsic+json": {
              "type": "dataframe",
              "variable_name": "twitter_suicidal_data_cleaned",
              "summary": "{\n  \"name\": \"twitter_suicidal_data_cleaned\",\n  \"rows\": 9119,\n  \"fields\": [\n    {\n      \"column\": \"tweet\",\n      \"properties\": {\n        \"dtype\": \"string\",\n        \"num_unique_values\": 8785,\n        \"samples\": [\n          \"i am so frustrated i hanged myself 6 and half weeks ago i barely survived i have a scar on my neck from the 12 inch manilla that cut into my neck yet all i can think of right now is blowing my head off i am on 20mg lexapro 10mg zyprexa and 100mg lamotrigine i spent all of yesterday cutting into my chest because the pain makes not see the hallucinations i get every hour of every day i just want to live a normal life\",\n          \"cold shower ftw too bad clothes had to be put back on it s too hot \",\n          \"rip jack kemp a great american patriot i always wanted to meet and now never will \"\n        ],\n        \"semantic_type\": \"\",\n        \"description\": \"\"\n      }\n    },\n    {\n      \"column\": \"intention\",\n      \"properties\": {\n        \"dtype\": \"number\",\n        \"std\": 0,\n        \"min\": 0,\n        \"max\": 1,\n        \"num_unique_values\": 2,\n        \"samples\": [\n          0,\n          1\n        ],\n        \"semantic_type\": \"\",\n        \"description\": \"\"\n      }\n    },\n    {\n      \"column\": \"cleaned_tweet\",\n      \"properties\": {\n        \"dtype\": \"string\",\n        \"num_unique_values\": 8757,\n        \"samples\": [\n          \"im tiered why do i always work saturday i need a coffee urgent\",\n          \"i feel bad for my cat i didn t feed him this morning before i left\"\n        ],\n        \"semantic_type\": \"\",\n        \"description\": \"\"\n      }\n    },\n    {\n      \"column\": \"tokens\",\n      \"properties\": {\n        \"dtype\": \"object\",\n        \"semantic_type\": \"\",\n        \"description\": \"\"\n      }\n    }\n  ]\n}"
            }
          },
          "metadata": {},
          "execution_count": 22
        }
      ]
    },
    {
      "cell_type": "code",
      "source": [
        "twitter_suicidal_data_cleaned['token_count'] = twitter_suicidal_data_cleaned['tokens'].apply(len)"
      ],
      "metadata": {
        "id": "Rt-VEVVaRs8M"
      },
      "execution_count": 23,
      "outputs": []
    },
    {
      "cell_type": "code",
      "source": [
        "result = twitter_suicidal_data_cleaned.groupby('intention')['token_count'].agg(['mean', 'max', 'min'])\n",
        "print(result)"
      ],
      "metadata": {
        "id": "3BlqAonNRlyI",
        "outputId": "26f8114d-1099-4ab8-d7c0-616eec775475",
        "colab": {
          "base_uri": "https://localhost:8080/"
        }
      },
      "execution_count": null,
      "outputs": [
        {
          "output_type": "stream",
          "name": "stdout",
          "text": [
            "                mean   max  min\n",
            "intention                      \n",
            "0           8.976567    38    0\n",
            "1          73.848424  2147    1\n"
          ]
        }
      ]
    },
    {
      "cell_type": "code",
      "source": [
        "plt.figure(figsize=(10, 6))\n",
        "sns.boxplot(data=twitter_suicidal_data_cleaned, x='intention', y='token_count', showmeans=True, meanline=True)\n",
        "sns.stripplot(data=twitter_suicidal_data_cleaned, x='intention', y='token_count', jitter=True, color='black', alpha=0.5)\n",
        "plt.title('Distribution of Token Counts for Suicidal and Non-Suicidal Tweets')\n",
        "plt.xlabel('Intention')\n",
        "plt.ylabel('Token Count')\n",
        "plt.show()"
      ],
      "metadata": {
        "id": "SpwAM6WfRhMw",
        "outputId": "57c241ce-1efc-46a0-ba99-b3e0b4947dac",
        "colab": {
          "base_uri": "https://localhost:8080/",
          "height": 564
        }
      },
      "execution_count": null,
      "outputs": [
        {
          "output_type": "display_data",
          "data": {
            "text/plain": [
              "<Figure size 1000x600 with 1 Axes>"
            ],
            "image/png": "[encoded data removed]"
          },
          "metadata": {}
        }
      ]
    },
    {
      "cell_type": "markdown",
      "source": [
        "# Feature Vectors"
      ],
      "metadata": {
        "id": "JsHN6Fh5vuXD"
      }
    },
    {
      "cell_type": "markdown",
      "source": [
        "## Word Embedding"
      ],
      "metadata": {
        "id": "Hs9LnxsFvyNc"
      }
    },
    {
      "cell_type": "markdown",
      "source": [
        "Word embeddings are basically representations where contexts and similarities are captured by encoding in a vector space- similar words would have similar representations"
      ],
      "metadata": {
        "id": "o08EghG4wigj"
      }
    },
    {
      "cell_type": "markdown",
      "source": [
        "## Word2Vec"
      ],
      "metadata": {
        "id": "O8udo32uwkeR"
      }
    },
    {
      "cell_type": "code",
      "source": [
        "w2v = api.load(\"word2vec-google-news-300\")"
      ],
      "metadata": {
        "id": "W87jId4f7AT2"
      },
      "execution_count": 24,
      "outputs": []
    },
    {
      "cell_type": "markdown",
      "source": [
        "## Padding"
      ],
      "metadata": {
        "id": "Deucy80C_bWv"
      }
    },
    {
      "cell_type": "markdown",
      "source": [
        "Padding involves adding extra tokens or values to sequences to make them all have the same length. This is often necessary because many machine learning models expect inputs of fixed dimensions. When working with sequences, such as sentences in natural language processing or time series data, it's common to have sequences of different lengths. Padding helps ensure that all sequences are of equal length.\n",
        "\n",
        "- **Zero-Padding**: is a specific type of padding where the extra values added to the sequences are zeros. Zero-padding is widely used because it has minimal impact on the data's original meaning, especially in scenarios like text processing where zero indices don't represent any actual words."
      ],
      "metadata": {
        "id": "BW2jQevB_vBq"
      }
    },
    {
      "cell_type": "markdown",
      "source": [
        "## Out of Vocabulary Words(OOV Words)"
      ],
      "metadata": {
        "id": "vec4hmTTC2mr"
      }
    },
    {
      "cell_type": "markdown",
      "source": [
        "\n",
        "\n",
        "1.   **Zero-Padding**\n",
        "\n",
        " **Pros**:\n",
        "\n",
        "  *   Simple and easy to implement.\n",
        "  *   Preserves the structure of the input data.\n",
        "  *   Zero vectors don't introduce additional parameters to the model.\n",
        "\n",
        " **Cons**:\n",
        "  *   Loss of information: Zero vectors do not convey any semantic meaning, potentially leading to loss of valuable information.\n",
        "  *  Ineffective for unseen words: Similarity calculations involving OOV words will be inaccurate, as all OOV words are treated the same.\n",
        "\n",
        "\n",
        "2.   **Random Vectors**\n",
        "\n",
        "  **Pros**:\n",
        "  \n",
        "    * Preserves input dimensionality.\n",
        "    * Provides some representation for OOV words.\n",
        "    * Can be useful when dealing with small datasets or rare words.\n",
        "\n",
        "  **Cons**:\n",
        "    * Lack of semantic meaning: Random vectors do not capture any meaningful information about the words.\n",
        "    * Not deterministic: The representations for OOV words will vary randomly during each training session, making it challenging to learn meaningful patterns.\n",
        "\n",
        "3.  **Subword Embeddings**\n",
        "\n",
        "  **Pros**\n",
        "\n",
        "    * Handles OOV words by decomposing words into subword units (n-grams), allowing for the creation of embeddings for unseen words based on their subword components.\n",
        "    * Effective for handling morphologically rich languages and rare words.\n",
        "    * Captures more fine-grained information compared to word-level embeddings.\n",
        "\n",
        "  **Cons**\n",
        "\n",
        "    * Increased computational complexity: Training and inference with subword embeddings can be computationally more expensive than traditional word embeddings.\n",
        "    * Larger memory footprint: Subword embeddings typically require more memory to store due to the increased vocabulary size.\n",
        "\n",
        "4. **Character-Level Embeddings**\n",
        "\n",
        "  **Pros**:\n",
        "\n",
        "    * Generates embeddings directly from characters, allowing the model to learn representations for unseen words based on their character compositions.\n",
        "    * Effective for handling misspellings, morphological variations, and rare words.\n",
        "    * Encodes subword information, making it robust to unseen words and languages with complex morphology.\n",
        "    \n",
        "  **Cons**:\n",
        "\n",
        "    * Increased model complexity: Character-level embeddings require more parameters and computational resources compared to word-level embeddings.\n",
        "    * Longer training time: Training character-level embeddings can be slower due to the increased dimensionality of the input data.\n",
        "5. **OOV Word Handling Strategies during Training**\n",
        "  \n",
        "  **Pros**:\n",
        "\n",
        "    * Adaptive approach: Dynamically updates word representations during training based on the context and similarity to known words.\n",
        "    * Provides a more nuanced representation for OOV words compared to fixed methods like zero or random vectors.\n",
        "    * Can be combined with other techniques for improved performance.\n",
        "\n",
        "  **Cons**:\n",
        "\n",
        "    * Complexity: Requires specialized algorithms and additional training procedures to handle OOV words effectively.\n",
        "    * Risk of overfitting: Adapting representations for OOV words based on limited context may lead to overfitting, especially in data-poor scenarios.\n"
      ],
      "metadata": {
        "id": "20x50UyfDH1f"
      }
    },
    {
      "cell_type": "markdown",
      "source": [
        "## Implementation"
      ],
      "metadata": {
        "id": "tvZh-9uz_5cI"
      }
    },
    {
      "cell_type": "code",
      "source": [
        "def get_tweet_features_vector(tweet_tokens, tweet_token_length=64,\n",
        "                             token_feature_vector_len=w2v.vector_size,\n",
        "                             model=w2v):\n",
        "  tweet_vectors = np.zeros((tweet_token_length, token_feature_vector_len))\n",
        "  for idx, token in enumerate(tweet_tokens[:tweet_token_length]):\n",
        "    if not token in model.key_to_index:\n",
        "      continue\n",
        "\n",
        "    tweet_vectors[idx] = model[token]\n",
        "\n",
        "  return tweet_vectors"
      ],
      "metadata": {
        "id": "e58gQtIDA8yn"
      },
      "execution_count": 25,
      "outputs": []
    },
    {
      "cell_type": "code",
      "source": [
        "tweet_features_vector = twitter_suicidal_data_cleaned['tokens'].apply(get_tweet_features_vector)"
      ],
      "metadata": {
        "id": "NU5fiJpdCQSM"
      },
      "execution_count": 26,
      "outputs": []
    },
    {
      "cell_type": "code",
      "source": [
        "tweet_features_vector"
      ],
      "metadata": {
        "id": "G6ADV6b-CrB9",
        "outputId": "ed62c1e6-5fa8-421a-afbd-ec694dc036ae",
        "colab": {
          "base_uri": "https://localhost:8080/"
        }
      },
      "execution_count": 27,
      "outputs": [
        {
          "output_type": "execute_result",
          "data": {
            "text/plain": [
              "0       [[-0.06787109375, 0.09521484375, 0.03564453125...\n",
              "1       [[0.234375, -0.02294921875, 0.1826171875, 0.12...\n",
              "2       [[-0.07568359375, 0.03369140625, -0.0649414062...\n",
              "3       [[0.1123046875, 0.018310546875, 0.0771484375, ...\n",
              "4       [[-0.0556640625, 0.01373291015625, -0.14160156...\n",
              "                              ...                        \n",
              "9114    [[-0.2255859375, -0.032470703125, 0.0402832031...\n",
              "9115    [[-0.02490234375, -0.37890625, 0.330078125, 0....\n",
              "9116    [[-0.057861328125, 0.01318359375, 0.115234375,...\n",
              "9117    [[0.02392578125, -0.046142578125, 0.00390625, ...\n",
              "9118    [[-0.1240234375, 0.2470703125, 0.0218505859375...\n",
              "Name: tokens, Length: 9119, dtype: object"
            ]
          },
          "metadata": {},
          "execution_count": 27
        }
      ]
    },
    {
      "cell_type": "markdown",
      "source": [
        "# Classification using CNN"
      ],
      "metadata": {
        "id": "jsjWcgg2tU_L"
      }
    },
    {
      "cell_type": "markdown",
      "source": [
        "## Optimization using ADAM"
      ],
      "metadata": {
        "id": "zJP2QrZZtXn7"
      }
    },
    {
      "cell_type": "markdown",
      "source": [
        "1. **Initialization**:\n",
        "  *   Initializes two moving average vectors: $m$ (first moment) and $v$ (second moment) to zero\n",
        "  *  Initializes hyperparameters: learning rate $α$, decay rates $β_1, β_2$\n",
        " , and a small constant $\\epsilon$ to prevent division by zero.\n",
        "\n",
        "2. **Gradient Computation**:\n",
        "  * Computes gradients $g_t$ at each time step $t$ using backpropagation.\n",
        "\n",
        "3. **Update Biased Moment Estimates**:\n",
        "  * Updates the biased first moment estimate:\n",
        "  $$\n",
        "  m_t = β_1m_{t-1} + (1- β_1)g_t\n",
        "  $$\n",
        "  * Updates the biased second moment estimate:\n",
        "  $$\n",
        "  v_t = β_2v_{t-1} + (1- β_2)g_t^2\n",
        "  $$\n",
        "4. **Bias Correction**:\n",
        "  * Corrects the bias in the first moment estimate:\n",
        "  $$\n",
        "  \\hat{m}_t = \\frac{m_t}{1 - β_1^t}\n",
        "  $$\n",
        "  * Corrects the bias in the second moment estimate:\n",
        "  $$\n",
        "  \\hat{v}_t = \\frac{v_t}{1 - β_2^t}\n",
        "  $$\n",
        "5. **Update Parameters:**\n",
        "  * Updates the parameters $θ$ using the bias-corrected estimates:\n",
        "  $$\n",
        "  θ_t = θ_{t-1} - α\\frac{\\hat{m_t}}{\\sqrt{\\hat{v_t}} + ϵ}\n",
        "  $$\n",
        "\n"
      ],
      "metadata": {
        "id": "sv2Vpz-WtbQC"
      }
    },
    {
      "cell_type": "markdown",
      "source": [],
      "metadata": {
        "id": "5dDop58TyDgm"
      }
    },
    {
      "cell_type": "markdown",
      "source": [
        "| Aspect               | Adam                                                                                                    | SGD                                                                                           |\n",
        "|----------------------|---------------------------------------------------------------------------------------------------------|-----------------------------------------------------------------------------------------------|\n",
        "| **Initialization**   | Initializes two moving average vectors \\( m \\) and \\( v \\) to zero.                                      | No moving average initialization.                                                            |\n",
        "| **Gradient Update**  | Updates parameters using biased first and second moment estimates.                                       | Directly uses gradients computed from the current batch of data.                              |\n",
        "| **Learning Rate**    | Adaptive learning rates for each parameter, adjusting individually based on the first and second moments.| Uses a fixed learning rate for all parameters.                                                |\n",
        "| **Gradient Estimation** | Uses moving averages of gradients and squared gradients (first and second moments) for stabilization.   | Does not use moving averages, directly utilizes gradients.                                    |\n",
        "| **Bias Correction**  | Corrects bias introduced by moving averages using bias-corrected estimates.                              | No bias correction applied.                                                                   |\n",
        "| **Hyperparameters**  | Involves multiple hyperparameters: learning rate \\( \\alpha \\), decay rates \\( \\beta_1 \\) and \\( \\beta_2 \\), and a small constant \\( \\epsilon \\). | Mainly involves tuning the learning rate.                                                      |\n",
        "| **Convergence**      | Generally converges faster and is more robust to hyperparameter settings.                                | Can be sensitive to the choice of learning rate and may require careful tuning.                |\n"
      ],
      "metadata": {
        "id": "2HlkpPb-vr9U"
      }
    },
    {
      "cell_type": "markdown",
      "source": [
        "## Loss Function(Cross Entropy)"
      ],
      "metadata": {
        "id": "b4wfbou9yEqh"
      }
    },
    {
      "cell_type": "markdown",
      "source": [
        "Cross-entropy is a widely used loss function in machine learning, particularly for classification tasks. It measures the difference between two probability distributions – the true distribution (actual labels) and the predicted distribution (model's predictions). Cross-entropy quantifies the likelihood of the predicted values under the true distribution and penalizes incorrect predictions more severely than less incorrect ones.\n",
        "\n",
        "\n",
        "\n",
        "*   Binary\n",
        "$$\n",
        "Cross-Entropy Loss = -(ylog(p) + (1 - y)(log(1-p))\n",
        "$$\n",
        "  * $y$: true label\n",
        "  * $p$:  is the predicted probability of the instance being in class 1.\n",
        "*   Multi-Class:\n",
        "$$\n",
        "-\\sum_{i = 1}^{C}y_ilog(p_i)\n",
        "$$\n",
        "  * $C$: number of classes\n",
        "  * $y_i$: is a binary indicator (0 or 1) if class label $i$ is the correct classification for the instance.\n",
        "  * $p_i$: is the predicted probability of the instance being of class $i$\n"
      ],
      "metadata": {
        "id": "3V0OSXw_yH8k"
      }
    },
    {
      "cell_type": "markdown",
      "source": [
        "* **Suitability for Classification Tasks**\n",
        "Cross-entropy loss is specifically designed for classification problems. It measures the performance of a classification model whose output is a probability value between 0 and 1. In the context of tweet classification, where the goal is to categorize tweets into different classes (e.g., positive, negative, neutral sentiment), cross-entropy effectively evaluates the difference between the predicted probabilities and the actual class labels.\n",
        "\n",
        "* **Probabilistic Interpretation**\n",
        "Cross-entropy provides a probabilistic interpretation of how well the predicted class probabilities match the actual distribution of classes. This is useful in tweet classification, where the output layer of the CNN often uses a softmax activation function to produce probabilities for each class.\n",
        "\n",
        "* **Penalty for Misclassification**\n",
        "Cross-entropy penalizes incorrect classifications more heavily than less incorrect ones. This means that the model is encouraged to make predictions with higher confidence, leading to better accuracy. In tweet classification, where some tweets might be more ambiguous than others, this characteristic helps the model learn to distinguish between classes more effectively.\n",
        "\n",
        "* **Differentiability**\n",
        "Cross-entropy loss is differentiable, which is essential for gradient-based optimization methods used in training neural networks. It ensures that the gradients are well-defined and the optimization algorithm can update the model parameters to minimize the loss.\n",
        "\n",
        "* **Smooth Convergence**\n",
        "Cross-entropy loss typically leads to smoother and more stable convergence during training. This is important in tweet classification tasks, where the data can be noisy and diverse. A stable loss function helps in achieving better generalization and avoids overfitting."
      ],
      "metadata": {
        "id": "cxftUtew0Lf4"
      }
    },
    {
      "cell_type": "markdown",
      "source": [
        "## Kernel Size"
      ],
      "metadata": {
        "id": "hP_yrfZx2RC0"
      }
    },
    {
      "cell_type": "markdown",
      "source": [
        "The kernel size in a convolutional layer significantly affects the operation and outcome of the convolution process. It determines the size of the receptive field of the convolutional layer, influencing how much of the input is considered at each step of the convolution. Here's a detailed look at how kernel size affects convolutional layers and their input features:\n",
        "\n",
        "Effect of Kernel Size on Convolutional Layer:\n",
        "\n",
        "1. Receptive Field:\n",
        "\n",
        "  * Larger Kernel Size: A larger kernel (e.g., 5x5 or 7x7) means the convolutional filter can capture more contextual information from a larger area of the input feature map. This can be beneficial for understanding more complex patterns and relationships in the data, but it can also lead to a loss of finer details.\n",
        "  * Smaller Kernel Size: A smaller kernel (e.g., 3x3) focuses on a smaller area, which helps capture fine details and edges. It usually leads to a more detailed and localized understanding of the input features.\n",
        "\n",
        "2. Feature Extraction:\n",
        "\n",
        "  * Larger Kernel Size: With larger kernels, each convolution operation covers more pixels, which can help in extracting more global features. This is useful for understanding broader patterns in the data.\n",
        "  * Smaller Kernel Size: Smaller kernels are effective in capturing local features and details. They are typically used in deeper layers of CNNs, where the combination of multiple small kernels can capture complex patterns.\n",
        "\n",
        "3. Computational Complexity:\n",
        "\n",
        "  * Larger Kernel Size: Increases the number of computations per convolution operation because each filter needs to process more input values. This can lead to higher computational costs and memory usage.\n",
        "  * Smaller Kernel Size: Requires fewer computations per convolution operation, which is generally more efficient and faster, making it preferable for deep networks where many convolutional layers are stacked."
      ],
      "metadata": {
        "id": "0Gdz91Ma2pVR"
      }
    },
    {
      "cell_type": "markdown",
      "source": [
        "- Larger Kernel Size: Captures more context, potentially at the cost of finer details and higher computational expense.\n",
        "- Smaller Kernel Size: Captures fine details, allows for deeper networks, and is computationally efficient."
      ],
      "metadata": {
        "id": "m1WTE0Hp60RQ"
      }
    },
    {
      "cell_type": "markdown",
      "source": [
        "## Learning Rate and Batch Size"
      ],
      "metadata": {
        "id": "j18owlfVscX2"
      }
    },
    {
      "cell_type": "markdown",
      "source": [
        "### Learning Rate"
      ],
      "metadata": {
        "id": "yUPToGxEsgUL"
      }
    },
    {
      "cell_type": "markdown",
      "source": [
        "The learning rate determines the step size at each iteration while moving toward a minimum of the loss function.\n",
        "\n",
        "Impact on Training:\n",
        "\n",
        "  * **Too High Learning Rate**:\n",
        "\n",
        "    * Pros: Faster convergence initially.\n",
        "    * Cons:\n",
        "      * May overshoot the optimal point.\n",
        "      * Can cause the training process to be unstable, leading to divergence.\n",
        "      * Loss may oscillate or not decrease.\n",
        "  * **Too Low Learning Rate**:\n",
        "\n",
        "    * Pros: More stable and precise convergence.\n",
        "    * Cons:\n",
        "      * Slower convergence.\n",
        "      * May get stuck in local minima or plateaus.\n",
        "      * Requires more training time.\n",
        "\n",
        "**Optimal Learning Rate**: Strikes a balance between convergence speed and stability, allowing the model to learn efficiently without oscillations."
      ],
      "metadata": {
        "id": "HK54CsAayh-R"
      }
    },
    {
      "cell_type": "markdown",
      "source": [
        "### Batch Size"
      ],
      "metadata": {
        "id": "T4ei0o3Qy-Ug"
      }
    },
    {
      "cell_type": "markdown",
      "source": [
        "Batch size is the number of training examples utilized in one iteration.\n",
        "\n",
        "Impact on Training:\n",
        "\n",
        "* **Small Batch Size**:\n",
        "\n",
        "  * Pros:\n",
        "      * More frequent updates to the model parameters, potentially leading to better generalization.\n",
        "      * Allows for better approximation of the true gradient (stochastic gradient descent).\n",
        "  * Cons:\n",
        "      * More noisy updates can make the training process less stable.\n",
        "      * Can be slower because of less efficient hardware utilization.\n",
        "* **Large Batch Size**:\n",
        "\n",
        "  * Pros:\n",
        "    * More stable and accurate gradient estimates.\n",
        "    * Better utilization of hardware (e.g., GPUs).\n",
        "    * Faster training time per epoch.\n",
        "  * Cons:\n",
        "    * Requires more memory.\n",
        "    * May lead to poorer generalization.\n",
        "    * Less frequent updates might lead to a longer time to reach convergence.\n",
        "\n",
        "**Optimal Batch Size**: Balances the trade-offs between training time, stability, and generalization. It often depends on the specific dataset and the computational resources available."
      ],
      "metadata": {
        "id": "XEN0jlj2y_wh"
      }
    },
    {
      "cell_type": "markdown",
      "source": [
        "### Combined Effects"
      ],
      "metadata": {
        "id": "a2SglxYQz57k"
      }
    },
    {
      "cell_type": "markdown",
      "source": [
        "1. High Learning Rate with Large Batch Size:\n",
        "\n",
        "  * Can lead to faster convergence, but the model may not generalize well.\n",
        "  * Risk of missing the optimal point due to large updates.\n",
        "\n",
        "2. Low Learning Rate with Small Batch Size:\n",
        "\n",
        "  * Results in more stable and accurate convergence.\n",
        "  * Training can be very slow and might require many epochs.\n",
        "\n",
        "3. High Learning Rate with Small Batch Size:\n",
        "\n",
        "  * Can cause very noisy updates and instability in training.\n",
        "  * Risk of divergence.\n",
        "\n",
        "4. Low Learning Rate with Large Batch Size:\n",
        "\n",
        "  * Stable training with accurate gradient estimates.\n",
        "  * Slow convergence and potentially higher computational costs per epoch."
      ],
      "metadata": {
        "id": "0PFPrrahz6-h"
      }
    },
    {
      "cell_type": "markdown",
      "source": [
        "## Convolutional Layers with Feed-Forward Layers"
      ],
      "metadata": {
        "id": "wklOuTm14qtY"
      }
    },
    {
      "cell_type": "markdown",
      "source": [
        "**Pros of Current Design:**\n",
        "\n",
        "  * **Feature Extraction**: Convolutional layers are excellent at capturing local patterns and hierarchical features. By using multiple convolutional layers with different kernel sizes, the model can learn a variety of features from the input.\n",
        "  * **Flexibility**: Not reducing the output size too much preserves more spatial information, which can be beneficial for complex patterns.\n",
        "  * **Learning Complex Representations**: Fully connected layers after convolutional layers allow the model to learn complex representations by combining features extracted by convolutional layers.\n",
        "\n",
        "**Alternative Design Choices:**\n",
        "  1. **Reducing Output Size with Pooling Layers**:\n",
        "\n",
        "    * Max Pooling: Reduces the spatial dimensions of the input, thus decreasing the number of parameters and computational cost.\n",
        "    * Average Pooling: Similar to max pooling but takes the average of the values instead of the maximum.\n",
        "\n",
        "    Pros:\n",
        "\n",
        "      * Reduces computational cost and memory usage.\n",
        "      * Helps in extracting dominant features and reduces the risk of overfitting.\n",
        "      \n",
        "    Cons:\n",
        "\n",
        "      * Might lose some spatial information that could be crucial for certain tasks.\n",
        "  2. **Global Pooling Layers**:\n",
        "\n",
        "    * Global Max Pooling: Takes the maximum value from each feature map.\n",
        "    * Global Average Pooling: Takes the average value from each feature map.\n",
        "    \n",
        "    Pros:\n",
        "\n",
        "      * Significantly reduces the number of parameters.\n",
        "      * Helps in avoiding overfitting.\n",
        "\n",
        "    Cons:\n",
        "\n",
        "      * Might lose spatial information entirely, which can be a drawback for certain applications.\n",
        "  3. Depthwise Separable Convolutions:\n",
        "\n",
        "    * Depthwise Convolutions: Apply a single convolutional filter per input channel.\n",
        "    * Pointwise Convolutions: Apply a 1x1 convolution to combine the outputs from depthwise convolutions.\n",
        "\n",
        "    Pros:\n",
        "\n",
        "      * Reduces the number of parameters and computational cost significantly while preserving performance.\n",
        "\n",
        "    Cons:\n",
        "\n",
        "      * Might not be as powerful as standard convolutions in capturing complex features."
      ],
      "metadata": {
        "id": "QaobdL-94s2G"
      }
    },
    {
      "cell_type": "markdown",
      "source": [
        "## Implementation"
      ],
      "metadata": {
        "id": "dg02yROi6iAj"
      }
    },
    {
      "cell_type": "markdown",
      "source": [
        "### CNN"
      ],
      "metadata": {
        "id": "8K86lADos_85"
      }
    },
    {
      "cell_type": "code",
      "source": [
        "class TweetSuicidalClfCNN(nn.Module):\n",
        "    def __init__(self):\n",
        "        super(TweetSuicidalClfCNN, self).__init__()\n",
        "\n",
        "        self.conv1a = nn.Conv1d(in_channels=300,\n",
        "                                out_channels=64,\n",
        "                                kernel_size=3,\n",
        "                                padding=1)\n",
        "        self.conv1b = nn.Conv1d(in_channels=300,\n",
        "                                out_channels=64,\n",
        "                                kernel_size=5,\n",
        "                                padding=2)\n",
        "        self.conv1c = nn.Conv1d(in_channels=300,\n",
        "                                out_channels=64,\n",
        "                                kernel_size=7,\n",
        "                                padding=3)\n",
        "\n",
        "        self.relu = nn.ReLU()\n",
        "\n",
        "        self.conv2a = nn.Conv1d(in_channels=64,\n",
        "                                out_channels=128,\n",
        "                                kernel_size=3,\n",
        "                                padding=1)\n",
        "        self.conv2b = nn.Conv1d(in_channels=64,\n",
        "                                out_channels=128,\n",
        "                                kernel_size=5,\n",
        "                                padding=2)\n",
        "        self.conv2c = nn.Conv1d(in_channels=64,\n",
        "                                out_channels=128,\n",
        "                                kernel_size=7,\n",
        "                                padding=3)\n",
        "\n",
        "        self.pool = nn.MaxPool1d(kernel_size=4)\n",
        "\n",
        "        self.fc1 = nn.Linear(in_features=128 * 3, out_features=128)\n",
        "        self.fc2 = nn.Linear(in_features=128, out_features=2)\n",
        "\n",
        "    def forward(self, x):\n",
        "        x1 = self.relu(self.conv1a(x))\n",
        "        x2 = self.relu(self.conv1b(x))\n",
        "        x3 = self.relu(self.conv1c(x))\n",
        "\n",
        "        x1 = self.relu(self.conv2a(x1))\n",
        "        x2 = self.relu(self.conv2b(x2))\n",
        "        x3 = self.relu(self.conv2c(x3))\n",
        "\n",
        "        x1 = self.pool(x1)\n",
        "        x2 = self.pool(x2)\n",
        "        x3 = self.pool(x3)\n",
        "\n",
        "        x1 = x1.max(dim=2)[0]\n",
        "        x2 = x2.max(dim=2)[0]\n",
        "        x3 = x3.max(dim=2)[0]\n",
        "\n",
        "        x = torch.cat((x1, x2, x3), dim=1)\n",
        "\n",
        "        x = self.relu(self.fc1(x))\n",
        "        x = self.fc2(x)\n",
        "\n",
        "        return x"
      ],
      "metadata": {
        "id": "dIuRr8Sc6qBZ"
      },
      "execution_count": 63,
      "outputs": []
    },
    {
      "cell_type": "markdown",
      "source": [
        "### Datset"
      ],
      "metadata": {
        "id": "QmIiVkAOyhrN"
      }
    },
    {
      "cell_type": "code",
      "source": [
        "class TweetSuicidalDataset(Dataset):\n",
        "    def __init__(self, data, targets):\n",
        "        self.data = data\n",
        "        self.targets = targets\n",
        "\n",
        "    def __len__(self):\n",
        "        return len(self.data)\n",
        "\n",
        "    def __getitem__(self, index):\n",
        "        x = self.data[index]\n",
        "        y = self.targets[index]\n",
        "        return torch.tensor(x, dtype=torch.float32), torch.tensor(y, dtype=torch.long)"
      ],
      "metadata": {
        "id": "3VW4MCLFyjGh"
      },
      "execution_count": 29,
      "outputs": []
    },
    {
      "cell_type": "markdown",
      "source": [
        "### Train Test Split"
      ],
      "metadata": {
        "id": "vhBQtTxyzjAt"
      }
    },
    {
      "cell_type": "code",
      "source": [
        "X_train, X_test, y_train, y_test = train_test_split(tweet_features_vector,\n",
        "                                                    twitter_suicidal_data_cleaned['intention'],\n",
        "                                                    test_size=0.2,\n",
        "                                                    random_state=42)\n",
        "X_train.reset_index(drop=True, inplace=True)\n",
        "X_test.reset_index(drop=True, inplace=True)\n",
        "y_train.reset_index(drop=True, inplace=True)\n",
        "y_test.reset_index(drop=True, inplace=True)"
      ],
      "metadata": {
        "id": "PBsESAhozieZ"
      },
      "execution_count": 30,
      "outputs": []
    },
    {
      "cell_type": "markdown",
      "source": [
        "### Training Steps"
      ],
      "metadata": {
        "id": "CoR69-7MtyTH"
      }
    },
    {
      "cell_type": "code",
      "source": [
        "class TweetSuicidalClfCNNTrainer:\n",
        "  def __init__(self, cnn, train_dataset, test_dataset,\n",
        "               criterion=nn.CrossEntropyLoss(), test_batch_size=32,\n",
        "               device=device):\n",
        "    self._cnn = cnn.to(device)\n",
        "    self._train_dataset = train_dataset\n",
        "    self._test_dataset = test_dataset\n",
        "    self._criterion = criterion.to(device)\n",
        "    self._test_batch_size = test_batch_size\n",
        "    self._device = device\n",
        "    self._train_losses = []\n",
        "    self._train_accuracies = []\n",
        "    self._precisions = []\n",
        "    self._recalls = []\n",
        "    self._f1s = []\n",
        "\n",
        "  def __get_optimizer_and_loader(self, epoch):\n",
        "    min_train_batch_size = 4\n",
        "    max_train_batch_size = 16\n",
        "    min_lr = 0.001\n",
        "    max_lr = 0.002\n",
        "\n",
        "    train_batch_size = randint(min_train_batch_size, max_train_batch_size)\n",
        "    learning_rate = min_lr + (max_lr - min_lr) * random()\n",
        "\n",
        "    lr_decay_factor = 0.99\n",
        "    learning_rate *= lr_decay_factor ** epoch\n",
        "\n",
        "    train_batch_size_increment = 2\n",
        "    if epoch % 10 == 0 and epoch > 0:\n",
        "      train_batch_size += train_batch_size_increment\n",
        "\n",
        "    optimizer = optim.Adam(self._cnn.parameters(), lr=learning_rate)\n",
        "    train_loader = DataLoader(self._train_dataset, batch_size=train_batch_size,\n",
        "                              shuffle=True)\n",
        "    test_loader = DataLoader(self._test_dataset, batch_size=self._test_batch_size,\n",
        "                             shuffle=False)\n",
        "    return optimizer, train_loader, test_loader\n",
        "\n",
        "  def __train(self, epoch, optimizer, train_loader):\n",
        "    self._cnn.train()\n",
        "    running_loss = 0.0\n",
        "    correct = 0\n",
        "    total = 0\n",
        "    for inputs, labels in train_loader:\n",
        "      optimizer.zero_grad()\n",
        "      inputs, labels = inputs.to(self._device), labels.to(self._device)\n",
        "      inputs = inputs.permute(0, 2, 1)\n",
        "      outputs = self._cnn(inputs)\n",
        "      loss = self._criterion(outputs, labels)\n",
        "      loss.backward()\n",
        "      optimizer.step()\n",
        "      running_loss += loss.item()\n",
        "      _, predited = torch.max(outputs.data, 1)\n",
        "      total += labels.size(0)\n",
        "      correct += (predited == labels).sum().item()\n",
        "\n",
        "    train_loss = running_loss / len(train_loader)\n",
        "    self._train_losses.append(train_loss)\n",
        "\n",
        "    train_accuracy = 100 * correct / total\n",
        "    self._train_accuracies.append(train_accuracy)\n",
        "\n",
        "    return train_loss, train_accuracy\n",
        "\n",
        "  def __evaluation(self, test_loader):\n",
        "    self._cnn.eval()\n",
        "    all_preds = []\n",
        "    all_labels = []\n",
        "    with torch.no_grad():\n",
        "        for inputs, labels in test_loader:\n",
        "            inputs, labels = inputs.to(self._device), labels.to(self._device)\n",
        "            inputs = inputs.permute(0, 2, 1)\n",
        "            outputs = self._cnn(inputs)\n",
        "            _, predicted = torch.max(outputs.data, 1)\n",
        "            all_preds.extend(predicted.cpu().numpy())\n",
        "            all_labels.extend(labels.cpu().numpy())\n",
        "\n",
        "    precision = precision_score(all_labels, all_preds, average='binary')\n",
        "    recall = recall_score(all_labels, all_preds, average='binary')\n",
        "    f1 = f1_score(all_labels, all_preds, average='binary')\n",
        "\n",
        "    self._precisions.append(precision)\n",
        "    self._recalls.append(recall)\n",
        "    self._f1s.append(f1)\n",
        "\n",
        "  def __log_epoch(self, epoch, num_epochs, train_loss, train_accuracy):\n",
        "    print(f'Epoch [{epoch+1}/{num_epochs}], Loss: {train_loss:.4f}, Accuracy: {train_accuracy:.2f}%')\n",
        "\n",
        "  def __plot_accuracy_and_loss(self, num_epochs):\n",
        "    plt.figure(figsize=(12, 5))\n",
        "    plt.subplot(1, 2, 1)\n",
        "    plt.plot(range(num_epochs), self._train_losses, label='Loss')\n",
        "    plt.xlabel('Epoch')\n",
        "    plt.ylabel('Loss')\n",
        "    plt.title('Training Loss per Epoch')\n",
        "    plt.legend()\n",
        "\n",
        "    plt.subplot(1, 2, 2)\n",
        "    plt.plot(range(num_epochs), self._train_accuracies, label='Accuracy')\n",
        "    plt.xlabel('Epoch')\n",
        "    plt.ylabel('Accuracy')\n",
        "    plt.title('Training Accuracy per Epoch')\n",
        "    plt.legend()\n",
        "\n",
        "    plt.show()\n",
        "\n",
        "  def __plot_precision_recall_f1(self, num_epochs):\n",
        "    plt.figure(figsize=(12, 5))\n",
        "    plt.plot(range(num_epochs), self._precisions, label='Precision')\n",
        "    plt.plot(range(num_epochs), self._recalls, label='Recall')\n",
        "    plt.plot(range(num_epochs), self._f1s, label='F1 Score')\n",
        "    plt.xlabel('Epoch')\n",
        "    plt.ylabel('Score')\n",
        "    plt.title('Precision, Recall, and F1 Score per Epoch')\n",
        "    plt.legend()\n",
        "    plt.show()\n",
        "\n",
        "  def __plot_evaluation_metrics(self, num_epochs):\n",
        "    self.__plot_accuracy_and_loss(num_epochs)\n",
        "    self.__plot_precision_recall_f1(num_epochs)\n",
        "\n",
        "  def execute(self, num_epochs=10):\n",
        "\n",
        "    for epoch in range(num_epochs):\n",
        "      optimizer, train_loader, test_loader = self.__get_optimizer_and_loader(epoch)\n",
        "      train_loss, train_accuracy = self.__train(epoch, optimizer, train_loader)\n",
        "      self.__evaluation(test_loader)\n",
        "      self.__log_epoch(epoch, num_epochs, train_loss, train_accuracy)\n",
        "\n",
        "    self.__plot_evaluation_metrics(num_epochs)"
      ],
      "metadata": {
        "id": "TtJc1NsQ8eD1"
      },
      "execution_count": 54,
      "outputs": []
    },
    {
      "cell_type": "code",
      "source": [
        "cnn = TweetSuicidalClfCNN()\n",
        "train_dataset = TweetSuicidalDataset(X_train, y_train)\n",
        "test_dataset = TweetSuicidalDataset(X_test, y_test)\n",
        "\n",
        "clf_cnn_trainer = TweetSuicidalClfCNNTrainer(cnn=cnn,\n",
        "                                             train_dataset=train_dataset,\n",
        "                                             test_dataset=test_dataset)\n",
        "clf_cnn_trainer.execute()"
      ],
      "metadata": {
        "colab": {
          "base_uri": "https://localhost:8080/",
          "height": 1000
        },
        "id": "XVxUk1IyBuWy",
        "outputId": "d83ff8ea-8c6a-4f6c-d76d-ac49824384e0"
      },
      "execution_count": 55,
      "outputs": [
        {
          "output_type": "stream",
          "name": "stdout",
          "text": [
            "Epoch [1/10], Loss: 0.2849, Accuracy: 87.69%\n",
            "Epoch [2/10], Loss: 0.1655, Accuracy: 93.01%\n",
            "Epoch [3/10], Loss: 0.1188, Accuracy: 95.15%\n",
            "Epoch [4/10], Loss: 0.0921, Accuracy: 96.45%\n",
            "Epoch [5/10], Loss: 0.0567, Accuracy: 97.90%\n",
            "Epoch [6/10], Loss: 0.0599, Accuracy: 97.97%\n",
            "Epoch [7/10], Loss: 0.0304, Accuracy: 99.01%\n",
            "Epoch [8/10], Loss: 0.0252, Accuracy: 99.08%\n",
            "Epoch [9/10], Loss: 0.0316, Accuracy: 99.00%\n",
            "Epoch [10/10], Loss: 0.0341, Accuracy: 98.92%\n"
          ]
        },
        {
          "output_type": "display_data",
          "data": {
            "text/plain": [
              "<Figure size 1200x500 with 2 Axes>"
            ],
            "image/png": "[encoded data removed]"
          },
          "metadata": {}
        },
        {
          "output_type": "display_data",
          "data": {
            "text/plain": [
              "<Figure size 1200x500 with 1 Axes>"
            ],
            "image/png": "[encoded data removed]"
          },
          "metadata": {}
        }
      ]
    },
    {
      "cell_type": "code",
      "source": [
        "summary(cnn, (300, 64))"
      ],
      "metadata": {
        "id": "eFvz80t4dw1K",
        "outputId": "0b4ed0b8-fd82-4baf-d213-ff576624ff62",
        "colab": {
          "base_uri": "https://localhost:8080/"
        }
      },
      "execution_count": 68,
      "outputs": [
        {
          "output_type": "stream",
          "name": "stdout",
          "text": [
            "----------------------------------------------------------------\n",
            "        Layer (type)               Output Shape         Param #\n",
            "================================================================\n",
            "            Conv1d-1               [-1, 64, 64]          57,664\n",
            "              ReLU-2               [-1, 64, 64]               0\n",
            "            Conv1d-3               [-1, 64, 64]          96,064\n",
            "              ReLU-4               [-1, 64, 64]               0\n",
            "            Conv1d-5               [-1, 64, 64]         134,464\n",
            "              ReLU-6               [-1, 64, 64]               0\n",
            "            Conv1d-7              [-1, 128, 64]          24,704\n",
            "              ReLU-8              [-1, 128, 64]               0\n",
            "            Conv1d-9              [-1, 128, 64]          41,088\n",
            "             ReLU-10              [-1, 128, 64]               0\n",
            "           Conv1d-11              [-1, 128, 64]          57,472\n",
            "             ReLU-12              [-1, 128, 64]               0\n",
            "        MaxPool1d-13              [-1, 128, 16]               0\n",
            "        MaxPool1d-14              [-1, 128, 16]               0\n",
            "        MaxPool1d-15              [-1, 128, 16]               0\n",
            "           Linear-16                  [-1, 128]          49,280\n",
            "             ReLU-17                  [-1, 128]               0\n",
            "           Linear-18                    [-1, 2]             258\n",
            "================================================================\n",
            "Total params: 460,994\n",
            "Trainable params: 460,994\n",
            "Non-trainable params: 0\n",
            "----------------------------------------------------------------\n",
            "Input size (MB): 0.07\n",
            "Forward/backward pass size (MB): 0.61\n",
            "Params size (MB): 1.76\n",
            "Estimated Total Size (MB): 2.44\n",
            "----------------------------------------------------------------\n"
          ]
        }
      ]
    }
  ]
}