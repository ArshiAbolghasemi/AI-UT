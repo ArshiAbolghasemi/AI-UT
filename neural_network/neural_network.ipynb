{
  "nbformat": 4,
  "nbformat_minor": 0,
  "metadata": {
    "colab": {
      "provenance": [],
      "toc_visible": true,
      "authorship_tag": "ABX9TyO/GjNid4mgcOtTQ967AB55",
      "include_colab_link": true
    },
    "kernelspec": {
      "name": "python3",
      "display_name": "Python 3"
    },
    "language_info": {
      "name": "python"
    }
  },
  "cells": [
    {
      "cell_type": "markdown",
      "metadata": {
        "id": "view-in-github",
        "colab_type": "text"
      },
      "source": [
        "<a href=\"https://colab.research.google.com/github/ArshiAbolghasemi/AI-UT/blob/main/neural_network/neural_network.ipynb\" target=\"_parent\"><img src=\"https://colab.research.google.com/assets/colab-badge.svg\" alt=\"Open In Colab\"/></a>"
      ]
    },
    {
      "cell_type": "markdown",
      "source": [
        "# Convolutional Neural Network(CNN)"
      ],
      "metadata": {
        "id": "tG029c-VazlQ"
      }
    },
    {
      "cell_type": "markdown",
      "source": [
        "A Convolutional Neural Network (CNN) is a type of deep learning model specifically designed for processing structured grid data like images. It consists of layers that apply convolution operations, pooling, and fully connected layers to automatically and adaptively learn spatial hierarchies of features from input images."
      ],
      "metadata": {
        "id": "LNv007UOa5l6"
      }
    },
    {
      "cell_type": "markdown",
      "source": [
        "## Word Embedding"
      ],
      "metadata": {
        "id": "pg1vvEfemG-o"
      }
    }
  ]
}