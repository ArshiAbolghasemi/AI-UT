{
  "cells": [
    {
      "cell_type": "markdown",
      "metadata": {
        "id": "view-in-github",
        "colab_type": "text"
      },
      "source": [
        "<a href=\"https://colab.research.google.com/github/ArshiAbolghasemi/AI-UT/blob/main/clustering/image_clustering.ipynb\" target=\"_parent\"><img src=\"https://colab.research.google.com/assets/colab-badge.svg\" alt=\"Open In Colab\"/></a>"
      ]
    },
    {
      "cell_type": "markdown",
      "metadata": {
        "id": "vK3wa1HKFC4i"
      },
      "source": [
        "In this project we want using clustering algorithms, analysing flowers pictures an d then based on our data put them into different clusters"
      ]
    },
    {
      "cell_type": "markdown",
      "metadata": {
        "id": "9NqeL8Mbm6cH"
      },
      "source": [
        "# Imports And Settings"
      ]
    },
    {
      "cell_type": "markdown",
      "metadata": {
        "id": "UhlbxgT_YqZQ"
      },
      "source": [
        "## Imports"
      ]
    },
    {
      "cell_type": "code",
      "execution_count": 105,
      "metadata": {
        "id": "f9cPVDYtm8nR"
      },
      "outputs": [],
      "source": [
        "import os\n",
        "import cv2\n",
        "import pandas as pd\n",
        "import numpy as np\n",
        "import matplotlib.pyplot as plt\n",
        "from typing import List, Dict, Any, Tuple\n",
        "from keras.applications.vgg16 import VGG16, preprocess_input\n",
        "from keras.models import Model\n",
        "from dataclasses import dataclass\n",
        "from sklearn.cluster import KMeans, DBSCAN\n",
        "from sklearn.preprocessing import StandardScaler, MinMaxScaler"
      ]
    },
    {
      "cell_type": "markdown",
      "metadata": {
        "id": "msBu3DXHYwvz"
      },
      "source": [
        "## Settings"
      ]
    },
    {
      "cell_type": "code",
      "execution_count": 3,
      "metadata": {
        "id": "gxtrM9EFa6fp"
      },
      "outputs": [],
      "source": [
        "# DataSet\n",
        "DATASET_PATH=os.path.join(os.getcwd(), 'drive/MyDrive/AI-UT/clustering/data')\n",
        "FLOWER_IMAGES_PATH=os.path.join(DATASET_PATH, 'flower_images/')\n",
        "\n",
        "# Feature Extraction\n",
        "IMG_HEIGHT=224\n",
        "IMG_WIDTH=224\n",
        "\n",
        "# K-Means\n",
        "NUM_ITER=100"
      ]
    },
    {
      "cell_type": "markdown",
      "metadata": {
        "id": "JbYK-jO-0Vrc"
      },
      "source": [
        "## Mount Google Drive"
      ]
    },
    {
      "cell_type": "code",
      "execution_count": null,
      "metadata": {
        "colab": {
          "base_uri": "https://localhost:8080/"
        },
        "id": "RKNa0_Om0YrP",
        "outputId": "a82f7263-dfd4-4dfc-fe19-fd97a4b84220"
      },
      "outputs": [
        {
          "name": "stdout",
          "output_type": "stream",
          "text": [
            "Drive already mounted at /content/drive; to attempt to forcibly remount, call drive.mount(\"/content/drive\", force_remount=True).\n"
          ]
        }
      ],
      "source": [
        "from google.colab import drive\n",
        "drive.mount('/content/drive')"
      ]
    },
    {
      "cell_type": "markdown",
      "metadata": {
        "id": "ieaFk7NWhddj"
      },
      "source": [
        "# Data Preprocessing and Feature Extraction\n",
        "In this section, we are going to extract information from images using VGG16."
      ]
    },
    {
      "cell_type": "markdown",
      "metadata": {
        "id": "4MWWX2cV5T22"
      },
      "source": [
        "1. Why do we need feature extraction? why dont we only read raw pixel? explain it.\n",
        "> Instead of using the raw pixels directly, features represent more abstract and meaningful characteristics, such as edges, textures, or shapes.<br>\n",
        "> Advantages of feature extraction include:<br>\n",
        "> - **Dimensionality Reduction:** Extracted features often have lower dimensionality than raw pixel data, reducing the complexity of the data and computation.\n",
        "> -**Increased Robustness:** Features focus on important aspects, making models more robust to variations like changes in lighting, rotation, or scale.\n",
        "> - **Improved Generalization:** Features highlight relevant information, helping models generalize better to new, unseen data by emphasizing key patterns.\n",
        "> - **Enhanced Interpretability:** Features can provide insights into the image content, aiding in the interpretability of the model's decisions.\n",
        "> - **Computational Efficiency:** Working with extracted features is computationally more efficient than processing raw pixel values, enabling faster training and inference. <br>\n",
        "> - Overall, feature extraction enhances the performance and interpretability of image processing models by transforming raw pixel data into a more meaningful and manageable representation.\n",
        "\n",
        "2. Explain three ways of feature extraction Theqniques from images.\n",
        ">- **Convolutional Neural Networks(CNN)**: CNNs are generally the preferred choice for feature extraction from images because CNNs are specifically designed for processing color images and perform more complex tasks such as image classification, object detection, or segmentation where it can extract complex and descriptive features with any variations such as lighting conditions, scale, and other factors in the image. It is useful in situations where you want to have high accuracy after processing your images, thus making it the most efficient way.<br>\n",
        ">- **Mean pixel values of channels**: It is a very basic image feature extraction technique where we calculate the mean intensity of each color channel (red, green, and blue) in an image. This approach can be useful in situations where the goal is to perform a simple image processing operation or to obtain a basic representation of the image such as thumbnail creation, image compression and resizing. However, mean pixel value of channels is generally not a suitable technique for more complex tasks such as image classification, object detection, or segmentation. This is because mean pixel value of channels does not take into account the spatial relationship between the pixels in the image, and it does not consider the relationship between different channels.<br>\n",
        ">- **Local Binary Patterns (LBP)**: Local Binary Patterns (LBP) is a widely used feature extraction method for analyzing texture information in images. LBP captures the local structure of an image by comparing the gray values of a pixel to its surrounding neighbors and encoding the result into a binary pattern. LBP features are often used where there is limited data and in machine learning algorithms for various computer vision tasks such as face recognition, texture analysis, and object recognition. LBP is computationally efficient and can operate in real-time applications, such as surveillance and tracking systems, where the processing speed is crucial.\n",
        "\n",
        "3. Which preprocessing should be applied to image data to prepare it for input into a model?\n",
        "> There are several techniques used in image preprocessing:\n",
        "> - Resizing: Resizing images to a uniform size is important for machine learning algorithms to function properly.\n",
        "> - Grayscaling: Converting color images to grayscale can simplify your image data and reduce computational needs for some algorithms.\n",
        "> - Noise reduction: Smoothing, blurring, and filtering techniques can be applied to remove unwanted noise from images.\n",
        "> - Normalization: Normalization adjusts the intensity values of pixels to a desired range, often between 0 to 1. This can improve the performance of machine learning models.\n",
        "> - Binarization: Binarization converts grayscale images to black and white by thresholding.\n",
        "> - Contrast enhancement: The contrast of images can be adjusted using histogram equalization."
      ]
    },
    {
      "cell_type": "markdown",
      "metadata": {
        "id": "DTQKoVi8aqhs"
      },
      "source": [
        "## Load Dataset\n",
        "First Let's read our image dataset"
      ]
    },
    {
      "cell_type": "code",
      "execution_count": 36,
      "metadata": {
        "id": "R_0syGVC57hu"
      },
      "outputs": [],
      "source": [
        "@dataclass\n",
        "class Flower:\n",
        "  file_path: str\n",
        "  image: np.ndarray\n",
        "  label: str\n",
        "  features: np.ndarray"
      ]
    },
    {
      "cell_type": "code",
      "execution_count": 5,
      "metadata": {
        "id": "XRm38epzMDBy"
      },
      "outputs": [],
      "source": [
        "labels = pd.read_csv(os.path.join(DATASET_PATH, 'flower_labels.csv'))"
      ]
    },
    {
      "cell_type": "code",
      "execution_count": 50,
      "metadata": {
        "id": "UCsiiouiauxr"
      },
      "outputs": [],
      "source": [
        "def load_images(labels: pd.DataFrame) -> List[Flower]:\n",
        "  flowers = []\n",
        "  for flower_image in os.listdir(FLOWER_IMAGES_PATH):\n",
        "    try:\n",
        "      image = cv2.imread(os.path.join(FLOWER_IMAGES_PATH, flower_image))\n",
        "      if image is None:\n",
        "        print(f\"failed to read {flower_image}.\")\n",
        "        continue\n",
        "      label = labels.loc[labels.file == flower_image, 'label'].iloc[0]\n",
        "      flowers.append(Flower(image=cv2.resize(image, (IMG_WIDTH, IMG_HEIGHT)),\n",
        "                            file_path=os.path.join(FLOWER_IMAGES_PATH, flower_image),\n",
        "                            label=label,\n",
        "                            features=None))\n",
        "    except Exception as e:\n",
        "      print(f\"{str(e)}\")\n",
        "\n",
        "  return sorted(flowers, key=lambda flower: flower.file_path)"
      ]
    },
    {
      "cell_type": "code",
      "execution_count": 51,
      "metadata": {
        "id": "6h8Sp09q4ZnR"
      },
      "outputs": [],
      "source": [
        "flowers = load_images(labels)"
      ]
    },
    {
      "cell_type": "markdown",
      "metadata": {
        "id": "6_VIFI7u3d8r"
      },
      "source": [
        "## Feature Extraction\n"
      ]
    },
    {
      "cell_type": "markdown",
      "metadata": {
        "id": "kDcYbW2F_x8d"
      },
      "source": [
        "First, let's create our VGG16 model"
      ]
    },
    {
      "cell_type": "code",
      "execution_count": 40,
      "metadata": {
        "colab": {
          "base_uri": "https://localhost:8080/"
        },
        "id": "30pHqPSAIsDv",
        "outputId": "87f3e40e-a0ac-4160-f706-7aa6e1e79697"
      },
      "outputs": [
        {
          "output_type": "stream",
          "name": "stdout",
          "text": [
            "Model: \"vgg16\"\n",
            "_________________________________________________________________\n",
            " Layer (type)                Output Shape              Param #   \n",
            "=================================================================\n",
            " input_3 (InputLayer)        [(None, 224, 224, 3)]     0         \n",
            "                                                                 \n",
            " block1_conv1 (Conv2D)       (None, 224, 224, 64)      1792      \n",
            "                                                                 \n",
            " block1_conv2 (Conv2D)       (None, 224, 224, 64)      36928     \n",
            "                                                                 \n",
            " block1_pool (MaxPooling2D)  (None, 112, 112, 64)      0         \n",
            "                                                                 \n",
            " block2_conv1 (Conv2D)       (None, 112, 112, 128)     73856     \n",
            "                                                                 \n",
            " block2_conv2 (Conv2D)       (None, 112, 112, 128)     147584    \n",
            "                                                                 \n",
            " block2_pool (MaxPooling2D)  (None, 56, 56, 128)       0         \n",
            "                                                                 \n",
            " block3_conv1 (Conv2D)       (None, 56, 56, 256)       295168    \n",
            "                                                                 \n",
            " block3_conv2 (Conv2D)       (None, 56, 56, 256)       590080    \n",
            "                                                                 \n",
            " block3_conv3 (Conv2D)       (None, 56, 56, 256)       590080    \n",
            "                                                                 \n",
            " block3_pool (MaxPooling2D)  (None, 28, 28, 256)       0         \n",
            "                                                                 \n",
            " block4_conv1 (Conv2D)       (None, 28, 28, 512)       1180160   \n",
            "                                                                 \n",
            " block4_conv2 (Conv2D)       (None, 28, 28, 512)       2359808   \n",
            "                                                                 \n",
            " block4_conv3 (Conv2D)       (None, 28, 28, 512)       2359808   \n",
            "                                                                 \n",
            " block4_pool (MaxPooling2D)  (None, 14, 14, 512)       0         \n",
            "                                                                 \n",
            " block5_conv1 (Conv2D)       (None, 14, 14, 512)       2359808   \n",
            "                                                                 \n",
            " block5_conv2 (Conv2D)       (None, 14, 14, 512)       2359808   \n",
            "                                                                 \n",
            " block5_conv3 (Conv2D)       (None, 14, 14, 512)       2359808   \n",
            "                                                                 \n",
            " block5_pool (MaxPooling2D)  (None, 7, 7, 512)         0         \n",
            "                                                                 \n",
            "=================================================================\n",
            "Total params: 14714688 (56.13 MB)\n",
            "Trainable params: 14714688 (56.13 MB)\n",
            "Non-trainable params: 0 (0.00 Byte)\n",
            "_________________________________________________________________\n"
          ]
        }
      ],
      "source": [
        "vgg16 = VGG16(weights='imagenet',\n",
        "              include_top=False,\n",
        "              input_shape=(IMG_WIDTH, IMG_HEIGHT, 3))\n",
        "vgg16.summary()"
      ]
    },
    {
      "cell_type": "markdown",
      "metadata": {
        "id": "n1Ut-YP5IrbB"
      },
      "source": [
        "Next, using VGG16, we are going to extract features from our images."
      ]
    },
    {
      "cell_type": "code",
      "execution_count": 41,
      "metadata": {
        "id": "OVv3liWb_14C"
      },
      "outputs": [],
      "source": [
        "def extract_features(flowers: List[Flower], model: VGG16=vgg16) -> None:\n",
        "  feat_extractor = Model(inputs=model.input, outputs=model.output)\n",
        "  for flower in flowers:\n",
        "    img = flower.image\n",
        "    img = np.expand_dims(img, axis=0)\n",
        "    img = preprocess_input(img)\n",
        "    flower.features = model.predict(img)"
      ]
    },
    {
      "cell_type": "code",
      "execution_count": 56,
      "metadata": {
        "colab": {
          "base_uri": "https://localhost:8080/"
        },
        "id": "zHGSdX8bYpMQ",
        "outputId": "a86b1817-977f-4265-93fb-6dc6b6cfaa0c"
      },
      "outputs": [
        {
          "output_type": "stream",
          "name": "stdout",
          "text": [
            "1/1 [==============================] - 0s 485ms/step\n",
            "1/1 [==============================] - 1s 520ms/step\n",
            "1/1 [==============================] - 0s 494ms/step\n",
            "1/1 [==============================] - 1s 504ms/step\n",
            "1/1 [==============================] - 0s 484ms/step\n",
            "1/1 [==============================] - 0s 499ms/step\n",
            "1/1 [==============================] - 0s 496ms/step\n",
            "1/1 [==============================] - 0s 491ms/step\n",
            "1/1 [==============================] - 0s 479ms/step\n",
            "1/1 [==============================] - 1s 659ms/step\n",
            "1/1 [==============================] - 1s 814ms/step\n",
            "1/1 [==============================] - 1s 770ms/step\n",
            "1/1 [==============================] - 1s 819ms/step\n",
            "1/1 [==============================] - 1s 786ms/step\n",
            "1/1 [==============================] - 1s 598ms/step\n",
            "1/1 [==============================] - 1s 589ms/step\n",
            "1/1 [==============================] - 1s 813ms/step\n",
            "1/1 [==============================] - 1s 791ms/step\n",
            "1/1 [==============================] - 1s 859ms/step\n",
            "1/1 [==============================] - 1s 772ms/step\n",
            "1/1 [==============================] - 1s 624ms/step\n",
            "1/1 [==============================] - 0s 466ms/step\n",
            "1/1 [==============================] - 0s 485ms/step\n",
            "1/1 [==============================] - 0s 469ms/step\n",
            "1/1 [==============================] - 0s 488ms/step\n",
            "1/1 [==============================] - 0s 473ms/step\n",
            "1/1 [==============================] - 0s 499ms/step\n",
            "1/1 [==============================] - 0s 472ms/step\n",
            "1/1 [==============================] - 0s 488ms/step\n",
            "1/1 [==============================] - 1s 520ms/step\n",
            "1/1 [==============================] - 1s 866ms/step\n",
            "1/1 [==============================] - 1s 826ms/step\n",
            "1/1 [==============================] - 1s 847ms/step\n",
            "1/1 [==============================] - 1s 805ms/step\n",
            "1/1 [==============================] - 1s 532ms/step\n",
            "1/1 [==============================] - 0s 469ms/step\n",
            "1/1 [==============================] - 0s 496ms/step\n",
            "1/1 [==============================] - 0s 478ms/step\n",
            "1/1 [==============================] - 0s 485ms/step\n",
            "1/1 [==============================] - 0s 473ms/step\n",
            "1/1 [==============================] - 0s 488ms/step\n",
            "1/1 [==============================] - 0s 478ms/step\n",
            "1/1 [==============================] - 0s 483ms/step\n",
            "1/1 [==============================] - 0s 483ms/step\n",
            "1/1 [==============================] - 0s 482ms/step\n",
            "1/1 [==============================] - 0s 499ms/step\n",
            "1/1 [==============================] - 0s 488ms/step\n",
            "1/1 [==============================] - 0s 491ms/step\n",
            "1/1 [==============================] - 0s 488ms/step\n",
            "1/1 [==============================] - 0s 483ms/step\n",
            "1/1 [==============================] - 0s 485ms/step\n",
            "1/1 [==============================] - 0s 481ms/step\n",
            "1/1 [==============================] - 1s 566ms/step\n",
            "1/1 [==============================] - 1s 854ms/step\n",
            "1/1 [==============================] - 1s 790ms/step\n",
            "1/1 [==============================] - 1s 847ms/step\n",
            "1/1 [==============================] - 1s 771ms/step\n",
            "1/1 [==============================] - 1s 601ms/step\n",
            "1/1 [==============================] - 0s 486ms/step\n",
            "1/1 [==============================] - 0s 475ms/step\n",
            "1/1 [==============================] - 0s 489ms/step\n",
            "1/1 [==============================] - 0s 482ms/step\n",
            "1/1 [==============================] - 0s 484ms/step\n",
            "1/1 [==============================] - 0s 470ms/step\n",
            "1/1 [==============================] - 0s 488ms/step\n",
            "1/1 [==============================] - 0s 468ms/step\n",
            "1/1 [==============================] - 0s 481ms/step\n",
            "1/1 [==============================] - 0s 462ms/step\n",
            "1/1 [==============================] - 0s 491ms/step\n",
            "1/1 [==============================] - 0s 470ms/step\n",
            "1/1 [==============================] - 0s 485ms/step\n",
            "1/1 [==============================] - 0s 471ms/step\n",
            "1/1 [==============================] - 0s 481ms/step\n",
            "1/1 [==============================] - 0s 465ms/step\n",
            "1/1 [==============================] - 0s 486ms/step\n",
            "1/1 [==============================] - 0s 475ms/step\n",
            "1/1 [==============================] - 1s 784ms/step\n",
            "1/1 [==============================] - 1s 839ms/step\n",
            "1/1 [==============================] - 1s 814ms/step\n",
            "1/1 [==============================] - 1s 857ms/step\n",
            "1/1 [==============================] - 1s 677ms/step\n",
            "1/1 [==============================] - 0s 483ms/step\n",
            "1/1 [==============================] - 0s 474ms/step\n",
            "1/1 [==============================] - 0s 478ms/step\n",
            "1/1 [==============================] - 0s 471ms/step\n",
            "1/1 [==============================] - 0s 471ms/step\n",
            "1/1 [==============================] - 0s 484ms/step\n",
            "1/1 [==============================] - 0s 473ms/step\n",
            "1/1 [==============================] - 0s 491ms/step\n",
            "1/1 [==============================] - 0s 476ms/step\n",
            "1/1 [==============================] - 0s 488ms/step\n",
            "1/1 [==============================] - 0s 468ms/step\n",
            "1/1 [==============================] - 0s 483ms/step\n",
            "1/1 [==============================] - 0s 473ms/step\n",
            "1/1 [==============================] - 0s 494ms/step\n",
            "1/1 [==============================] - 0s 483ms/step\n",
            "1/1 [==============================] - 0s 489ms/step\n",
            "1/1 [==============================] - 0s 498ms/step\n",
            "1/1 [==============================] - 0s 499ms/step\n",
            "1/1 [==============================] - 1s 838ms/step\n",
            "1/1 [==============================] - 1s 844ms/step\n",
            "1/1 [==============================] - 1s 865ms/step\n",
            "1/1 [==============================] - 1s 808ms/step\n",
            "1/1 [==============================] - 1s 605ms/step\n",
            "1/1 [==============================] - 0s 478ms/step\n",
            "1/1 [==============================] - 0s 476ms/step\n",
            "1/1 [==============================] - 0s 492ms/step\n",
            "1/1 [==============================] - 0s 476ms/step\n",
            "1/1 [==============================] - 0s 489ms/step\n",
            "1/1 [==============================] - 0s 474ms/step\n",
            "1/1 [==============================] - 0s 484ms/step\n",
            "1/1 [==============================] - 0s 474ms/step\n",
            "1/1 [==============================] - 0s 487ms/step\n",
            "1/1 [==============================] - 0s 470ms/step\n",
            "1/1 [==============================] - 0s 493ms/step\n",
            "1/1 [==============================] - 0s 465ms/step\n",
            "1/1 [==============================] - 0s 483ms/step\n",
            "1/1 [==============================] - 0s 473ms/step\n",
            "1/1 [==============================] - 0s 488ms/step\n",
            "1/1 [==============================] - 0s 467ms/step\n",
            "1/1 [==============================] - 0s 482ms/step\n",
            "1/1 [==============================] - 0s 471ms/step\n",
            "1/1 [==============================] - 1s 822ms/step\n",
            "1/1 [==============================] - 1s 824ms/step\n",
            "1/1 [==============================] - 1s 863ms/step\n",
            "1/1 [==============================] - 1s 826ms/step\n",
            "1/1 [==============================] - 1s 644ms/step\n",
            "1/1 [==============================] - 0s 489ms/step\n",
            "1/1 [==============================] - 0s 469ms/step\n",
            "1/1 [==============================] - 0s 489ms/step\n",
            "1/1 [==============================] - 0s 467ms/step\n",
            "1/1 [==============================] - 0s 496ms/step\n",
            "1/1 [==============================] - 0s 474ms/step\n",
            "1/1 [==============================] - 0s 469ms/step\n",
            "1/1 [==============================] - 0s 483ms/step\n",
            "1/1 [==============================] - 0s 470ms/step\n",
            "1/1 [==============================] - 0s 485ms/step\n",
            "1/1 [==============================] - 0s 465ms/step\n",
            "1/1 [==============================] - 0s 483ms/step\n",
            "1/1 [==============================] - 0s 474ms/step\n",
            "1/1 [==============================] - 0s 492ms/step\n",
            "1/1 [==============================] - 0s 469ms/step\n",
            "1/1 [==============================] - 0s 490ms/step\n",
            "1/1 [==============================] - 0s 473ms/step\n",
            "1/1 [==============================] - 0s 499ms/step\n",
            "1/1 [==============================] - 1s 766ms/step\n",
            "1/1 [==============================] - 1s 831ms/step\n",
            "1/1 [==============================] - 1s 841ms/step\n",
            "1/1 [==============================] - 1s 932ms/step\n",
            "1/1 [==============================] - 1s 1s/step\n",
            "1/1 [==============================] - 1s 929ms/step\n",
            "1/1 [==============================] - 0s 477ms/step\n",
            "1/1 [==============================] - 0s 468ms/step\n",
            "1/1 [==============================] - 0s 476ms/step\n",
            "1/1 [==============================] - 0s 481ms/step\n",
            "1/1 [==============================] - 0s 467ms/step\n",
            "1/1 [==============================] - 0s 481ms/step\n",
            "1/1 [==============================] - 0s 470ms/step\n",
            "1/1 [==============================] - 0s 485ms/step\n",
            "1/1 [==============================] - 0s 486ms/step\n",
            "1/1 [==============================] - 0s 490ms/step\n",
            "1/1 [==============================] - 0s 468ms/step\n",
            "1/1 [==============================] - 0s 489ms/step\n",
            "1/1 [==============================] - 0s 468ms/step\n",
            "1/1 [==============================] - 0s 487ms/step\n",
            "1/1 [==============================] - 0s 470ms/step\n",
            "1/1 [==============================] - 1s 577ms/step\n",
            "1/1 [==============================] - 1s 839ms/step\n",
            "1/1 [==============================] - 1s 787ms/step\n",
            "1/1 [==============================] - 1s 834ms/step\n",
            "1/1 [==============================] - 1s 796ms/step\n",
            "1/1 [==============================] - 1s 560ms/step\n",
            "1/1 [==============================] - 0s 475ms/step\n",
            "1/1 [==============================] - 0s 484ms/step\n",
            "1/1 [==============================] - 0s 482ms/step\n",
            "1/1 [==============================] - 0s 481ms/step\n",
            "1/1 [==============================] - 0s 473ms/step\n",
            "1/1 [==============================] - 0s 474ms/step\n",
            "1/1 [==============================] - 0s 494ms/step\n",
            "1/1 [==============================] - 0s 467ms/step\n",
            "1/1 [==============================] - 0s 478ms/step\n",
            "1/1 [==============================] - 0s 478ms/step\n",
            "1/1 [==============================] - 0s 481ms/step\n",
            "1/1 [==============================] - 0s 474ms/step\n",
            "1/1 [==============================] - 0s 486ms/step\n",
            "1/1 [==============================] - 0s 476ms/step\n",
            "1/1 [==============================] - 0s 478ms/step\n",
            "1/1 [==============================] - 0s 477ms/step\n",
            "1/1 [==============================] - 0s 484ms/step\n",
            "1/1 [==============================] - 1s 587ms/step\n",
            "1/1 [==============================] - 1s 886ms/step\n",
            "1/1 [==============================] - 1s 813ms/step\n",
            "1/1 [==============================] - 1s 839ms/step\n",
            "1/1 [==============================] - 1s 790ms/step\n",
            "1/1 [==============================] - 1s 585ms/step\n",
            "1/1 [==============================] - 0s 483ms/step\n",
            "1/1 [==============================] - 0s 493ms/step\n",
            "1/1 [==============================] - 0s 475ms/step\n",
            "1/1 [==============================] - 0s 492ms/step\n",
            "1/1 [==============================] - 0s 473ms/step\n",
            "1/1 [==============================] - 0s 485ms/step\n",
            "1/1 [==============================] - 0s 477ms/step\n",
            "1/1 [==============================] - 0s 489ms/step\n",
            "1/1 [==============================] - 0s 472ms/step\n",
            "1/1 [==============================] - 0s 490ms/step\n",
            "1/1 [==============================] - 0s 478ms/step\n",
            "1/1 [==============================] - 1s 501ms/step\n",
            "1/1 [==============================] - 0s 472ms/step\n",
            "1/1 [==============================] - 0s 488ms/step\n",
            "1/1 [==============================] - 0s 465ms/step\n"
          ]
        }
      ],
      "source": [
        "extract_features(flowers)"
      ]
    },
    {
      "cell_type": "markdown",
      "metadata": {
        "id": "tw5ClwTAqNJf"
      },
      "source": [
        "# Clustering\n",
        "Here, using two clustering algorithms, **K-Means** and **DBSCAN**, and the feature vectors from the previous section, we are going to cluster our images.\n"
      ]
    },
    {
      "cell_type": "markdown",
      "metadata": {
        "id": "uB8gF3-zrbRp"
      },
      "source": [
        "4. Compare K-Means and DBSCAN pros and cons.\n",
        "> **KMean** <br>\n",
        "> pros:<br>\n",
        "> Simple and easy to implement.\n",
        "> Computationally efficient, especially for large datasets and low-dimensional data.<br>\n",
        ">  Scales well to a large number of samples.\n",
        ">  Produces tight, well-separated clusters when the data is well-separated and spherical.<br>\n",
        "> Generally performs well when the clusters are evenly sized and have similar density.<br>\n",
        "> cons:<br>\n",
        ">Requires the number of clusters (k) to be specified in advance, which may not always be known.<br>\n",
        "> Sensitive to the initial selection of cluster centroids, which can lead to suboptimal solutions.<br>\n",
        "> Prone to convergence to local minima, especially when clusters have different sizes, densities, or non-spherical shapes.<br>\n",
        "> Assumes clusters are spherical and have similar density, which may not be true for all datasets<br>\n",
        ">Does not work well with clusters of different sizes or densities, or when clusters have irregular shapes or non-linear boundaries.<br>\n",
        "> **DBSCAN**<br>\n",
        "> pros:\n",
        "> Does not require specifying the number of clusters in advance.<br>\n",
        "> Can discover clusters of arbitrary shapes and sizes.<br>\n",
        "> Robust to outliers and noise in the data.<br>\n",
        "> Does not assume clusters have a spherical shape or similar density.\n",
        "Can handle clusters with varying densities and non-linear boundaries effectively.<br>\n",
        "> cons:\n",
        "> Computationally more expensive than K-means, especially for large datasets.<br>\n",
        "> Requires tuning of two parameters: epsilon (ε) and min_samples, which may not always be straightforward.<br>\n",
        "Performance may degrade in high-dimensional spaces due to the curse of dimensionality.<br>\n",
        "> Not suitable for clusters with varying densities if a single epsilon value is used.<br>\n",
        "> May produce overlapping clusters if epsilon is set too low or too high, or if min_samples is set too low.<br>\n",
        "\n",
        "\n"
      ]
    },
    {
      "cell_type": "markdown",
      "metadata": {
        "id": "QX-yHHtRr-MO"
      },
      "source": [
        "## K-Means"
      ]
    },
    {
      "cell_type": "markdown",
      "metadata": {
        "id": "MQ4d3rXBtlB_"
      },
      "source": [
        "### Identify Optimum Number of clusters\n",
        "First, let's select the appropriate k using an elbow plot.\n",
        "\n",
        "5. Describe the method used to find the appropriate K in K-Means.\n",
        "Plot the inertia (sum of squared distances of samples to their closest cluster center) as a function of the number of clusters and look for the \"elbow\" point, where the rate of decrease in inertia slows down. The point at which adding more clusters does not significantly decrease inertia is often chosen as the optimal number of clusters."
      ]
    },
    {
      "cell_type": "code",
      "execution_count": 99,
      "metadata": {
        "id": "mFTnRnIxtxz5"
      },
      "outputs": [],
      "source": [
        "def optimize_number_of_clusters(features: np.ndarray, max_k: int) -> None:\n",
        "  cluster_counts = []\n",
        "  inertias = []\n",
        "\n",
        "  for k in range(1, max_k):\n",
        "    model = KMeans(n_clusters=k, init='k-means++', max_iter=NUM_ITER, n_init=10)\n",
        "    model.fit(features)\n",
        "    inertias.append(model.inertia_)\n",
        "    cluster_counts.append(k)\n",
        "\n",
        "  plt.subplots(figsize=(10,5))\n",
        "  plt.plot(range(1, max_k), inertias, 'o-')\n",
        "  plt.xlabel('Number of clusters (K)')\n",
        "  plt.ylabel('Inertia')\n",
        "  plt.grid(True)\n",
        "  plt.show()"
      ]
    },
    {
      "cell_type": "code",
      "execution_count": 117,
      "metadata": {
        "colab": {
          "base_uri": "https://localhost:8080/",
          "height": 480
        },
        "id": "hO6eODtfy9Er",
        "outputId": "24d69bf4-5387-4f12-d411-66add55c6b0b"
      },
      "outputs": [
        {
          "output_type": "display_data",
          "data": {
            "text/plain": [
              "<Figure size 1000x500 with 1 Axes>"
            ],
            "image/png": "[encoded data removed]"
          },
          "metadata": {}
        }
      ],
      "source": [
        "optimize_number_of_clusters([flower.features.flatten() for flower in flowers], 15)"
      ]
    },
    {
      "cell_type": "markdown",
      "metadata": {
        "id": "9dIUb3jDLZQ1"
      },
      "source": [
        "So, we choose 10 as number of clusters."
      ]
    },
    {
      "cell_type": "markdown",
      "metadata": {
        "id": "39nKPlw8LngL"
      },
      "source": [
        "### Applying K-Means Clustering"
      ]
    },
    {
      "cell_type": "code",
      "execution_count": 118,
      "metadata": {
        "id": "vRvsKO2sLrdH"
      },
      "outputs": [],
      "source": [
        "kmeans = KMeans(n_clusters=10, init='k-means++', max_iter=NUM_ITER, n_init=10)"
      ]
    },
    {
      "cell_type": "code",
      "execution_count": 119,
      "metadata": {
        "colab": {
          "base_uri": "https://localhost:8080/",
          "height": 75
        },
        "id": "Kj_On29TLywc",
        "outputId": "cbf38992-49de-491e-aa5f-e67bbdcfc084"
      },
      "outputs": [
        {
          "output_type": "execute_result",
          "data": {
            "text/plain": [
              "KMeans(max_iter=100, n_clusters=10, n_init=10)"
            ],
            "text/html": [
              "<style>#sk-container-id-10 {color: black;background-color: white;}#sk-container-id-10 pre{padding: 0;}#sk-container-id-10 div.sk-toggleable {background-color: white;}#sk-container-id-10 label.sk-toggleable__label {cursor: pointer;display: block;width: 100%;margin-bottom: 0;padding: 0.3em;box-sizing: border-box;text-align: center;}#sk-container-id-10 label.sk-toggleable__label-arrow:before {content: \"▸\";float: left;margin-right: 0.25em;color: #696969;}#sk-container-id-10 label.sk-toggleable__label-arrow:hover:before {color: black;}#sk-container-id-10 div.sk-estimator:hover label.sk-toggleable__label-arrow:before {color: black;}#sk-container-id-10 div.sk-toggleable__content {max-height: 0;max-width: 0;overflow: hidden;text-align: left;background-color: #f0f8ff;}#sk-container-id-10 div.sk-toggleable__content pre {margin: 0.2em;color: black;border-radius: 0.25em;background-color: #f0f8ff;}#sk-container-id-10 input.sk-toggleable__control:checked~div.sk-toggleable__content {max-height: 200px;max-width: 100%;overflow: auto;}#sk-container-id-10 input.sk-toggleable__control:checked~label.sk-toggleable__label-arrow:before {content: \"▾\";}#sk-container-id-10 div.sk-estimator input.sk-toggleable__control:checked~label.sk-toggleable__label {background-color: #d4ebff;}#sk-container-id-10 div.sk-label input.sk-toggleable__control:checked~label.sk-toggleable__label {background-color: #d4ebff;}#sk-container-id-10 input.sk-hidden--visually {border: 0;clip: rect(1px 1px 1px 1px);clip: rect(1px, 1px, 1px, 1px);height: 1px;margin: -1px;overflow: hidden;padding: 0;position: absolute;width: 1px;}#sk-container-id-10 div.sk-estimator {font-family: monospace;background-color: #f0f8ff;border: 1px dotted black;border-radius: 0.25em;box-sizing: border-box;margin-bottom: 0.5em;}#sk-container-id-10 div.sk-estimator:hover {background-color: #d4ebff;}#sk-container-id-10 div.sk-parallel-item::after {content: \"\";width: 100%;border-bottom: 1px solid gray;flex-grow: 1;}#sk-container-id-10 div.sk-label:hover label.sk-toggleable__label {background-color: #d4ebff;}#sk-container-id-10 div.sk-serial::before {content: \"\";position: absolute;border-left: 1px solid gray;box-sizing: border-box;top: 0;bottom: 0;left: 50%;z-index: 0;}#sk-container-id-10 div.sk-serial {display: flex;flex-direction: column;align-items: center;background-color: white;padding-right: 0.2em;padding-left: 0.2em;position: relative;}#sk-container-id-10 div.sk-item {position: relative;z-index: 1;}#sk-container-id-10 div.sk-parallel {display: flex;align-items: stretch;justify-content: center;background-color: white;position: relative;}#sk-container-id-10 div.sk-item::before, #sk-container-id-10 div.sk-parallel-item::before {content: \"\";position: absolute;border-left: 1px solid gray;box-sizing: border-box;top: 0;bottom: 0;left: 50%;z-index: -1;}#sk-container-id-10 div.sk-parallel-item {display: flex;flex-direction: column;z-index: 1;position: relative;background-color: white;}#sk-container-id-10 div.sk-parallel-item:first-child::after {align-self: flex-end;width: 50%;}#sk-container-id-10 div.sk-parallel-item:last-child::after {align-self: flex-start;width: 50%;}#sk-container-id-10 div.sk-parallel-item:only-child::after {width: 0;}#sk-container-id-10 div.sk-dashed-wrapped {border: 1px dashed gray;margin: 0 0.4em 0.5em 0.4em;box-sizing: border-box;padding-bottom: 0.4em;background-color: white;}#sk-container-id-10 div.sk-label label {font-family: monospace;font-weight: bold;display: inline-block;line-height: 1.2em;}#sk-container-id-10 div.sk-label-container {text-align: center;}#sk-container-id-10 div.sk-container {/* jupyter's `normalize.less` sets `[hidden] { display: none; }` but bootstrap.min.css set `[hidden] { display: none !important; }` so we also need the `!important` here to be able to override the default hidden behavior on the sphinx rendered scikit-learn.org. See: https://github.com/scikit-learn/scikit-learn/issues/21755 */display: inline-block !important;position: relative;}#sk-container-id-10 div.sk-text-repr-fallback {display: none;}</style><div id=\"sk-container-id-10\" class=\"sk-top-container\"><div class=\"sk-text-repr-fallback\"><pre>KMeans(max_iter=100, n_clusters=10, n_init=10)</pre><b>In a Jupyter environment, please rerun this cell to show the HTML representation or trust the notebook. <br />On GitHub, the HTML representation is unable to render, please try loading this page with nbviewer.org.</b></div><div class=\"sk-container\" hidden><div class=\"sk-item\"><div class=\"sk-estimator sk-toggleable\"><input class=\"sk-toggleable__control sk-hidden--visually\" id=\"sk-estimator-id-10\" type=\"checkbox\" checked><label for=\"sk-estimator-id-10\" class=\"sk-toggleable__label sk-toggleable__label-arrow\">KMeans</label><div class=\"sk-toggleable__content\"><pre>KMeans(max_iter=100, n_clusters=10, n_init=10)</pre></div></div></div></div></div>"
            ]
          },
          "metadata": {},
          "execution_count": 119
        }
      ],
      "source": [
        "kmeans.fit([flower.features.flatten() for flower in flowers])"
      ]
    },
    {
      "cell_type": "code",
      "execution_count": 120,
      "metadata": {
        "id": "CeqU-F83MLZy"
      },
      "outputs": [],
      "source": [
        "labels['K-Means label'] = kmeans.labels_"
      ]
    },
    {
      "cell_type": "code",
      "execution_count": 113,
      "metadata": {
        "colab": {
          "base_uri": "https://localhost:8080/",
          "height": 424
        },
        "id": "avRZ30xdMYXp",
        "outputId": "1a32c58b-3e12-4f19-d55e-e56930b74c0c"
      },
      "outputs": [
        {
          "output_type": "execute_result",
          "data": {
            "text/plain": [
              "         file  label  K-Means label\n",
              "0    0001.png      0              4\n",
              "1    0002.png      0              4\n",
              "2    0003.png      2              1\n",
              "3    0004.png      0              4\n",
              "4    0005.png      0              0\n",
              "..        ...    ...            ...\n",
              "205  0206.png      6              4\n",
              "206  0207.png      0              4\n",
              "207  0208.png      4              1\n",
              "208  0209.png      6              4\n",
              "209  0210.png      1              4\n",
              "\n",
              "[210 rows x 3 columns]"
            ],
            "text/html": [
              "\n",
              "  <div id=\"df-a51ab177-ab22-4948-902c-aad4819fe66a\" class=\"colab-df-container\">\n",
              "    <div>\n",
              "<style scoped>\n",
              "    .dataframe tbody tr th:only-of-type {\n",
              "        vertical-align: middle;\n",
              "    }\n",
              "\n",
              "    .dataframe tbody tr th {\n",
              "        vertical-align: top;\n",
              "    }\n",
              "\n",
              "    .dataframe thead th {\n",
              "        text-align: right;\n",
              "    }\n",
              "</style>\n",
              "<table border=\"1\" class=\"dataframe\">\n",
              "  <thead>\n",
              "    <tr style=\"text-align: right;\">\n",
              "      <th></th>\n",
              "      <th>file</th>\n",
              "      <th>label</th>\n",
              "      <th>K-Means label</th>\n",
              "    </tr>\n",
              "  </thead>\n",
              "  <tbody>\n",
              "    <tr>\n",
              "      <th>0</th>\n",
              "      <td>0001.png</td>\n",
              "      <td>0</td>\n",
              "      <td>4</td>\n",
              "    </tr>\n",
              "    <tr>\n",
              "      <th>1</th>\n",
              "      <td>0002.png</td>\n",
              "      <td>0</td>\n",
              "      <td>4</td>\n",
              "    </tr>\n",
              "    <tr>\n",
              "      <th>2</th>\n",
              "      <td>0003.png</td>\n",
              "      <td>2</td>\n",
              "      <td>1</td>\n",
              "    </tr>\n",
              "    <tr>\n",
              "      <th>3</th>\n",
              "      <td>0004.png</td>\n",
              "      <td>0</td>\n",
              "      <td>4</td>\n",
              "    </tr>\n",
              "    <tr>\n",
              "      <th>4</th>\n",
              "      <td>0005.png</td>\n",
              "      <td>0</td>\n",
              "      <td>0</td>\n",
              "    </tr>\n",
              "    <tr>\n",
              "      <th>...</th>\n",
              "      <td>...</td>\n",
              "      <td>...</td>\n",
              "      <td>...</td>\n",
              "    </tr>\n",
              "    <tr>\n",
              "      <th>205</th>\n",
              "      <td>0206.png</td>\n",
              "      <td>6</td>\n",
              "      <td>4</td>\n",
              "    </tr>\n",
              "    <tr>\n",
              "      <th>206</th>\n",
              "      <td>0207.png</td>\n",
              "      <td>0</td>\n",
              "      <td>4</td>\n",
              "    </tr>\n",
              "    <tr>\n",
              "      <th>207</th>\n",
              "      <td>0208.png</td>\n",
              "      <td>4</td>\n",
              "      <td>1</td>\n",
              "    </tr>\n",
              "    <tr>\n",
              "      <th>208</th>\n",
              "      <td>0209.png</td>\n",
              "      <td>6</td>\n",
              "      <td>4</td>\n",
              "    </tr>\n",
              "    <tr>\n",
              "      <th>209</th>\n",
              "      <td>0210.png</td>\n",
              "      <td>1</td>\n",
              "      <td>4</td>\n",
              "    </tr>\n",
              "  </tbody>\n",
              "</table>\n",
              "<p>210 rows × 3 columns</p>\n",
              "</div>\n",
              "    <div class=\"colab-df-buttons\">\n",
              "\n",
              "  <div class=\"colab-df-container\">\n",
              "    <button class=\"colab-df-convert\" onclick=\"convertToInteractive('df-a51ab177-ab22-4948-902c-aad4819fe66a')\"\n",
              "            title=\"Convert this dataframe to an interactive table.\"\n",
              "            style=\"display:none;\">\n",
              "\n",
              "  <svg xmlns=\"http://www.w3.org/2000/svg\" height=\"24px\" viewBox=\"0 -960 960 960\">\n",
              "    <path d=\"M120-120v-720h720v720H120Zm60-500h600v-160H180v160Zm220 220h160v-160H400v160Zm0 220h160v-160H400v160ZM180-400h160v-160H180v160Zm440 0h160v-160H620v160ZM180-180h160v-160H180v160Zm440 0h160v-160H620v160Z\"/>\n",
              "  </svg>\n",
              "    </button>\n",
              "\n",
              "  <style>\n",
              "    .colab-df-container {\n",
              "      display:flex;\n",
              "      gap: 12px;\n",
              "    }\n",
              "\n",
              "    .colab-df-convert {\n",
              "      background-color: #E8F0FE;\n",
              "      border: none;\n",
              "      border-radius: 50%;\n",
              "      cursor: pointer;\n",
              "      display: none;\n",
              "      fill: #1967D2;\n",
              "      height: 32px;\n",
              "      padding: 0 0 0 0;\n",
              "      width: 32px;\n",
              "    }\n",
              "\n",
              "    .colab-df-convert:hover {\n",
              "      background-color: #E2EBFA;\n",
              "      box-shadow: 0px 1px 2px rgba(60, 64, 67, 0.3), 0px 1px 3px 1px rgba(60, 64, 67, 0.15);\n",
              "      fill: #174EA6;\n",
              "    }\n",
              "\n",
              "    .colab-df-buttons div {\n",
              "      margin-bottom: 4px;\n",
              "    }\n",
              "\n",
              "    [theme=dark] .colab-df-convert {\n",
              "      background-color: #3B4455;\n",
              "      fill: #D2E3FC;\n",
              "    }\n",
              "\n",
              "    [theme=dark] .colab-df-convert:hover {\n",
              "      background-color: #434B5C;\n",
              "      box-shadow: 0px 1px 3px 1px rgba(0, 0, 0, 0.15);\n",
              "      filter: drop-shadow(0px 1px 2px rgba(0, 0, 0, 0.3));\n",
              "      fill: #FFFFFF;\n",
              "    }\n",
              "  </style>\n",
              "\n",
              "    <script>\n",
              "      const buttonEl =\n",
              "        document.querySelector('#df-a51ab177-ab22-4948-902c-aad4819fe66a button.colab-df-convert');\n",
              "      buttonEl.style.display =\n",
              "        google.colab.kernel.accessAllowed ? 'block' : 'none';\n",
              "\n",
              "      async function convertToInteractive(key) {\n",
              "        const element = document.querySelector('#df-a51ab177-ab22-4948-902c-aad4819fe66a');\n",
              "        const dataTable =\n",
              "          await google.colab.kernel.invokeFunction('convertToInteractive',\n",
              "                                                    [key], {});\n",
              "        if (!dataTable) return;\n",
              "\n",
              "        const docLinkHtml = 'Like what you see? Visit the ' +\n",
              "          '<a target=\"_blank\" href=https://colab.research.google.com/notebooks/data_table.ipynb>data table notebook</a>'\n",
              "          + ' to learn more about interactive tables.';\n",
              "        element.innerHTML = '';\n",
              "        dataTable['output_type'] = 'display_data';\n",
              "        await google.colab.output.renderOutput(dataTable, element);\n",
              "        const docLink = document.createElement('div');\n",
              "        docLink.innerHTML = docLinkHtml;\n",
              "        element.appendChild(docLink);\n",
              "      }\n",
              "    </script>\n",
              "  </div>\n",
              "\n",
              "\n",
              "<div id=\"df-312ab9cb-696f-4fa5-9ef8-926aaee8757a\">\n",
              "  <button class=\"colab-df-quickchart\" onclick=\"quickchart('df-312ab9cb-696f-4fa5-9ef8-926aaee8757a')\"\n",
              "            title=\"Suggest charts\"\n",
              "            style=\"display:none;\">\n",
              "\n",
              "<svg xmlns=\"http://www.w3.org/2000/svg\" height=\"24px\"viewBox=\"0 0 24 24\"\n",
              "     width=\"24px\">\n",
              "    <g>\n",
              "        <path d=\"M19 3H5c-1.1 0-2 .9-2 2v14c0 1.1.9 2 2 2h14c1.1 0 2-.9 2-2V5c0-1.1-.9-2-2-2zM9 17H7v-7h2v7zm4 0h-2V7h2v10zm4 0h-2v-4h2v4z\"/>\n",
              "    </g>\n",
              "</svg>\n",
              "  </button>\n",
              "\n",
              "<style>\n",
              "  .colab-df-quickchart {\n",
              "      --bg-color: #E8F0FE;\n",
              "      --fill-color: #1967D2;\n",
              "      --hover-bg-color: #E2EBFA;\n",
              "      --hover-fill-color: #174EA6;\n",
              "      --disabled-fill-color: #AAA;\n",
              "      --disabled-bg-color: #DDD;\n",
              "  }\n",
              "\n",
              "  [theme=dark] .colab-df-quickchart {\n",
              "      --bg-color: #3B4455;\n",
              "      --fill-color: #D2E3FC;\n",
              "      --hover-bg-color: #434B5C;\n",
              "      --hover-fill-color: #FFFFFF;\n",
              "      --disabled-bg-color: #3B4455;\n",
              "      --disabled-fill-color: #666;\n",
              "  }\n",
              "\n",
              "  .colab-df-quickchart {\n",
              "    background-color: var(--bg-color);\n",
              "    border: none;\n",
              "    border-radius: 50%;\n",
              "    cursor: pointer;\n",
              "    display: none;\n",
              "    fill: var(--fill-color);\n",
              "    height: 32px;\n",
              "    padding: 0;\n",
              "    width: 32px;\n",
              "  }\n",
              "\n",
              "  .colab-df-quickchart:hover {\n",
              "    background-color: var(--hover-bg-color);\n",
              "    box-shadow: 0 1px 2px rgba(60, 64, 67, 0.3), 0 1px 3px 1px rgba(60, 64, 67, 0.15);\n",
              "    fill: var(--button-hover-fill-color);\n",
              "  }\n",
              "\n",
              "  .colab-df-quickchart-complete:disabled,\n",
              "  .colab-df-quickchart-complete:disabled:hover {\n",
              "    background-color: var(--disabled-bg-color);\n",
              "    fill: var(--disabled-fill-color);\n",
              "    box-shadow: none;\n",
              "  }\n",
              "\n",
              "  .colab-df-spinner {\n",
              "    border: 2px solid var(--fill-color);\n",
              "    border-color: transparent;\n",
              "    border-bottom-color: var(--fill-color);\n",
              "    animation:\n",
              "      spin 1s steps(1) infinite;\n",
              "  }\n",
              "\n",
              "  @keyframes spin {\n",
              "    0% {\n",
              "      border-color: transparent;\n",
              "      border-bottom-color: var(--fill-color);\n",
              "      border-left-color: var(--fill-color);\n",
              "    }\n",
              "    20% {\n",
              "      border-color: transparent;\n",
              "      border-left-color: var(--fill-color);\n",
              "      border-top-color: var(--fill-color);\n",
              "    }\n",
              "    30% {\n",
              "      border-color: transparent;\n",
              "      border-left-color: var(--fill-color);\n",
              "      border-top-color: var(--fill-color);\n",
              "      border-right-color: var(--fill-color);\n",
              "    }\n",
              "    40% {\n",
              "      border-color: transparent;\n",
              "      border-right-color: var(--fill-color);\n",
              "      border-top-color: var(--fill-color);\n",
              "    }\n",
              "    60% {\n",
              "      border-color: transparent;\n",
              "      border-right-color: var(--fill-color);\n",
              "    }\n",
              "    80% {\n",
              "      border-color: transparent;\n",
              "      border-right-color: var(--fill-color);\n",
              "      border-bottom-color: var(--fill-color);\n",
              "    }\n",
              "    90% {\n",
              "      border-color: transparent;\n",
              "      border-bottom-color: var(--fill-color);\n",
              "    }\n",
              "  }\n",
              "</style>\n",
              "\n",
              "  <script>\n",
              "    async function quickchart(key) {\n",
              "      const quickchartButtonEl =\n",
              "        document.querySelector('#' + key + ' button');\n",
              "      quickchartButtonEl.disabled = true;  // To prevent multiple clicks.\n",
              "      quickchartButtonEl.classList.add('colab-df-spinner');\n",
              "      try {\n",
              "        const charts = await google.colab.kernel.invokeFunction(\n",
              "            'suggestCharts', [key], {});\n",
              "      } catch (error) {\n",
              "        console.error('Error during call to suggestCharts:', error);\n",
              "      }\n",
              "      quickchartButtonEl.classList.remove('colab-df-spinner');\n",
              "      quickchartButtonEl.classList.add('colab-df-quickchart-complete');\n",
              "    }\n",
              "    (() => {\n",
              "      let quickchartButtonEl =\n",
              "        document.querySelector('#df-312ab9cb-696f-4fa5-9ef8-926aaee8757a button');\n",
              "      quickchartButtonEl.style.display =\n",
              "        google.colab.kernel.accessAllowed ? 'block' : 'none';\n",
              "    })();\n",
              "  </script>\n",
              "</div>\n",
              "    </div>\n",
              "  </div>\n"
            ],
            "application/vnd.google.colaboratory.intrinsic+json": {
              "type": "dataframe",
              "variable_name": "labels",
              "summary": "{\n  \"name\": \"labels\",\n  \"rows\": 210,\n  \"fields\": [\n    {\n      \"column\": \"file\",\n      \"properties\": {\n        \"dtype\": \"string\",\n        \"num_unique_values\": 210,\n        \"samples\": [\n          \"0031.png\",\n          \"0173.png\",\n          \"0085.png\"\n        ],\n        \"semantic_type\": \"\",\n        \"description\": \"\"\n      }\n    },\n    {\n      \"column\": \"label\",\n      \"properties\": {\n        \"dtype\": \"number\",\n        \"std\": 2,\n        \"min\": 0,\n        \"max\": 9,\n        \"num_unique_values\": 10,\n        \"samples\": [\n          8,\n          2,\n          4\n        ],\n        \"semantic_type\": \"\",\n        \"description\": \"\"\n      }\n    },\n    {\n      \"column\": \"K-Means label\",\n      \"properties\": {\n        \"dtype\": \"int32\",\n        \"num_unique_values\": 10,\n        \"samples\": [\n          3,\n          1,\n          8\n        ],\n        \"semantic_type\": \"\",\n        \"description\": \"\"\n      }\n    }\n  ]\n}"
            }
          },
          "metadata": {},
          "execution_count": 113
        }
      ],
      "source": [
        "labels"
      ]
    },
    {
      "cell_type": "markdown",
      "source": [
        "## DBSCAN"
      ],
      "metadata": {
        "id": "CGCWkfsfbfPk"
      }
    },
    {
      "cell_type": "markdown",
      "source": [
        "### HyperParameters\n",
        "First, we should choose our hyper parameters, **MinPoints** and **Epsilon**"
      ],
      "metadata": {
        "id": "cG1sYCjAf87V"
      }
    },
    {
      "cell_type": "code",
      "source": [],
      "metadata": {
        "id": "uXU1NSar0ORR"
      },
      "execution_count": null,
      "outputs": []
    },
    {
      "cell_type": "markdown",
      "source": [
        "### Applying DBSCAN\n"
      ],
      "metadata": {
        "id": "SHibiYik0QUj"
      }
    },
    {
      "cell_type": "code",
      "source": [
        "dbscan = DBSCAN(eps=0.5, min_samples=5)"
      ],
      "metadata": {
        "id": "bnu_xVTp0Z3B"
      },
      "execution_count": 114,
      "outputs": []
    },
    {
      "cell_type": "code",
      "source": [
        "dbscan_clusters = dbscan.fit_predict([flower.features.flatten() for flower in flowers])"
      ],
      "metadata": {
        "id": "BiniS-5A0wD5"
      },
      "execution_count": 115,
      "outputs": []
    },
    {
      "cell_type": "code",
      "source": [
        "dbscan_clusters"
      ],
      "metadata": {
        "id": "Caw20Q4m1acX",
        "outputId": "75ec1334-c009-469a-b839-6f21945640cd",
        "colab": {
          "base_uri": "https://localhost:8080/"
        }
      },
      "execution_count": 116,
      "outputs": [
        {
          "output_type": "execute_result",
          "data": {
            "text/plain": [
              "array([-1, -1, -1, -1, -1, -1, -1, -1, -1, -1, -1, -1, -1, -1, -1, -1, -1,\n",
              "       -1, -1, -1, -1, -1, -1, -1, -1, -1, -1, -1, -1, -1, -1, -1, -1, -1,\n",
              "       -1, -1, -1, -1, -1, -1, -1, -1, -1, -1, -1, -1, -1, -1, -1, -1, -1,\n",
              "       -1, -1, -1, -1, -1, -1, -1, -1, -1, -1, -1, -1, -1, -1, -1, -1, -1,\n",
              "       -1, -1, -1, -1, -1, -1, -1, -1, -1, -1, -1, -1, -1, -1, -1, -1, -1,\n",
              "       -1, -1, -1, -1, -1, -1, -1, -1, -1, -1, -1, -1, -1, -1, -1, -1, -1,\n",
              "       -1, -1, -1, -1, -1, -1, -1, -1, -1, -1, -1, -1, -1, -1, -1, -1, -1,\n",
              "       -1, -1, -1, -1, -1, -1, -1, -1, -1, -1, -1, -1, -1, -1, -1, -1, -1,\n",
              "       -1, -1, -1, -1, -1, -1, -1, -1, -1, -1, -1, -1, -1, -1, -1, -1, -1,\n",
              "       -1, -1, -1, -1, -1, -1, -1, -1, -1, -1, -1, -1, -1, -1, -1, -1, -1,\n",
              "       -1, -1, -1, -1, -1, -1, -1, -1, -1, -1, -1, -1, -1, -1, -1, -1, -1,\n",
              "       -1, -1, -1, -1, -1, -1, -1, -1, -1, -1, -1, -1, -1, -1, -1, -1, -1,\n",
              "       -1, -1, -1, -1, -1, -1])"
            ]
          },
          "metadata": {},
          "execution_count": 116
        }
      ]
    },
    {
      "cell_type": "markdown",
      "source": [
        "# Dimenssion Reduction\n",
        "\n",
        "7. Explain PCA.\n",
        ">PCA is a dimensionality reduction technique used in statistics and machine learning to transform high-dimensional data into a lower-dimensional representation, preserving the most important information.<br>\n",
        ">Principal components are linear combinations of the original features that PCA finds and uses to capture the most variance in the data. In order of the amount of variance they explain, these orthogonal components are arranged.<br>\n",
        ">Principal components represent the directions in which the data varies the most. The first few components typically capture the majority of the data’s variance, allowing for a more concise representation.<br>\n",
        ">PCA is widely used for various purposes, including data visualization, noise reduction, and feature extraction. It helps in identifying underlying patterns in high-dimensional data and simplifying complex datasets for further analysis.<"
      ],
      "metadata": {
        "id": "vkqVus314mQJ"
      }
    },
    {
      "cell_type": "markdown",
      "source": [
        "# Evaluation and Analysis"
      ],
      "metadata": {
        "id": "PJue_TAT_odb"
      }
    },
    {
      "cell_type": "markdown",
      "source": [
        "## Silhouette"
      ],
      "metadata": {
        "id": "QVJE6XrCQk3q"
      }
    },
    {
      "cell_type": "markdown",
      "source": [
        "The silhouette coefficient is a metric that measures how well each data point fits into its assigned cluster. It combines information about both the cohesion (how close a data point is to other points in its own cluster) and the separation (how far a data point is from points in other clusters) of the data point.<br>\n",
        "The coefficient ranges from -1 to 1, where a value close to 1 indicates a well-clustered data point, a value close to 0 suggests overlapping clusters, and a value close to -1 indicates a misclassified data point.<br>\n",
        "**Calculating the Silhouette Coefficient: Step-by-Step**\n",
        "\n",
        "\n",
        "*   For each data point, calculate two values\n",
        "    - Average distance to all other data points within the same cluster (cohesion).\n",
        "    - Average distance to all data points in the nearest neighboring cluster (separation).\n",
        "\n",
        "*   Compute the silhouette coefficient for each data point using the formula<br>\n",
        "$$\n",
        "silhouette coefficient = (separation — cohesion) / max(separation, cohesion)\n",
        "$$\n",
        "\n",
        "*   Calculate the average silhouette coefficient across all data points to obtain the overall silhouette score for the clustering result.\n",
        "\n",
        "In summary, a higher silhouette score indicates better-defined clusters with samples well-separated from neighboring clusters. It is a valuable tool for assessing the appropriateness of the number of clusters chosen and for comparing different clustering algorithms or parameter settings.\n",
        "\n"
      ],
      "metadata": {
        "id": "0bRXNN9mfjee"
      }
    },
    {
      "cell_type": "markdown",
      "source": [
        "## Homogeneity"
      ],
      "metadata": {
        "id": "5o3UADzbQn69"
      }
    },
    {
      "cell_type": "markdown",
      "source": [
        "Homogeneity measures how much the sample in a cluster are similar.<br>\n",
        "Homogeneity is often calculated using external evaluation metrics, such as the Adjusted Mutual Information (AMI) or the V-measure. These metrics compare the clustering results with the true class labels to determine the homogeneity of the clusters.<br>\n",
        "\n",
        "\n",
        "*   **Adjusted Mutual Information (AMI):** AMI measures the agreement between the clustering result and the true class labels, while adjusting for chance.\n",
        "*   **V-measure:** V-measure is the harmonic mean of homogeneity and completeness, where homogeneity measures how well each cluster contains only data points from a single class\n",
        "\n"
      ],
      "metadata": {
        "id": "ZK3s8OlNikqA"
      }
    }
  ],
  "metadata": {
    "colab": {
      "provenance": [],
      "mount_file_id": "1NUbZQyrJ14yaKoZpy3RvArmoi2i-emo0",
      "authorship_tag": "ABX9TyNeC5nYA+nTj+j7VJgFMgAL",
      "include_colab_link": true
    },
    "kernelspec": {
      "display_name": "Python 3",
      "name": "python3"
    },
    "language_info": {
      "name": "python"
    }
  },
  "nbformat": 4,
  "nbformat_minor": 0
}