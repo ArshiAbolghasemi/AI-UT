{
  "nbformat": 4,
  "nbformat_minor": 0,
  "metadata": {
    "colab": {
      "provenance": [],
      "authorship_tag": "ABX9TyOKbWF7yJCjQP+CSHh545CE",
      "include_colab_link": true
    },
    "kernelspec": {
      "name": "python3",
      "display_name": "Python 3"
    },
    "language_info": {
      "name": "python"
    }
  },
  "cells": [
    {
      "cell_type": "markdown",
      "metadata": {
        "id": "view-in-github",
        "colab_type": "text"
      },
      "source": [
        "<a href=\"https://colab.research.google.com/github/ArshiAbolghasemi/AI-UT/blob/main/genetic_algorithms/knapsack_problem.ipynb\" target=\"_parent\"><img src=\"https://colab.research.google.com/assets/colab-badge.svg\" alt=\"Open In Colab\"/></a>"
      ]
    },
    {
      "cell_type": "markdown",
      "source": [
        "# Knapsack Problem\n",
        "In this project we're going to solve our knapsack problem using **Genetic Algorithm**\n",
        "\n",
        "## Problem Description\n",
        "\n",
        "Consider that we have a knapsack, and we want to go on a picnic. We have some snacks that we want to take with us. Each snack has a value, and we also have a certain amount of each snack that we can take as much as we want. It's obvious that if we take half of a snack, we will have half its value. Also there is some constraints:\n",
        "- The sum of the values of our snacks shouldn't exceed a special amount that is given to us.\n",
        "- The number of snacks that we pick should be within the interval that is given to us.\n",
        "- The amount of the chosen snack shouldn't exceed the available amount of it.\n",
        "\n",
        "The snack data is located in snacks.csv in the current directory."
      ],
      "metadata": {
        "id": "nKlhD_h4qzx4"
      }
    },
    {
      "cell_type": "markdown",
      "source": [
        "# Settings And Imports"
      ],
      "metadata": {
        "id": "k6DVDoLt4kDT"
      }
    },
    {
      "cell_type": "code",
      "source": [
        "#imports\n",
        "import os\n",
        "import csv\n",
        "import random\n",
        "from functools import reduce\n",
        "import sys\n",
        "import numpy as np\n",
        "from typing import List, Union\n",
        "\n",
        "#settings\n",
        "MAXIMUM_SNACKS_WEIGTHS=18\n",
        "MINIMUM_SNACKS_VALUES=30\n",
        "MINIMUM_SNACKS_COUNT=1\n",
        "MAXIMUM_SNACKS_COUNT=10\n",
        "\n",
        "POPULATION_SIZE=3000\n",
        "GENERATIONS_COUNT=100\n",
        "\n",
        "CROSSOVER_RATE=0.8\n",
        "MUTATION_RATE=0.2\n",
        "SNACK_CHOSEN_RATE=0.8"
      ],
      "metadata": {
        "id": "zM7Dkmi34nh1"
      },
      "execution_count": 94,
      "outputs": []
    },
    {
      "cell_type": "markdown",
      "source": [
        "# Inputs\n",
        "First, lets read input datas from snacks.csv file"
      ],
      "metadata": {
        "id": "8L6Yk1tx5Si_"
      }
    },
    {
      "cell_type": "code",
      "source": [
        "CURRENT_DIR = os.getcwd()\n",
        "SNACKS_CSV_FILE_PATH = os.path.join(CURRENT_DIR, 'snacks.csv')\n",
        "\n",
        "snacks = []\n",
        "snacks_available_weight = {}\n",
        "snacks_values = {}\n",
        "with open(SNACKS_CSV_FILE_PATH, mode='r') as snacks_file:\n",
        "    snakcs_csv_reader = csv.reader(snacks_file)\n",
        "\n",
        "    next(snakcs_csv_reader)\n",
        "\n",
        "    for row in snakcs_csv_reader:\n",
        "      snack = row[0]\n",
        "      snacks.append(snack)\n",
        "      snacks_available_weight[snack] = float(row[1])\n",
        "      snacks_values[snack] = float(row[2])"
      ],
      "metadata": {
        "id": "ZxBI6wes5d89"
      },
      "execution_count": 3,
      "outputs": []
    },
    {
      "cell_type": "markdown",
      "source": [
        "# Gene And Chromosme\n",
        "First, we need a definition for our gene and then using that creating a chromosome, that is a potential solution to our problem."
      ],
      "metadata": {
        "id": "1O5vL5dc45HV"
      }
    },
    {
      "cell_type": "markdown",
      "source": [
        "## Gene\n",
        "In the context of this problem, each gene represents an item and the chosen amount. If we don't choose an item, its value is equal to zero; otherwise, it is equal to the amount chosen."
      ],
      "metadata": {
        "id": "EKyqBsaK_KCr"
      }
    },
    {
      "cell_type": "code",
      "source": [
        "class Gene:\n",
        "\n",
        "  def __init__(self, _snack_name: str, weight: float):\n",
        "    self.snack_name = _snack_name\n",
        "    self.weight = weight\n",
        "\n",
        "  def get_weight(self) -> float:\n",
        "    return self.weight\n",
        "\n",
        "  def set_weight(self, _weight) -> None:\n",
        "    self.weight = _weight;\n",
        "\n",
        "  def get_value(self) -> float:\n",
        "    return (\n",
        "        (self.weight / float(snacks_available_weight[self.snack_name])) *\n",
        "        float(snacks_values[self.snack_name])\n",
        "    )\n",
        "\n",
        "  def get_snack_name(self) -> str:\n",
        "    return self.snack_name"
      ],
      "metadata": {
        "id": "S1eCOmfz2Jn8"
      },
      "execution_count": 4,
      "outputs": []
    },
    {
      "cell_type": "markdown",
      "source": [
        "## Chromosome\n",
        "A chromosome is a collection of genes that represents a potential solution to the knapsack problem. It encodes a set of items to be included in the knapsack."
      ],
      "metadata": {
        "id": "nzZBJO2t3-sI"
      }
    },
    {
      "cell_type": "code",
      "source": [
        "class Chromosome:\n",
        "\n",
        "  def __init__(self, _genes: List[Gene]):\n",
        "    self.genes = _genes\n",
        "\n",
        "  def get_genes(self) -> List[Gene]:\n",
        "    return self.genes\n",
        "\n",
        "  def get_total_weight(self) -> float:\n",
        "    return reduce(lambda acc, gene: acc + gene.get_weight(), self.genes, 0.0)\n",
        "\n",
        "  def get_total_value(self) -> float:\n",
        "    return reduce(lambda acc, gene: acc + gene.get_value(), self.genes, 0.0)\n",
        "\n",
        "  def get_snacks_count(self) -> int:\n",
        "    return len(list(filter(lambda gene: gene.get_weight() > 0.0, self.genes)))"
      ],
      "metadata": {
        "id": "llRvipOU4HZw"
      },
      "execution_count": 22,
      "outputs": []
    },
    {
      "cell_type": "markdown",
      "source": [
        "# Generating Initial Population\n",
        "\n",
        "In this step, we should generate a population of chromosomes stochastically. Counts of our populatin is defined in our [settings](#scrollTo=k6DVDoLt4kDT)"
      ],
      "metadata": {
        "id": "QNslCX9mBgEr"
      }
    },
    {
      "cell_type": "code",
      "source": [
        "def generate_initial_population() -> List[Chromosome]:\n",
        "  population = list()\n",
        "  for _ in range(POPULATION_SIZE):\n",
        "    genes = [\n",
        "        Gene(snack,\n",
        "             0.0 if random.choices([True, False], weights=[1 - SNACK_CHOSEN_RATE, SNACK_CHOSEN_RATE])[0]\n",
        "             else random.uniform(0, float(snacks_available_weight[snack])))\n",
        "        for snack in snacks\n",
        "    ]\n",
        "\n",
        "    population.append(Chromosome(genes))\n",
        "\n",
        "  return population"
      ],
      "metadata": {
        "id": "vI-AYq4UIeZS"
      },
      "execution_count": 85,
      "outputs": []
    },
    {
      "cell_type": "markdown",
      "source": [
        "# Fitness Function\n",
        "\n",
        "Now, we need a fitness function to identify the better chromosome that models our problem. We define the fitness function as follows:\n",
        "\n",
        "- If total value chromosome is less than minimum snack value or total weight chromosome is more than maximum sancks weight or snacks count is not snacks count interval, fitness is zero\n",
        "- Otherwise, we consider the fitness score to default to one and then penalize it whenever it breaks constraints."
      ],
      "metadata": {
        "id": "4SL0zS7UNgNH"
      }
    },
    {
      "cell_type": "code",
      "source": [
        "def fitness(chromosome: Chromosome) -> float:\n",
        "  total_weight = chromosome.get_total_weight();\n",
        "  total_value = chromosome.get_total_value();\n",
        "  snacks_count = chromosome.get_snacks_count();\n",
        "\n",
        "  fitness_score = 3.0\n",
        "  if total_weight > float(MAXIMUM_SNACKS_WEIGTHS):\n",
        "    fitness_score -= (\n",
        "        (total_weight - MAXIMUM_SNACKS_WEIGTHS) /\n",
        "        total_weight\n",
        "        )\n",
        "\n",
        "  if total_value < float(MINIMUM_SNACKS_VALUES):\n",
        "    fitness_score -= (\n",
        "        (MINIMUM_SNACKS_VALUES - total_value) /\n",
        "        MINIMUM_SNACKS_VALUES\n",
        "        )\n",
        "\n",
        "  if not MINIMUM_SNACKS_COUNT <= snacks_count <= MAXIMUM_SNACKS_COUNT:\n",
        "    fitness_score -= (\n",
        "        min(abs(snacks_count - MINIMUM_SNACKS_COUNT),\n",
        "            abs(snacks_count - MAXIMUM_SNACKS_COUNT)) /\n",
        "             (len(snacks))\n",
        "    )\n",
        "\n",
        "  return fitness_score / 3.0"
      ],
      "metadata": {
        "id": "hEvAqYwNTHN3"
      },
      "execution_count": 72,
      "outputs": []
    },
    {
      "cell_type": "markdown",
      "source": [
        "Fitness one means that we found a solution for the problem"
      ],
      "metadata": {
        "id": "i1bEN2Ox3gRF"
      }
    },
    {
      "cell_type": "markdown",
      "source": [
        "# Crossover and Mutation\n",
        "Selected chromosomes are used to create offspring through genetic operators such as crossover and mutation. Crossover involves exchanging genetic material between parent chromosomes to create new offspring chromosomes, while mutation introduces small random changes to the chromosomes to maintain diversity in the population."
      ],
      "metadata": {
        "id": "h01U2eSI3ofo"
      }
    },
    {
      "cell_type": "markdown",
      "source": [
        "## Crossover"
      ],
      "metadata": {
        "id": "Hwt8WmoT5PB1"
      }
    },
    {
      "cell_type": "code",
      "source": [
        "def crossover(chromosome1: Chromosome, chromosome2: Chromosome):\n",
        "  genes1 = chromosome1.get_genes()\n",
        "  genes2 = chromosome2.get_genes()\n",
        "  i = random.randint(0, len(snacks))\n",
        "  return Chromosome(genes1[:i] + genes2[i:]), Chromosome(genes2[:i] + genes1[i:])"
      ],
      "metadata": {
        "id": "Dacp4C6n5SOi"
      },
      "execution_count": 8,
      "outputs": []
    },
    {
      "cell_type": "markdown",
      "source": [
        "## Mutation"
      ],
      "metadata": {
        "id": "5LG22UKdBrIk"
      }
    },
    {
      "cell_type": "code",
      "source": [
        "def mutation(chromosome: Chromosome, mutation_rate: float) -> Chromosome:\n",
        "  genes = chromosome.get_genes()\n",
        "  for gene in genes:\n",
        "    if random.choices([True, False],\n",
        "                      weights=[1 - mutation_rate, mutation_rate])[0]:\n",
        "      continue\n",
        "\n",
        "    mutation_point = np.random.randint(len(genes))\n",
        "    genes[mutation_point].set_weight(random.uniform(\n",
        "              0, float(snacks_available_weight[gene.get_snack_name()])))\n",
        "\n",
        "  return chromosome"
      ],
      "metadata": {
        "id": "1_SNH-7cBty2"
      },
      "execution_count": 86,
      "outputs": []
    },
    {
      "cell_type": "markdown",
      "source": [
        "# Selection And Evolution\n",
        "\n",
        "Now, using the fitness function, we need to approach the selection of chromosomes, and then, by employing crossover and mutation, create a new generation."
      ],
      "metadata": {
        "id": "hqBJYV2GkKmV"
      }
    },
    {
      "cell_type": "markdown",
      "source": [
        "## Selection\n",
        "\n",
        "We use **roulette wheel selection** that used fitness socre to select parents.\n",
        "First, calculate the fitness values for each individual in the population based on their performance on the fitness function. Then, Normalize the fitness values to ensure that they sum up to 1. This step ensures that the probabilities of selection are proportional to the individuals' fitness values.Imagine a roulette wheel where each individual's portion of the wheel is proportional to its fitness value. This means that individuals with higher fitness values occupy larger portions of the wheel, making them more likely to be selected"
      ],
      "metadata": {
        "id": "3GowKPZE2HJQ"
      }
    },
    {
      "cell_type": "code",
      "source": [
        "def roulette_wheel_selection(population, fitness_values):\n",
        "    total_fitness = sum(fitness_values)\n",
        "    selection_probabilities = [fitness / total_fitness for fitness in fitness_values]\n",
        "\n",
        "    return random.choices(population, weights=selection_probabilities, k=2)"
      ],
      "metadata": {
        "id": "crSkYCvB5YhL"
      },
      "execution_count": 10,
      "outputs": []
    },
    {
      "cell_type": "markdown",
      "source": [
        "## Evolotion\n",
        "\n",
        "Using roulette wheel selection, for each generation, we select two parents. With a probability of p<sub>c</sub>, we apply crossover; otherwise, we keep them. Then, with a probability of p<sub>m</sub>, we apply mutation to them and add the resulting chromosome to the next generation. We repeat this process\n",
        "for population_size time."
      ],
      "metadata": {
        "id": "tm5spFU1LSrf"
      }
    },
    {
      "cell_type": "code",
      "source": [
        "def evolution(population, p_c, p_m) -> List[Chromosome]:\n",
        "  fitness_values = [fitness(chromosome) for chromosome in population]\n",
        "\n",
        "  new_population = list()\n",
        "\n",
        "  for _ in range(POPULATION_SIZE // 2):\n",
        "    parent1, parent2 = roulette_wheel_selection(population, fitness_values)\n",
        "    if random.choices([True, False], weights=[p_c, 1 - p_c])[0]:\n",
        "      offspring1, offspring2 = crossover(parent1, parent2)\n",
        "    else:\n",
        "      offspring1, offspring2 = parent1, parent2\n",
        "\n",
        "    offsprings = [mutation(offspring, p_m) for offspring in [offspring1, offspring2]]\n",
        "    new_population.extend(offsprings)\n",
        "\n",
        "  return new_population"
      ],
      "metadata": {
        "id": "oZ8ZG-ohRc4N"
      },
      "execution_count": 87,
      "outputs": []
    },
    {
      "cell_type": "markdown",
      "source": [
        "# Genetic Algorithm\n",
        "Now using above methods, let's implemnt genetic algorithm. Iterate over generation, apply evolotion on them, if we have chromosme with fitness one, then we find a solution otherwise we continue this process until find a solution"
      ],
      "metadata": {
        "id": "JD_GEdSoV8GA"
      }
    },
    {
      "cell_type": "code",
      "source": [
        "def genetic_algorithm() -> Union[Chromosome, None]:\n",
        "  population = generate_initial_population()\n",
        "\n",
        "  max_fitness_chromosome = None\n",
        "  max_fitness_score = float('-inf')\n",
        "  for _ in range(GENERATIONS_COUNT):\n",
        "    for chromosome in population:\n",
        "      fitness_score = fitness(chromosome)\n",
        "      if fitness_score == 1.0:\n",
        "          return chromosome\n",
        "      if fitness_score > max_fitness_score:\n",
        "        max_fitness_chromosome = chromosome\n",
        "        max_fitness_score = fitness_score\n",
        "\n",
        "    population = evolution(population, CROSSOVER_RATE, MUTATION_RATE)\n",
        "\n",
        "  return max_fitness_chromosome"
      ],
      "metadata": {
        "id": "etp7gyV_XCLU"
      },
      "execution_count": 90,
      "outputs": []
    },
    {
      "cell_type": "markdown",
      "source": [
        "Now, let's solve problem"
      ],
      "metadata": {
        "id": "fDkRXQlEYJLH"
      }
    },
    {
      "cell_type": "code",
      "source": [
        "def knapsack() -> None:\n",
        "  chromosome = genetic_algorithm()\n",
        "\n",
        "  if chromosome is None:\n",
        "    print(\"Solution Not Found!\")\n",
        "  else:\n",
        "    for gene in chromosome.get_genes():\n",
        "      print(gene.get_snack_name() + ': ' + str(gene.get_weight()) + '\\n')\n",
        "    print('Total Weight: ' + str(chromosome.get_total_weight()) + '\\n')\n",
        "    print('Total Value: ' + str(chromosome.get_total_value()) + '\\n')\n",
        "    print('Fitenss: ' + str(fitness(chromosome)))\n",
        "\n",
        "knapsack()"
      ],
      "metadata": {
        "colab": {
          "base_uri": "https://localhost:8080/"
        },
        "id": "44hG815FYMZB",
        "outputId": "98d970ec-b1c7-4ef0-8deb-2001d1dce067"
      },
      "execution_count": 95,
      "outputs": [
        {
          "output_type": "stream",
          "name": "stdout",
          "text": [
            "MazMaz: 5.034480107903273\n",
            "\n",
            "Doogh-e-Abali: 11.800072418124936\n",
            "\n",
            "Nani: 5.807321653340384\n",
            "\n",
            "Jooj: 9.532848327203755\n",
            "\n",
            "Hot-Dog: 11.570894360759674\n",
            "\n",
            "Chips: 1.8191694610310636\n",
            "\n",
            "Nooshaba: 4.168225211458418\n",
            "\n",
            "Shokolat: 8.284201138174353\n",
            "\n",
            "Chocoroll: 6.598054702249758\n",
            "\n",
            "Cookies: 1.1755814786728802\n",
            "\n",
            "Abnabat: 2.2718776815884283\n",
            "\n",
            "Adams-Khersi: 2.536735809368485\n",
            "\n",
            "Popcorn: 1.7355882233708289\n",
            "\n",
            "Pastil: 4.604839405991392\n",
            "\n",
            "Tordilla: 1.0675217543766269\n",
            "\n",
            "Masghati: 3.876438708953818\n",
            "\n",
            "Ghottab: 4.779116077284736\n",
            "\n",
            "Saghe-Talaei: 4.380426201147847\n",
            "\n",
            "Choob-Shoor: 11.43576741118375\n",
            "\n",
            "Total Weight: 102.47916013218439\n",
            "\n",
            "Total Value: 116.00248166719683\n",
            "\n",
            "Fitenss: 0.567320419022373\n"
          ]
        }
      ]
    },
    {
      "cell_type": "markdown",
      "source": [
        "# Qeustions\n",
        "\n",
        "\n",
        "\n",
        "1.   What problems does too little or too much initial population size cause?\n",
        "\n",
        "> If we have too small an initial population, we will have less diversity, and the only diversity we have is generated by mutation. Therefore, if our population does not move in the proper direction, we may reach the answer very late. On the other hand, too much initial population size increases memory usage and execution time.\n",
        "\n",
        "\n",
        "2. If the population size increases in each iteration, what effect does it have on the accuracy and speed of the algorithm?\n",
        "\n",
        "> It depends on implementation, if we implement and use it properly, then we have more diversity that helps crossover to have a better result. On the other hand it may cuase redundant computations and increases execution time\n",
        "\n",
        "3. Compare the effect of each operation of crossover and mutation. Can only one of them used? Why?\n",
        "\n",
        "> - Crossover:\n",
        "Crossover is responsible for combining genetic material from two parent individuals to create new offspring.\n",
        "It promotes exploration of the search space by exchanging information between individuals.\n",
        "It helps in preserving good solutions found so far and can lead to the creation of new, potentially better solutions.\n",
        "- Mutation:\n",
        "Mutation introduces random changes to individual chromosomes, promoting genetic diversity.\n",
        "It helps in escaping local optima by exploring new areas of the search space.\n",
        "It can prevent premature convergence by introducing small, random changes to individual solutions.\n",
        "While both crossover and mutation contribute to the effectiveness of genetic algorithms, it is theoretically possible to use only one of them. However, doing so may result in suboptimal performance or failure to find optimal solutions, depending on the characteristics of the problem being solved.\n",
        "<br>\n",
        "Using only crossover may lead to premature convergence if the initial population lacks diversity, as there are no mechanisms to introduce new genetic material.\n",
        "<br>\n",
        "Using only mutation may result in slow convergence or difficulty in finding good solutions, as there is no mechanism for combining information from different individuals.\n",
        "\n",
        "4. In your opinion, what solutions are available to obtain the answer to this particular problem more quickly?\n",
        "\n",
        "> Change selection approach, for example use elitisim to prevent loose few good solutions, also change fitness function to consider parameters like boundary for snacks weight and value and count to check that we can improve this chromosome or not\n",
        "\n",
        "5. Despite the use of these methods, it is still possible that the chromosomes don't change after a few more steps. Explain the reason for this and the problems it causes. What do you suggest to solve it?\n",
        "\n",
        "> It may because don't implement crossover or mutation correctly. Also, it may have happened because of our selection that we only have high-ranked chromosomes and so we lose our diversity after a few steps. For solving this problem one of our approaches is to select the chromosomes that the lower-ranked chromosomes are in the population to7. prevent losing our diversity.\n",
        "\n",
        "6. What solution do you suggest to end the program if the problem has no answer?\n",
        "\n",
        "> First, we should have a time limit or iteration limit for our algorithm to be sure that our algorithm is halted. then we could return the most fitted chromosome in our population as an optimal chromosome.\n",
        "\n",
        "\n",
        "\n",
        "\n",
        "\n",
        "\n",
        "\n",
        "\n",
        "\n",
        "\n",
        "\n",
        "\n"
      ],
      "metadata": {
        "id": "riXVS2Eko--4"
      }
    }
  ]
}