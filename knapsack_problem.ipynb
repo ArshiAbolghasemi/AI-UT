{
  "nbformat": 4,
  "nbformat_minor": 0,
  "metadata": {
    "colab": {
      "provenance": [],
      "authorship_tag": "ABX9TyOsdpg2YBC/8xn/tLCflTye",
      "include_colab_link": true
    },
    "kernelspec": {
      "name": "python3",
      "display_name": "Python 3"
    },
    "language_info": {
      "name": "python"
    }
  },
  "cells": [
    {
      "cell_type": "markdown",
      "metadata": {
        "id": "view-in-github",
        "colab_type": "text"
      },
      "source": [
        "<a href=\"https://colab.research.google.com/github/ArshiAbolghasemi/AI-UT/blob/main/knapsack_problem.ipynb\" target=\"_parent\"><img src=\"https://colab.research.google.com/assets/colab-badge.svg\" alt=\"Open In Colab\"/></a>"
      ]
    },
    {
      "cell_type": "markdown",
      "source": [
        "# Knapsack Problem\n",
        "In this project we're going to solve our knapsack problem using **Genetic Algorithm**\n",
        "\n",
        "## Problem Description\n",
        "\n",
        "Consider that we have a knapsack, and we want to go on a picnic. We have some snacks that we want to take with us. Each snack has a value, and we also have a certain amount of each snack that we can take as much as we want. It's obvious that if we take half of a snack, we will have half its value. Also there is some constraints:\n",
        "- The sum of the values of our snacks shouldn't exceed a special amount that is given to us.\n",
        "- The number of snacks that we pick should be within the interval that is given to us.\n",
        "- The amount of the chosen snack shouldn't exceed the available amount of it.\n",
        "\n",
        "The snack data is located in snacks.csv in the current directory."
      ],
      "metadata": {
        "id": "nKlhD_h4qzx4"
      }
    },
    {
      "cell_type": "markdown",
      "source": [
        "# Settings And Imports"
      ],
      "metadata": {
        "id": "k6DVDoLt4kDT"
      }
    },
    {
      "cell_type": "code",
      "source": [
        "#imports\n",
        "from typing import List\n",
        "import os\n",
        "import csv\n",
        "import random\n",
        "\n",
        "#settings\n",
        "MAXIMUM_SNACKS_WEIGTHS=10\n",
        "MINIMUM_SNACKS_VALUES=12\n",
        "MINIMUM_SNACKS_COUNT=2\n",
        "MAXIMUM_SNACKS_COUNT=4\n",
        "\n",
        "INITIAL_POPULATION_SIZE=200"
      ],
      "metadata": {
        "id": "zM7Dkmi34nh1"
      },
      "execution_count": 21,
      "outputs": []
    },
    {
      "cell_type": "markdown",
      "source": [
        "## Inputs\n",
        "First, lets read input datas from snacks.csv file"
      ],
      "metadata": {
        "id": "8L6Yk1tx5Si_"
      }
    },
    {
      "cell_type": "code",
      "source": [
        "CURRENT_DIR = os.getcwd()\n",
        "SNACKS_CSV_FILE_PATH = os.path.join(CURRENT_DIR, 'snacks.csv')\n",
        "\n",
        "snacks = []\n",
        "snacks_available_weight = {}\n",
        "snacks_values = {}\n",
        "with open(SNACKS_CSV_FILE_PATH, mode='r') as snacks_file:\n",
        "    snakcs_csv_reader = csv.reader(snacks_file)\n",
        "\n",
        "    next(snakcs_csv_reader)\n",
        "\n",
        "    for row in snakcs_csv_reader:\n",
        "      snack = row[0]\n",
        "      snacks.append(snack)\n",
        "      snacks_available_weight[snack] = row[1]\n",
        "      snacks_values[snack] = row[2]"
      ],
      "metadata": {
        "id": "ZxBI6wes5d89"
      },
      "execution_count": 17,
      "outputs": []
    },
    {
      "cell_type": "markdown",
      "source": [
        "# Gene And Chromosme\n",
        "First, we need a definition for our gene and then using that creating a chromosome, that is a potential solution to our problem."
      ],
      "metadata": {
        "id": "1O5vL5dc45HV"
      }
    },
    {
      "cell_type": "markdown",
      "source": [
        "## Gene\n",
        "In the context of this problem, each gene represents an item and the chosen amount. If we don't choose an item, its value is equal to zero; otherwise, it is equal to the amount chosen."
      ],
      "metadata": {
        "id": "EKyqBsaK_KCr"
      }
    },
    {
      "cell_type": "code",
      "source": [
        "class Gene:\n",
        "\n",
        "  def __init__(self, _item_name: str, _amount: float):\n",
        "    self.item_name = _item_name\n",
        "    self.amount = _amount\n",
        "\n",
        "  def get_amount(self):\n",
        "    return self.amount\n",
        "\n",
        "  def set_amount(self, amount: float):\n",
        "    self.amount = amount\n",
        "\n",
        "  def get_item_name(self):\n",
        "    return self.item_name"
      ],
      "metadata": {
        "id": "S1eCOmfz2Jn8"
      },
      "execution_count": 32,
      "outputs": []
    },
    {
      "cell_type": "markdown",
      "source": [
        "## Chromosome\n",
        "A chromosome is a collection of genes that represents a potential solution to the knapsack problem. It encodes a set of items to be included in the knapsack."
      ],
      "metadata": {
        "id": "nzZBJO2t3-sI"
      }
    },
    {
      "cell_type": "code",
      "source": [
        "class Chromosome:\n",
        "\n",
        "  def __init__(self, genes: List[Gene]):\n",
        "    self.genes = genes"
      ],
      "metadata": {
        "id": "llRvipOU4HZw"
      },
      "execution_count": 33,
      "outputs": []
    },
    {
      "cell_type": "markdown",
      "source": [
        "# Generating Initial Population\n",
        "\n",
        "In this step, we should generate a population of chromosomes stochastically. Counts of our populatin is defined in our [settings](#scrollTo=k6DVDoLt4kDT)"
      ],
      "metadata": {
        "id": "QNslCX9mBgEr"
      }
    },
    {
      "cell_type": "code",
      "source": [
        "population = list()\n",
        "\n",
        "for _ in range(INITIAL_POPULATION_SIZE):\n",
        "  sample_snack = random.sample(snacks, random.randint(MINIMUM_SNACKS_COUNT, MAXIMUM_SNACKS_COUNT))\n",
        "  genes = list()\n",
        "  total_amount = 0.0\n",
        "  for snack in snacks:\n",
        "    if not snack in sample_snack or total_amount >= MAXIMUM_SNACKS_WEIGTHS:\n",
        "      amount = 0.0\n",
        "    else:\n",
        "      amount = random.uniform(0, min(float(snacks_available_weight[snack]), float(MAXIMUM_SNACKS_WEIGTHS) - total_amount))\n",
        "    total_amount += amount\n",
        "    genes.append(Gene(snack, amount))\n",
        "\n",
        "  population.append(Chromosome(genes))"
      ],
      "metadata": {
        "id": "vI-AYq4UIeZS"
      },
      "execution_count": 37,
      "outputs": []
    }
  ]
}