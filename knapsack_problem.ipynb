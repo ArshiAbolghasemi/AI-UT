{
  "nbformat": 4,
  "nbformat_minor": 0,
  "metadata": {
    "colab": {
      "provenance": [],
      "authorship_tag": "ABX9TyO1Mwr0W5GSCAyPegfArSaq",
      "include_colab_link": true
    },
    "kernelspec": {
      "name": "python3",
      "display_name": "Python 3"
    },
    "language_info": {
      "name": "python"
    }
  },
  "cells": [
    {
      "cell_type": "markdown",
      "metadata": {
        "id": "view-in-github",
        "colab_type": "text"
      },
      "source": [
        "<a href=\"https://colab.research.google.com/github/ArshiAbolghasemi/AI-UT/blob/main/knapsack_problem.ipynb\" target=\"_parent\"><img src=\"https://colab.research.google.com/assets/colab-badge.svg\" alt=\"Open In Colab\"/></a>"
      ]
    },
    {
      "cell_type": "markdown",
      "source": [
        "# Knapsack Problem\n",
        "In this project we're going to solve our knapsack problem using **Genetic Algorithm**\n",
        "\n",
        "## Problem Description\n",
        "\n",
        "Consider that we have a knapsack, and we want to go on a picnic. We have some snacks that we want to take with us. Each snack has a value, and we also have a certain amount of each snack that we can take as much as we want. It's obvious that if we take half of a snack, we will have half its value. Also there is some constraints:\n",
        "- The sum of the values of our snacks shouldn't exceed a special amount that is given to us.\n",
        "- The number of snacks that we pick should be within the interval that is given to us.\n",
        "- The amount of the chosen snack shouldn't exceed the available amount of it.\n",
        "\n",
        "The snack data is located in snacks.csv in the current directory."
      ],
      "metadata": {
        "id": "nKlhD_h4qzx4"
      }
    },
    {
      "cell_type": "markdown",
      "source": [
        "# Settings And Imports"
      ],
      "metadata": {
        "id": "k6DVDoLt4kDT"
      }
    },
    {
      "cell_type": "code",
      "source": [
        "#imports\n",
        "from typing import List\n",
        "import os\n",
        "import csv"
      ],
      "metadata": {
        "id": "zM7Dkmi34nh1"
      },
      "execution_count": 6,
      "outputs": []
    },
    {
      "cell_type": "markdown",
      "source": [
        "## Inputs\n",
        "First, lets read input datas from snacks.csv file"
      ],
      "metadata": {
        "id": "8L6Yk1tx5Si_"
      }
    },
    {
      "cell_type": "code",
      "source": [
        "CURRENT_DIR = os.getcwd()\n",
        "SNACKS_CSV_FILE_PATH = os.path.join(CURRENT_DIR, 'snacks.csv')\n",
        "\n",
        "snacks = []\n",
        "snacks_available_weight = {}\n",
        "snacks_values = {}\n",
        "with open(SNACKS_CSV_FILE_PATH, mode='r') as snacks_file:\n",
        "    snakcs_csv_reader = csv.reader(snacks_file)\n",
        "\n",
        "    next(snakcs_csv_reader)\n",
        "\n",
        "    for row in snakcs_csv_reader:\n",
        "      snack = row[0]\n",
        "      snacks.append(snack)\n",
        "      snacks_available_weight[snack] = row[1]\n",
        "      snacks_values[snack] = row[2]"
      ],
      "metadata": {
        "id": "ZxBI6wes5d89"
      },
      "execution_count": 14,
      "outputs": []
    },
    {
      "cell_type": "markdown",
      "source": [
        "# Gene And Chromosme\n",
        "First, we need a definition for our gene and then using that creating a chromosome, that is a potential solution to our problem."
      ],
      "metadata": {
        "id": "1O5vL5dc45HV"
      }
    },
    {
      "cell_type": "markdown",
      "source": [
        "## Gene\n",
        "In the context of this problem, each gene represents an item and the chosen amount. If we don't choose an item, its value is equal to zero; otherwise, it is equal to the amount chosen."
      ],
      "metadata": {
        "id": "EKyqBsaK_KCr"
      }
    },
    {
      "cell_type": "code",
      "source": [
        "class Gene:\n",
        "\n",
        "  def __init__(self, _item_name: str, _amount: int):\n",
        "    self.item_name = _item_name\n",
        "    self.amount = _amount\n",
        "\n",
        "  def get_amount(self):\n",
        "    return self.amount\n",
        "\n",
        "  def set_amount(self, amount: int):\n",
        "    self.amount = amount\n",
        "\n",
        "  def get_item_name(self):\n",
        "    return self.item_name"
      ],
      "metadata": {
        "id": "S1eCOmfz2Jn8"
      },
      "execution_count": 1,
      "outputs": []
    },
    {
      "cell_type": "markdown",
      "source": [
        "## Chromosome\n",
        "A chromosome is a collection of genes that represents a potential solution to the knapsack problem. It encodes a set of items to be included in the knapsack."
      ],
      "metadata": {
        "id": "nzZBJO2t3-sI"
      }
    },
    {
      "cell_type": "code",
      "source": [
        "class Chromose:\n",
        "\n",
        "  def __init__(self, genes: List[Gene]):\n",
        "    self.genes = genes"
      ],
      "metadata": {
        "id": "llRvipOU4HZw"
      },
      "execution_count": 3,
      "outputs": []
    }
  ]
}