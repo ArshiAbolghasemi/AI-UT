{
  "nbformat": 4,
  "nbformat_minor": 0,
  "metadata": {
    "colab": {
      "provenance": [],
      "authorship_tag": "ABX9TyPPxXDWnYqJhNlHKzFU9tJ1",
      "include_colab_link": true
    },
    "kernelspec": {
      "name": "python3",
      "display_name": "Python 3"
    },
    "language_info": {
      "name": "python"
    }
  },
  "cells": [
    {
      "cell_type": "markdown",
      "metadata": {
        "id": "view-in-github",
        "colab_type": "text"
      },
      "source": [
        "<a href=\"https://colab.research.google.com/github/ArshiAbolghasemi/AI-UT/blob/main/knapsack_problem.ipynb\" target=\"_parent\"><img src=\"https://colab.research.google.com/assets/colab-badge.svg\" alt=\"Open In Colab\"/></a>"
      ]
    },
    {
      "cell_type": "markdown",
      "source": [
        "# Knapsack Problem\n",
        "In this project we're going to solve our knapsack problem using **Genetic Algorithm**\n",
        "\n",
        "## Problem Description\n",
        "\n",
        "Consider that we have a knapsack, and we want to go on a picnic. We have some snacks that we want to take with us. Each snack has a value, and we also have a certain amount of each snack that we can take as much as we want. It's obvious that if we take half of a snack, we will have half its value. Also there is some constraints:\n",
        "- The sum of the values of our snacks shouldn't exceed a special amount that is given to us.\n",
        "- The number of snacks that we pick should be within the interval that is given to us.\n",
        "- The amount of the chosen snack shouldn't exceed the available amount of it.\n",
        "\n",
        "The snack data is located in snacks.csv in the current directory."
      ],
      "metadata": {
        "id": "nKlhD_h4qzx4"
      }
    },
    {
      "cell_type": "markdown",
      "source": [
        "# Settings And Imports"
      ],
      "metadata": {
        "id": "k6DVDoLt4kDT"
      }
    },
    {
      "cell_type": "code",
      "source": [
        "#imports\n",
        "from typing import List\n",
        "import os\n",
        "import csv\n",
        "import random\n",
        "from functools import reduce\n",
        "\n",
        "#settings\n",
        "MAXIMUM_SNACKS_WEIGTHS=10\n",
        "MINIMUM_SNACKS_VALUES=12\n",
        "MINIMUM_SNACKS_COUNT=2\n",
        "MAXIMUM_SNACKS_COUNT=4\n",
        "\n",
        "INITIAL_POPULATION_SIZE=200"
      ],
      "metadata": {
        "id": "zM7Dkmi34nh1"
      },
      "execution_count": 20,
      "outputs": []
    },
    {
      "cell_type": "markdown",
      "source": [
        "# Inputs\n",
        "First, lets read input datas from snacks.csv file"
      ],
      "metadata": {
        "id": "8L6Yk1tx5Si_"
      }
    },
    {
      "cell_type": "code",
      "source": [
        "CURRENT_DIR = os.getcwd()\n",
        "SNACKS_CSV_FILE_PATH = os.path.join(CURRENT_DIR, 'snacks.csv')\n",
        "\n",
        "snacks = []\n",
        "snacks_available_weight = {}\n",
        "snacks_values = {}\n",
        "with open(SNACKS_CSV_FILE_PATH, mode='r') as snacks_file:\n",
        "    snakcs_csv_reader = csv.reader(snacks_file)\n",
        "\n",
        "    next(snakcs_csv_reader)\n",
        "\n",
        "    for row in snakcs_csv_reader:\n",
        "      snack = row[0]\n",
        "      snacks.append(snack)\n",
        "      snacks_available_weight[snack] = row[1]\n",
        "      snacks_values[snack] = row[2]"
      ],
      "metadata": {
        "id": "ZxBI6wes5d89"
      },
      "execution_count": 25,
      "outputs": []
    },
    {
      "cell_type": "markdown",
      "source": [
        "# Gene And Chromosme\n",
        "First, we need a definition for our gene and then using that creating a chromosome, that is a potential solution to our problem."
      ],
      "metadata": {
        "id": "1O5vL5dc45HV"
      }
    },
    {
      "cell_type": "markdown",
      "source": [
        "## Gene\n",
        "In the context of this problem, each gene represents an item and the chosen amount. If we don't choose an item, its value is equal to zero; otherwise, it is equal to the amount chosen."
      ],
      "metadata": {
        "id": "EKyqBsaK_KCr"
      }
    },
    {
      "cell_type": "code",
      "source": [
        "class Gene:\n",
        "\n",
        "  def __init__(self, _snack_name: str, weight: float):\n",
        "    self.snack_name = _snack_name\n",
        "    self.weight = weight\n",
        "\n",
        "  def get_weight(self) -> float:\n",
        "    return self.weight\n",
        "\n",
        "  def set_weight(self, _weight) -> None:\n",
        "    self.weight = _weight;\n",
        "\n",
        "  def get_value(self) -> float:\n",
        "    return (\n",
        "        (self.weight / snacks_available_weight[self.snack_name]) *\n",
        "        snacks_values[self.snack_name]\n",
        "    )\n",
        "\n",
        "  def get_snack_name(self) -> str:\n",
        "    return self.snack_name"
      ],
      "metadata": {
        "id": "S1eCOmfz2Jn8"
      },
      "execution_count": 32,
      "outputs": []
    },
    {
      "cell_type": "markdown",
      "source": [
        "## Chromosome\n",
        "A chromosome is a collection of genes that represents a potential solution to the knapsack problem. It encodes a set of items to be included in the knapsack."
      ],
      "metadata": {
        "id": "nzZBJO2t3-sI"
      }
    },
    {
      "cell_type": "code",
      "source": [
        "class Chromosome:\n",
        "\n",
        "  def __init__(self, _genes: List[Gene]):\n",
        "    self.genes = _genes\n",
        "\n",
        "  def get_gense(self) -> List[Gene]:\n",
        "    return self.genes\n",
        "\n",
        "  def get_total_weight(self) -> float:\n",
        "    return reduce(lambda g1, g2: g1.get_weight() + g2.get_weight(), self.genes)\n",
        "\n",
        "  def get_total_value(self) -> float:\n",
        "    return reduce(lambda g1, g2: g1.get_value() + g2.get_value(), self.genes)\n",
        "\n",
        "  def get_snacks_count(self) -> int:\n",
        "    return len(filter(lambda gene: gene.get_weight() > 0, self.genes))"
      ],
      "metadata": {
        "id": "llRvipOU4HZw"
      },
      "execution_count": 28,
      "outputs": []
    },
    {
      "cell_type": "markdown",
      "source": [
        "# Generating Initial Population\n",
        "\n",
        "In this step, we should generate a population of chromosomes stochastically. Counts of our populatin is defined in our [settings](#scrollTo=k6DVDoLt4kDT)"
      ],
      "metadata": {
        "id": "QNslCX9mBgEr"
      }
    },
    {
      "cell_type": "code",
      "source": [
        "population = list()\n",
        "\n",
        "for _ in range(INITIAL_POPULATION_SIZE):\n",
        "  genes = [\n",
        "    Gene(snack, random.uniform(0, float(snacks_available_weight[snack])))\n",
        "    for snack in snacks\n",
        "  ]\n",
        "  population.append(Chromosome(genes))"
      ],
      "metadata": {
        "id": "vI-AYq4UIeZS"
      },
      "execution_count": 19,
      "outputs": []
    },
    {
      "cell_type": "markdown",
      "source": [
        "# Fitness Function\n",
        "\n",
        "Now, we need a fitness function to identify the better chromosome that models our problem. We define the fitness function as follows:\n",
        "\n",
        "- If total value chromosome is less than minimum snack value or total weight chromosome is more than maximum sancks weight or snacks count is not snacks count interval, fitness is zero\n",
        "- Otherwise, we consider the fitness score to default to one and then penalize it whenever it breaks constraints."
      ],
      "metadata": {
        "id": "4SL0zS7UNgNH"
      }
    },
    {
      "cell_type": "code",
      "source": [
        "def fitness(chromosome: Chromosome) -> float:\n",
        "  total_weight = chromosome.get_total_weight();\n",
        "  total_value = chromosome.get_total_value();\n",
        "  snacks_count = chromosome.get_snacks_count();\n",
        "\n",
        "  if (\n",
        "      total_weight > float(MAXIMUM_SNACKS_WEIGTHS) or\n",
        "      total_value < float(MINIMUM_SNACKS_VALUES) or\n",
        "      not MINIMUM_SNACKS_COUNT < snacks_count < MAXIMUM_SNACKS_COUNT\n",
        "      ):\n",
        "     return 0.0\n",
        "\n",
        "  fitness_score = 1.0\n",
        "  if total_weight > float(MAXIMUM_SNACKS_WEIGTHS):\n",
        "    fitness_score -= (\n",
        "        (total_weight - MAXIMUM_SNACKS_WEIGTHS) /\n",
        "        total_weight\n",
        "        )\n",
        "\n",
        "  if total_value < float(MINIMUM_SNACKS_VALUES):\n",
        "    fitness_score -= (\n",
        "        (MINIMUM_SNACKS_VALUES - total_value) /\n",
        "        MINIMUM_SNACKS_VALUES\n",
        "        )\n",
        "\n",
        "  if not MINIMUM_SNACKS_COUNT < snacks_count < MAXIMUM_SNACKS_COUNT:\n",
        "    fitness_score -= (\n",
        "        min(abs(snacks_count - MINIMUM_SNACKS_COUNT),\n",
        "            abs(snacks_count - MAXIMUM_SNACKS_COUNT)) /\n",
        "             (MAXIMUM_SNACKS_COUNT - MINIMUM_SNACKS_COUNT)\n",
        "    )\n",
        "\n",
        "  return max(fitness_score, 0.0)"
      ],
      "metadata": {
        "id": "hEvAqYwNTHN3"
      },
      "execution_count": 27,
      "outputs": []
    },
    {
      "cell_type": "markdown",
      "source": [
        "Fitness one means that we found a solution for the problem"
      ],
      "metadata": {
        "id": "i1bEN2Ox3gRF"
      }
    },
    {
      "cell_type": "markdown",
      "source": [
        "# Crossover and Mutation\n",
        "Selected chromosomes are used to create offspring through genetic operators such as crossover and mutation. Crossover involves exchanging genetic material between parent chromosomes to create new offspring chromosomes, while mutation introduces small random changes to the chromosomes to maintain diversity in the population."
      ],
      "metadata": {
        "id": "h01U2eSI3ofo"
      }
    },
    {
      "cell_type": "markdown",
      "source": [
        "## Crossover"
      ],
      "metadata": {
        "id": "Hwt8WmoT5PB1"
      }
    },
    {
      "cell_type": "code",
      "source": [
        "def crossover(chromosome1: Chromosome, chromosome2: Chromosome) -> Chromosome:\n",
        "  genes1 = chromosome1.get_genes()\n",
        "  genes2 = chromosome2.get_genes()\n",
        "  i = random.randint(0, len(snacks))\n",
        "  return Chromosome(genes1[:i] + genes[i:])"
      ],
      "metadata": {
        "id": "Dacp4C6n5SOi"
      },
      "execution_count": 29,
      "outputs": []
    },
    {
      "cell_type": "markdown",
      "source": [
        "## Mutation"
      ],
      "metadata": {
        "id": "5LG22UKdBrIk"
      }
    },
    {
      "cell_type": "code",
      "source": [
        "def mutation(chromosome: Chromosome, mutation_rate: float) -> None:\n",
        "  genes = chromosome.get_gense()\n",
        "  for gene in genes:\n",
        "    if random.choices([True, False], weights=[mutation_rate, 1 - mutation_rate]):\n",
        "      continue\n",
        "\n",
        "    if gene.get_weight() > 0.0:\n",
        "      gene.set_weight(0.0)\n",
        "    else:\n",
        "      gene.set_weight(\n",
        "          random.uniform(\n",
        "              0,\n",
        "              float(snacks_available_weight[gene.get_snack_name()])\n",
        "          )\n",
        "      )"
      ],
      "metadata": {
        "id": "1_SNH-7cBty2"
      },
      "execution_count": 33,
      "outputs": []
    }
  ]
}