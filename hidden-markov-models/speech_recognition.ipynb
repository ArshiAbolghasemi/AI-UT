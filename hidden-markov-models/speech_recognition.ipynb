{
  "cells": [
    {
      "cell_type": "markdown",
      "metadata": {
        "id": "view-in-github",
        "colab_type": "text"
      },
      "source": [
        "<a href=\"https://colab.research.google.com/github/ArshiAbolghasemi/AI-UT/blob/main/hidden-markov-models/speech_recognition.ipynb\" target=\"_parent\"><img src=\"https://colab.research.google.com/assets/colab-badge.svg\" alt=\"Open In Colab\"/></a>"
      ]
    },
    {
      "cell_type": "markdown",
      "metadata": {
        "id": "o02BkbR7RZMZ"
      },
      "source": [
        "# Speech Recognition\n",
        "In this project, we will develop a speech recognition system for numbers based on **Hidden Markov Models (HMMs)**.\n",
        "We have a dataset that contains records of 6 different speakers pronouncing numbers 0 to 9 in English."
      ]
    },
    {
      "cell_type": "markdown",
      "metadata": {
        "id": "Uo9Tn2fC5OOr"
      },
      "source": [
        "# Settings And Imports\n",
        "\n",
        "This section contains libraries and settings that are required."
      ]
    },
    {
      "cell_type": "markdown",
      "metadata": {
        "id": "keRAKesPNAMT"
      },
      "source": [
        "## Requirements"
      ]
    },
    {
      "cell_type": "code",
      "execution_count": null,
      "metadata": {
        "colab": {
          "base_uri": "https://localhost:8080/"
        },
        "id": "yX6S7yFINCUv",
        "outputId": "49bdec40-f7a0-43d7-b9b4-2a4c6a99ef68"
      },
      "outputs": [
        {
          "output_type": "stream",
          "name": "stdout",
          "text": [
            "Collecting hmmlearn\n",
            "  Downloading hmmlearn-0.3.2-cp310-cp310-manylinux_2_17_x86_64.manylinux2014_x86_64.whl (161 kB)\n",
            "\u001b[2K     \u001b[90m━━━━━━━━━━━━━━━━━━━━━━━━━━━━━━━━━━━━━━━━\u001b[0m \u001b[32m161.1/161.1 kB\u001b[0m \u001b[31m2.2 MB/s\u001b[0m eta \u001b[36m0:00:00\u001b[0m\n",
            "\u001b[?25hRequirement already satisfied: numpy>=1.10 in /usr/local/lib/python3.10/dist-packages (from hmmlearn) (1.25.2)\n",
            "Requirement already satisfied: scikit-learn!=0.22.0,>=0.16 in /usr/local/lib/python3.10/dist-packages (from hmmlearn) (1.2.2)\n",
            "Requirement already satisfied: scipy>=0.19 in /usr/local/lib/python3.10/dist-packages (from hmmlearn) (1.11.4)\n",
            "Requirement already satisfied: joblib>=1.1.1 in /usr/local/lib/python3.10/dist-packages (from scikit-learn!=0.22.0,>=0.16->hmmlearn) (1.3.2)\n",
            "Requirement already satisfied: threadpoolctl>=2.0.0 in /usr/local/lib/python3.10/dist-packages (from scikit-learn!=0.22.0,>=0.16->hmmlearn) (3.4.0)\n",
            "Installing collected packages: hmmlearn\n",
            "Successfully installed hmmlearn-0.3.2\n"
          ]
        }
      ],
      "source": [
        "!pip install hmmlearn"
      ]
    },
    {
      "cell_type": "markdown",
      "metadata": {
        "id": "7cr-XfGnwueL"
      },
      "source": [
        "## Imports"
      ]
    },
    {
      "cell_type": "code",
      "execution_count": null,
      "metadata": {
        "id": "BaKAT1Qi5i9q"
      },
      "outputs": [],
      "source": [
        "import librosa\n",
        "import numpy as np\n",
        "import matplotlib.pyplot as plt\n",
        "import seaborn as sns\n",
        "import matplotlib.ticker as ticker\n",
        "import os\n",
        "import itertools\n",
        "\n",
        "from sklearn.model_selection import train_test_split\n",
        "from sklearn.metrics import confusion_matrix, accuracy_score, precision_score\n",
        "from hmmlearn import hmm\n",
        "from tabulate import tabulate\n",
        "from typing import List, Dict, Any, Tuple, Union, Literal\n",
        "from google.colab import drive\n",
        "from random import choice"
      ]
    },
    {
      "cell_type": "markdown",
      "metadata": {
        "id": "DfjwhlklFbYZ"
      },
      "source": [
        "## Settings"
      ]
    },
    {
      "cell_type": "code",
      "execution_count": null,
      "metadata": {
        "id": "W8FiYTNoFdcY"
      },
      "outputs": [],
      "source": [
        "# dataset\n",
        "DRIVE_MOUNTED_PATH=os.path.join(os.getcwd(), 'drive/')\n",
        "AUDIOS_DATASET_PATH=os.path.join(DRIVE_MOUNTED_PATH, 'MyDrive/AI-UT/hidden-markov-models/recordings/')\n",
        "\n",
        "# feature extraction\n",
        "NUM_CEPSTRAL=13\n",
        "DEFAULT_SR=22050\n",
        "DEFAULT_HOP_LENGTH=512\n",
        "DEFAULT_N_FFT=2048\n",
        "\n",
        "# hmmlearn\n",
        "N_COMPONENTS=10\n",
        "DEFAULT_COVARIANCE_TYPE='diag'\n",
        "N_ITERATE=100"
      ]
    },
    {
      "cell_type": "markdown",
      "metadata": {
        "id": "KrCcCoLrwmJp"
      },
      "source": [
        "## Mountin to google drive"
      ]
    },
    {
      "cell_type": "code",
      "execution_count": null,
      "metadata": {
        "colab": {
          "base_uri": "https://localhost:8080/"
        },
        "id": "iytOtQcqwr6b",
        "outputId": "160899d5-deb2-4ee5-a3dc-f27f7aa6e67a"
      },
      "outputs": [
        {
          "name": "stdout",
          "output_type": "stream",
          "text": [
            "Drive already mounted at /content/drive/; to attempt to forcibly remount, call drive.mount(\"/content/drive/\", force_remount=True).\n"
          ]
        }
      ],
      "source": [
        "drive.mount(DRIVE_MOUNTED_PATH)"
      ]
    },
    {
      "cell_type": "markdown",
      "metadata": {
        "id": "dQuuLvAH1zLB"
      },
      "source": [
        "# Data Preprocessing and Feature Extracting\n",
        "\n"
      ]
    },
    {
      "cell_type": "markdown",
      "metadata": {
        "id": "PUKA5tpXI0HO"
      },
      "source": [
        "## Normalizing"
      ]
    },
    {
      "cell_type": "markdown",
      "metadata": {
        "id": "Rd61b33JKntG"
      },
      "source": [
        "\n",
        "Normalization can be achieved using various techniques, but a common approach is to subtract the mean of the data and divide by the standard deviation have zero mean and unit variance. This is known as Z-score normalization or standardization. The formula for Z-score normalization is:\n",
        "$$z = \\frac{x - \\mu}{\\sigma} $$"
      ]
    },
    {
      "cell_type": "markdown",
      "metadata": {
        "id": "OxOEW4ndBOby"
      },
      "source": [
        "## Load Audios Dataset\n",
        "First, let's load our audio data samples."
      ]
    },
    {
      "cell_type": "code",
      "execution_count": null,
      "metadata": {
        "id": "RtZ0wictBfQc"
      },
      "outputs": [],
      "source": [
        "def extract_digit_and_speaker_from_file_name(audio_file: str) -> Tuple[int, str]:\n",
        "  parts = audio_file.split('_')\n",
        "  return int(parts[0]), parts[1]\n",
        "\n",
        "def load_audios_dataset() -> Tuple[List[Dict[str, Any]],\n",
        "                                   np.ndarray, np.ndarray]:\n",
        "  audios_data = list(dict())\n",
        "  digits = []\n",
        "  speakers = []\n",
        "  for audio_file in os.listdir(AUDIOS_DATASET_PATH):\n",
        "    if not audio_file.endswith('.wav') : continue\n",
        "\n",
        "    digit, speaker = extract_digit_and_speaker_from_file_name(audio_file)\n",
        "\n",
        "    audio_file_path = os.path.join(AUDIOS_DATASET_PATH, audio_file)\n",
        "    signal, sr = librosa.load(audio_file_path)\n",
        "    normalized_signal = librosa.util.normalize(signal)\n",
        "\n",
        "    audios_data.append({\n",
        "        'signal': normalized_signal,\n",
        "        'sampling_rate': sr,\n",
        "        'digit': digit,\n",
        "        'speaker': speaker\n",
        "    })\n",
        "\n",
        "    digits.append(digit)\n",
        "    speakers.append(speaker)\n",
        "\n",
        "  return audios_data, np.array(digits), np.array(speakers)\n",
        "\n",
        "audios_data, digits, speakers = load_audios_dataset()"
      ]
    },
    {
      "cell_type": "markdown",
      "metadata": {
        "id": "2khhUqo3N8a2"
      },
      "source": [
        "## Segmentation"
      ]
    },
    {
      "cell_type": "markdown",
      "metadata": {
        "id": "-5emuW1m7bwb"
      },
      "source": [
        "1. Does **segmentation** useful for this dataset? why?\n",
        "> In the scenario you've described, segmentation would likely be very useful for various tasks such as **feature extraction**, and **noise reduction** and it helps to our **process be more efficient**.\n",
        ">- **Feature Extraction**: For tasks like speech recognition or speaker identification, feature extraction is crucial. Segmenting the audio into smaller frames allows for the extraction of features such as MFCCs, which capture the spectral characteristics of speech over short time windows. By extracting features from each segment independently, you can capture the nuances of each speaker's pronunciation and speech patterns more effectively.\n",
        "> - **Noise Reduction**: If the audio recordings contain background noise or interference, segmentation can aid in targeted noise reduction. By segmenting the audio into smaller frames, it becomes easier to identify and remove segments that are corrupted by noise. This improves the overall quality of the audio data and enhances the performance of downstream tasks such as speech recognition.\n",
        "> - **Efficient Processing**: Processing 3000 audio files containing numerous repetitions of 0 - 9 digits pronounced by six speakers can be computationally intensive. Segmenting the audio into smaller frames allows for more efficient processing, as you can analyze smaller segments in parallel. This reduces computational requirements and facilitates faster processing of the audio data."
      ]
    },
    {
      "cell_type": "markdown",
      "metadata": {
        "id": "Jyw9m120OCWH"
      },
      "source": [
        "## Feature Extraction\n"
      ]
    },
    {
      "cell_type": "markdown",
      "metadata": {
        "id": "s0KwfMGUjRLj"
      },
      "source": [
        "### Audio Features Explaination"
      ]
    },
    {
      "cell_type": "markdown",
      "metadata": {
        "id": "AiYhqi3R7UuH"
      },
      "source": [
        "2. Explain each of the following terms: \"MFCC,\" \"Zero Crossing Rate,\" \"mel-spectrogram,\" and \"chroma features,\" as well as the relationships between them.\n",
        "> **MFCC (Mel-frequency cepstral coefficients)**:\n",
        "MFCCs are a widely used feature representation for audio signals, particularly in speech and music processing. They capture the spectral characteristics of audio signals by transforming the frequency domain representation of the signal into a compressed, decorrelated form. MFCCs are obtained by taking the Discrete Cosine Transform (DCT) of the log of the power spectrum of the signal, after mapping the frequency axis to the mel scale, which approximates the human auditory system's response to different frequencies. MFCCs are commonly used as features for tasks such as speech recognition, speaker identification, and music genre classification.<br>\n",
        "> **Zero Crossing Rate**: The zero crossing rate (ZCR) is a simple feature that measures the rate at which a signal changes its sign (crosses zero) within a given time window.Higher ZCR values indicate more rapid changes in the audio signal, which may correspond to sounds with higher pitch or more rapid variations in amplitude.<br>\n",
        "> **Mel-spectrogram**: A mel-spectrogram is a spectrogram where the frequency axis is converted from Hertz to the mel scale, which approximates the human auditory system's perception of pitch. A mel-spectrogram represents the time-varying frequency content of an audio signal over time.<br>\n",
        "> **Chroma Features**: Chroma features represent the distribution of pitch classes (or chroma) in an audio signal, disregarding the exact frequency information. Chroma features are particularly useful for tasks where the harmonic content and tonal structure of the audio signal are important, such as music genre classification, chord recognition, and melody extraction.<br>\n",
        "> Relationships between the terms:<br>\n",
        "  - MFCCs, mel-spectrograms, and chroma features are all representations of audio signals commonly used in audio processing tasks.\n",
        "  - Mel-spectrograms and chroma features are derived from the frequency domain representation of the audio signal, while MFCCs are derived from the mel-scaled power spectrum.\n",
        "  - MFCCs capture both spectral and temporal characteristics of audio signals and are widely used as features in speech and music processing tasks.\n",
        "  - Mel-spectrograms provide a perceptually relevant representation of the frequency content of audio signals, while chroma features focus on the tonal content.\n",
        "  - Zero crossing rate provides information about the temporal dynamics of the audio signal and can be used in conjunction with other features to characterize audio signals further."
      ]
    },
    {
      "cell_type": "markdown",
      "metadata": {
        "id": "MLRnjn5J7MB5"
      },
      "source": [
        "### MFCC\n",
        "Now, let's compute MFCC for each sample"
      ]
    },
    {
      "cell_type": "code",
      "execution_count": null,
      "metadata": {
        "id": "y1YXycYq7RDd"
      },
      "outputs": [],
      "source": [
        "def compute_mfcc(audios_data: List[Dict[str, any]]) -> Tuple[Dict[int, np.ndarray],\n",
        "                                                             Dict[str, np.ndarray]]:\n",
        "  mfcc_features_group_by_digit = {}\n",
        "  mfcc_features_group_by_speaker = {}\n",
        "  for audio_data in audios_data:\n",
        "    digit = audio_data['digit']\n",
        "    speaker = audio_data['speaker']\n",
        "    mfcc = librosa.feature.mfcc(y=audio_data['signal'],\n",
        "                                 sr=audio_data['sampling_rate'],\n",
        "                                 n_mfcc=NUM_CEPSTRAL,\n",
        "                                n_fft=DEFAULT_N_FFT,\n",
        "                                hop_length=DEFAULT_HOP_LENGTH)\n",
        "    mfcc_features_group_by_digit.setdefault(digit, []).append(mfcc)\n",
        "    mfcc_features_group_by_speaker.setdefault(speaker, []).append(mfcc)\n",
        "\n",
        "  return mfcc_features_group_by_digit, mfcc_features_group_by_speaker\n",
        "\n",
        "mfcc_features_group_by_digit, mfcc_features_group_by_speaker= compute_mfcc(\n",
        "    audios_data)"
      ]
    },
    {
      "cell_type": "markdown",
      "metadata": {
        "id": "4S9g-suvqxcw"
      },
      "source": [
        "Here is a heatmap of the MFCCs for one of our samples."
      ]
    },
    {
      "cell_type": "code",
      "execution_count": null,
      "metadata": {
        "colab": {
          "base_uri": "https://localhost:8080/",
          "height": 487
        },
        "id": "YP7_1FlArMPP",
        "outputId": "d43e4baf-c753-4423-df5e-eb07fe2568fc"
      },
      "outputs": [
        {
          "output_type": "display_data",
          "data": {
            "text/plain": [
              "<Figure size 800x500 with 2 Axes>"
            ],
            "image/png": "[encoded data removed]"
          },
          "metadata": {}
        }
      ],
      "source": [
        "def display_mfcc_heat_map(mfcc: np.ndarray) -> None:\n",
        "  plt.figure(figsize=(8, 5))\n",
        "  librosa.display.specshow(mfcc, x_axis='time', sr=DEFAULT_SR)\n",
        "  plt.colorbar(format=ticker.FuncFormatter(\n",
        "      lambda x, pos: f'+{x:.2f} dB' if x > 0 else f'{x:.2f} dB'))\n",
        "  plt.title('MFCC')\n",
        "  plt.xlabel('Time')\n",
        "  plt.ylabel('MFCC')\n",
        "  plt.show()\n",
        "\n",
        "random_mfcc_feature = choice(mfcc_features_group_by_digit[choice(list(\n",
        "    mfcc_features_group_by_digit.keys()))])\n",
        "display_mfcc_heat_map(random_mfcc_feature)"
      ]
    },
    {
      "cell_type": "markdown",
      "metadata": {
        "id": "fi-CTXpsTybr"
      },
      "source": [
        "3. Examining the robustness of MFCCs against changes in signals and noise.\n",
        ">MFCC is very sensitive to noise interference, which tends to drastically degrade the performance of recognition system\n",
        "\n",
        "4. Are there any situations where MFCCs are least efficient?\n",
        ">While Mel-Frequency Cepstral Coefficients (MFCCs) are widely used and generally effective for many audio processing tasks, there are situations where they may be less efficient or less suitable compared to other feature extraction techniques. Some scenarios where MFCCs may be less efficient include:\n",
        ">- Non-Stationary Signals\n",
        ">- Highly Dynamic Signals\n",
        ">- Highly Noisy Environments\n",
        "\n",
        "5. Why do the coefficients overlap with each other in calculating MFCCs?\n",
        ">Overlap between adjacent MFCC coefficients helps improve the representation of the spectral characteristics of the audio signal, enhances the discriminative power of the features, and ensures robustness to variations in the signal.\n",
        "\n",
        "6. Why are only first 12 or 13 MFCC coefficients commonly used in most projects?\n",
        "> The reason why we typically consider only the first 13 MFCCs is that they capture the most relevant information for speech recognition while discarding redundant information. Higher-order coefficients contain less discriminatory information and are more sensitive to noise, so they are often excluded to reduce computational complexity and improve the performance of speech processing systems."
      ]
    },
    {
      "cell_type": "markdown",
      "metadata": {
        "id": "Y_wC6oG-ca5h"
      },
      "source": [
        "# Introduction To HMMs\n",
        "\n",
        "1. What is the meaning of 'state' and 'observation' in HMMs? In this problem, what are our states and how are observations perceived?\n",
        ">**State** represents the underlying, unobservable (hidden) variables that govern the behavior of the system. Each state is associated with a probability transitions to other states.<br>\n",
        ">**Observation** represents the observable outcomes or measurements associated with each state, providing information about the underlying state of the system.\n",
        "Each state is associated with a probability distribution over possible observations.<br>\n",
        ">In this problem, our states are each digit from 0 to 9, and our observations are features that are extracted from the audio signal. These features provide information about the sound characteristics of the speech signal.\n",
        "\n",
        "2. HMMs can be categorized based on dependencies between hidden states. Explain First-Order HMM and describe its difference with other types of HMM.\n",
        "> The First-Order HMM is a type of HMM that state z<sub>t</sub> at time t, depends only on the previous state z<sub>t - 1</sub> at time t-1. The n-th Order HMM depends on n previous states.<br>\n",
        "> In a First-Order HMM, since we only depend on the previous state, we can calculate the distribution over states as follows:\n",
        "><center>$$P(z_1, z_2,.., z_N) = P(z_1)\\prod_{i=2}^{N}P(z_i|z_{i-1})$$</center>\n",
        "> There is another assumption that is called Stationary assumption that we can define it as follows: \"transition probabilities the same at all times\".<br>\n",
        "> Also past and future are independent given the present.\n",
        "\n",
        "3. For which kind of problems is HMM more suitable?\n",
        "> HMMs are sutiable for problems that we want reasoning about a sequence of observations events and events that we are interested in are hidden. HMMs allows us to talk about both observed events Hidden and hidden events that\n",
        "we think of as causal factors in our probabilistic mode.<br>\n",
        ">Here are some types of problems where HMMs are commonly used:\n",
        ">- Speech Recognition\n",
        ">- Robot Localization\n",
        ">- User Attention\n",
        ">- Medical Monitoring\n",
        "\n",
        "4. Describe pros and cons of HMM.\n",
        "> pros:\n",
        "><ul>\n",
        "    <li>\n",
        "      <b>Efficiency and Scalablity</b>: thanks to the Markov property that reduces the computational complexity of inference and learning. Algorithms such as the forward-backward algorithm, the Viterbi algorithm, or the Baum-Welch algorithm can be used to further optimize performance.\n",
        "    </li>\n",
        "    <li>\n",
        "      <b>Simplicity</b>: HMMs are relatively simple to understand and implement compared to other models.\n",
        "    </li>\n",
        "    <li>\n",
        "      <b>Robustness</b>: HMMs are robust to noise and uncertainty, which is particularly useful in speech recognition where the quality of audio recordings can be poor.\n",
        "    </li>\n",
        "    <li>\n",
        "      <b>Flexibility and Expressiveness</b>: enables them to model complex and non-linear dependencies between hidden states and observations.\n",
        "    </li>\n",
        "></ul>\n",
        ">cons:\n",
        "><ul>\n",
        "    <li>\n",
        "      They are restrictive and simplistic, as they assume that the hidden states are discrete and finite, and that the observations are conditionally independent given the hidden states, which may not be true\n",
        "    </li>\n",
        "    <li>\n",
        "      They are prone to overfitting and underfitting due to needing a careful choice of the number of hidden states and prior distributions over the parameters\n",
        "    </li>\n",
        "    <li>\n",
        "      They are sensitive and brittle, as they rely on quality and quantity of observed data, and may suffer from data sparsity, noise, or missing values.\n",
        "    </li>\n",
        "></ul>\n",
        "\n",
        "5. Explain other types of HMMs.\n",
        "\n",
        ">HMMs can be classified according to the nature of the distribution of the output probabilities $b_i(O_k)$\n",
        ". If the observations $O_k$ are discrete quantities, as we have assumed up until now, then $b_i(O_k)$ are probability mass functions (PMFs), and the HMM is called a discrete HMM. If the observations are continuous random variables, then the HMM is called a continuous HMM. In this case, $b_i(O_k)$ are probability distribution functions (PDFs) and we have a continuous observation space.\n",
        "\n",
        ">- **First-Order HMM**: The state transitions depend only on the current state and not on previous states. This is the simplest form of HMM.\n",
        ">- **Higher-Order HMM**: In contrast to a first-order HMM, higher-order HMMs allow transitions to depend on multiple previous states. These models can capture more complex dependencies in sequential data but may require more parameters and computational resources.\n",
        ">- **Left-Right HMM**: A left-to-right HMM has a left-to-right transition to the next state as well as a self-transition. The self-transition is used to model contiguous features in the same state. It is popularly used to model speech as a time sequence of distinct events that start at an initial state, which is usually labeled Begin, and end at a final state, which is usually labeled End\n",
        ">- **Hidden Semi-Markov Model (HSMM)**: A hidden semi-Markov model (HSMM) is a statistical model with the same structure as a hidden Markov model except that the unobservable process is semi-Markov rather than Markov. This means that the probability of there being a change in the hidden state depends on the amount of time that has elapsed since entry into the current state. This is in contrast to hidden Markov models where there is a constant probability of changing state given survival in the state up to that time.\n",
        ">- **Factorial HMM**: A Factorial Hidden Markov Model (FHMM) is a type of probabilistic model that extends the traditional Hidden Markov Model (HMM) to handle multiple observation sequences simultaneously. In an FHMM, each observation sequence is associated with its own set of hidden states, but the hidden states from different sequences are interconnected through shared parameters. This allows the model to capture dependencies between multiple sequences and perform joint inference across them.\n",
        ">- **Profile HMM**: A Profile Hidden Markov Model (Profile HMM) is a probabilistic model commonly used in bioinformatics for sequence analysis tasks such as sequence alignment and protein family classification. Profile HMMs are derived from multiple sequence alignments (MSAs) of related sequences and are designed to capture the evolutionary relationships and sequence conservation within a protein family or a set of related sequences.\n",
        "\n",
        "\n",
        "\n"
      ]
    },
    {
      "cell_type": "markdown",
      "metadata": {
        "id": "lqrSH3Tc66cx"
      },
      "source": [
        "# Implementation Model\n",
        "In this project, we aim to train our model with two different target variables: digit and speaker. First, we implement our model using the hmmlearn library, and then we implement the HMM from scratch."
      ]
    },
    {
      "cell_type": "markdown",
      "metadata": {
        "id": "zPr_827V6_33"
      },
      "source": [
        "## Implementation with Libraries\n",
        "In this section, we are going to design and implement an HMM model and train it using our available dataset. Then, we will evaluate its performance using methods introduced in the evaluation section."
      ]
    },
    {
      "cell_type": "code",
      "execution_count": null,
      "metadata": {
        "id": "RLsWFQh2L1jM"
      },
      "outputs": [],
      "source": [
        "def train_hmms(mfcc_feats: Dict[Union[int, str], List[np.ndarray]]) -> Dict[Union[int, str],\n",
        "                                                                            hmm.GaussianHMM]:\n",
        "  trained_models = {}\n",
        "  n_components = len(mfcc_feats.keys())\n",
        "  for target_var in mfcc_feats.keys():\n",
        "    model = hmm.GaussianHMM(n_components=n_components, n_iter=100)\n",
        "    X = [mfcc.T for mfcc in mfcc_feats[target_var]]\n",
        "    observations = np.concatenate(X)\n",
        "    lenghts = [len(seq_observation) for seq_observation in observations]\n",
        "    model.fit(observations)\n",
        "    trained_models[target_var] = model\n",
        "\n",
        "  return trained_models"
      ]
    },
    {
      "cell_type": "markdown",
      "source": [
        "Before training our models, we should split our dataset into test and train sets"
      ],
      "metadata": {
        "id": "0bz6_-1ehPIQ"
      }
    },
    {
      "cell_type": "code",
      "source": [
        "def split_test_train_data(mfcc_feats: Dict[Union[int, str], List[np.ndarray]],\n",
        "                       test_size: Union[float, Literal[0, 1]] = 0.2) -> Tuple[\n",
        "                           Dict[Union[int, str], List[np.ndarray]],\n",
        "                           List[np.ndarray], List[int]]:\n",
        "  if not (0 <= test_size <= 1):\n",
        "        raise ValueError(\"test_size must be between 0 and 1\")\n",
        "\n",
        "  Y_test = []\n",
        "  X_test = []\n",
        "  X_train = {}\n",
        "  for label in mfcc_feats.keys():\n",
        "    for mfcc in mfcc_feats[label]:\n",
        "      if np.random.rand() <= test_size:\n",
        "        X_test.append(mfcc.T)\n",
        "        Y_test.append(label)\n",
        "      else:\n",
        "        X_train.setdefault(label, []).append(mfcc)\n",
        "\n",
        "  return X_train, X_test, Y_test"
      ],
      "metadata": {
        "id": "Mztrg9-Aht0G"
      },
      "execution_count": null,
      "outputs": []
    },
    {
      "cell_type": "markdown",
      "source": [
        "Now, let's evaluate our trained models by calculating accuracy, precision, and confusion matrix for them."
      ],
      "metadata": {
        "id": "fx5XgxsrCm04"
      }
    },
    {
      "cell_type": "code",
      "source": [
        "def calculate_accuracy_score(Y_true, Y_predict) -> np.double:\n",
        "  correct_predictions = sum(1 for true, predict in zip(Y_true, Y_predict)\n",
        "                            if true == predict)\n",
        "  total_predictions = len(Y_predict)\n",
        "\n",
        "  return correct_predictions / total_predictions\n",
        "\n",
        "def calculate_precision_micro_score(Y_true, Y_predict,\n",
        "                                    classes: List[Union[str, int]]) -> np.double:\n",
        "    total_true_positives = 0\n",
        "    total_false_positives = 0\n",
        "\n",
        "    for label in classes:\n",
        "        true_positives, false_positives = 0, 0\n",
        "        for true, pred in zip(Y_true, Y_predict):\n",
        "          if pred != label: continue\n",
        "\n",
        "          if true == label: true_positives += 1\n",
        "          elif true != label: false_positives += 1\n",
        "\n",
        "        total_true_positives += true_positives\n",
        "        total_false_positives += false_positives\n",
        "\n",
        "    if total_true_positives + total_false_positives == 0:\n",
        "        return 0.0\n",
        "    else:\n",
        "        return total_true_positives / (total_true_positives +\n",
        "                                       total_false_positives)\n",
        "\n",
        "def calculate_confusion_matrix(y_true, y_predict,\n",
        "                               classes: List[Union[int, str]]) -> Dict[Tuple[Union[int, str], Union[int, str]], int]:\n",
        "    confusion_matrix = {(true_label, pred_label): 0\n",
        "                        for true_label in classes for pred_label in classes}\n",
        "\n",
        "    for true_label, pred_label in zip(y_true, y_predict):\n",
        "        pair = (true_label, pred_label)\n",
        "        confusion_matrix[pair] = confusion_matrix.get(pair, 0) + 1\n",
        "\n",
        "    return confusion_matrix\n",
        "\n",
        "def plot_confusion_matrix(confusion_matrix: np.ndarray,\n",
        "                          classes: List[Union[int, str]]) -> None:\n",
        "    num_classes = len(classes)\n",
        "    matrix = [[confusion_matrix.get((i, j), 0) for j in classes] for i in classes]\n",
        "\n",
        "    plt.figure(figsize=(10, 8))\n",
        "    sns.heatmap(matrix, annot=True, cmap='Blues', fmt='d')\n",
        "    plt.xlabel('Predicted')\n",
        "    plt.ylabel('True')\n",
        "    plt.xticks(ticks=range(num_classes), labels=classes)\n",
        "    plt.yticks(ticks=range(num_classes), labels=classes)\n",
        "    plt.title('Confusion Matrix')\n",
        "    plt.show()"
      ],
      "metadata": {
        "id": "DlHCMDnNCmAc"
      },
      "execution_count": null,
      "outputs": []
    },
    {
      "cell_type": "code",
      "source": [
        "def evaluate_model(trained_models: Dict[Union[int, str], hmm.GaussianHMM],\n",
        "                          mfcc_feats_test: List[np.ndarray],\n",
        "                          Y_test: List[Union[int, str]],\n",
        "                          classes: List[Union[str, int]]) -> None:\n",
        "  Y_predict = []\n",
        "  test_size = len(mfcc_feats_test)\n",
        "  for y, mfcc in zip(Y_test, mfcc_feats_test):\n",
        "    max_score = float('-inf')\n",
        "    predict = None\n",
        "    for label, hmm in trained_models.items():\n",
        "      score = hmm.score(mfcc)\n",
        "      if not score > max_score: continue\n",
        "\n",
        "      max_score = score\n",
        "      predict = label\n",
        "\n",
        "    Y_predict.append(predict)\n",
        "\n",
        "  accuracy = calculate_accuracy_score(Y_test, Y_predict)\n",
        "  print(\"Accuracy: \", accuracy)\n",
        "  precision = calculate_precision_micro_score(Y_test, Y_predict, classes)\n",
        "  print(\"Micro Precision: \", precision)\n",
        "  cm = calculate_confusion_matrix(Y_test, Y_predict, classes)\n",
        "  plot_confusion_matrix(cm, classes)"
      ],
      "metadata": {
        "id": "2HlZBOITHmkD"
      },
      "execution_count": null,
      "outputs": []
    },
    {
      "cell_type": "markdown",
      "source": [
        "First, we train our model with the target variable as the digit. Then, we evaluate it using accuracy score, precision (micro) score, and confusion matrix."
      ],
      "metadata": {
        "id": "4sNntrhLaFvL"
      }
    },
    {
      "cell_type": "code",
      "source": [
        "X_train, X_test, Y_test = split_test_train_data(mfcc_features_group_by_digit)\n",
        "digit_target_var_trained_models = train_hmms(mfcc_features_group_by_digit)\n",
        "evaluate_model(digit_target_var_trained_models, X_test, Y_test,\n",
        "                      list(set(digits)))"
      ],
      "metadata": {
        "colab": {
          "base_uri": "https://localhost:8080/",
          "height": 753
        },
        "id": "T9ZvSusgaMnl",
        "outputId": "15d42ee3-3632-406a-86d3-4aee3f9a9944"
      },
      "execution_count": null,
      "outputs": [
        {
          "output_type": "stream",
          "name": "stdout",
          "text": [
            "Accuracy:  0.9124579124579124\n",
            "Micro Precision:  0.9124579124579124\n"
          ]
        },
        {
          "output_type": "display_data",
          "data": {
            "text/plain": [
              "<Figure size 1000x800 with 2 Axes>"
            ],
            "image/png": "[encoded data removed]"
          },
          "metadata": {}
        }
      ]
    },
    {
      "cell_type": "markdown",
      "source": [
        "Now, we train our model in a way that our target variable is the speaker.\n",
        "Then, we evaluate it using accuracy score, precision (micro) score, and confusion matrix."
      ],
      "metadata": {
        "id": "gVbEzhOhbyAk"
      }
    },
    {
      "cell_type": "code",
      "source": [
        "X_train, X_test, Y_test = split_test_train_data(mfcc_features_group_by_speaker)\n",
        "speaker_target_var_trained_models = train_hmms(mfcc_features_group_by_speaker)\n",
        "evaluate_model(speaker_target_var_trained_models, X_test, Y_test,\n",
        "                      list(set(speakers)))"
      ],
      "metadata": {
        "colab": {
          "base_uri": "https://localhost:8080/",
          "height": 755
        },
        "id": "kxDHdV6ob5IN",
        "outputId": "72575e66-6680-482e-bb28-9e11faab6699"
      },
      "execution_count": null,
      "outputs": [
        {
          "output_type": "stream",
          "name": "stdout",
          "text": [
            "Accuracy:  0.8952380952380953\n",
            "Micro Precision:  0.8952380952380953\n"
          ]
        },
        {
          "output_type": "display_data",
          "data": {
            "text/plain": [
              "<Figure size 1000x800 with 2 Axes>"
            ],
            "image/png": "[encoded data removed]"
          },
          "metadata": {}
        }
      ]
    },
    {
      "cell_type": "markdown",
      "source": [
        "## Implementing from Scratch\n",
        "In this section, we delve into the implementation of the Hidden Markov Model (HMM) from scratch."
      ],
      "metadata": {
        "id": "MF5AyI5iLwJM"
      }
    },
    {
      "cell_type": "markdown",
      "source": [
        "Here is our HMM implementation"
      ],
      "metadata": {
        "id": "QXcEwklcVPT5"
      }
    },
    {
      "cell_type": "code",
      "source": [
        "class HMM:\n",
        "    def __init__(self, num_hidden_states: int,\n",
        "                 num_observations: Union[int, None] = None) -> None:\n",
        "        self.num_hidden_states = num_hidden_states\n",
        "        self.num_observations = num_observations\n",
        "        self.rand_state = np.random.RandomState(1)\n",
        "\n",
        "        self.initial_prob = self._normalize(\n",
        "            self.rand_state.rand(self.num_hidden_states))\n",
        "        self.transition_matrix = self._stochasticize(\n",
        "            self.rand_state.rand(self.num_hidden_states,\n",
        "                                 self.num_hidden_states))\n",
        "        self.emission_matrix = self._stochasticize(\n",
        "            self.rand_state.rand(self.num_hidden_states,\n",
        "                                 self.num_observations))\n",
        "\n",
        "    def _normalize(self, x: np.ndarray) -> np.ndarray:\n",
        "        if np.all(x == 0):\n",
        "          return np.ones_like(x) / len(x)\n",
        "        else:\n",
        "          return x / np.sum(x)\n",
        "\n",
        "    def _stochasticize(self, x: np.ndarray) -> np.ndarray:\n",
        "        row_sums = np.sum(x, axis=1, keepdims=True)\n",
        "        zero_sum_indices = np.where(row_sums == 0)[0]\n",
        "\n",
        "        uniform_distribution = np.ones_like(x[0]) / len(x[0])\n",
        "\n",
        "        x_stochastic = x.copy()\n",
        "        x_stochastic[zero_sum_indices] = uniform_distribution\n",
        "\n",
        "        return x_stochastic\n",
        "\n",
        "    def _forward(self, observation_sequence: np.ndarray) -> np.ndarray:\n",
        "        T = observation_sequence.shape[1]\n",
        "        alpha = np.zeros((self.num_hidden_states, T))\n",
        "        alpha[:, 0] = np.multiply(self.initial_prob,\n",
        "                            self.emission_matrix[:, observation_sequence[:, 0]])\n",
        "\n",
        "        for t in range(1, T):\n",
        "            alpha[:, t] = np.multiply(\n",
        "                np.dot(alpha[:, t - 1], self.transition_matrix),\n",
        "                self.emission_matrix[:, observation_sequence[:, t]])\n",
        "\n",
        "        return alpha\n",
        "\n",
        "    def _backward(self, observation_sequence: np.ndarray) -> np.ndarray:\n",
        "      T = observation_sequence.shape[1]\n",
        "      beta = np.zeros((self.num_hidden_states, T))\n",
        "      beta[:, -1] = 1\n",
        "      for t in range(T - 1)[::-1]:\n",
        "        beta[:, t] = np.multiply(\n",
        "            np.dot(self.transition_matrix,\n",
        "                   self.emission_matrix[:, observation_sequence[t + 1]],\n",
        "                   beta[:, T + 1]))\n",
        "\n",
        "      return beta"
      ],
      "metadata": {
        "id": "K44wlyC3Veml"
      },
      "execution_count": 113,
      "outputs": []
    },
    {
      "cell_type": "markdown",
      "metadata": {
        "id": "gPqhHJdzLlKN"
      },
      "source": [
        "# Model Evaluation And Testing"
      ]
    },
    {
      "cell_type": "markdown",
      "metadata": {
        "id": "TD_iOOKVGUe_"
      },
      "source": [
        "1. Describe, **Accuacy Score**, **Precision**, **Recall**, **F1**.\n",
        ">- **Accuracy** measures the proportion of correctly classified cases from the total number of objects in the dataset. To compute the metric, divide the number of correct predictions by the total number of predictions made by the model.\n",
        "$$Accuracy = \\frac{correct\\hspace{0.3em}predictions}{all\\hspace{0.3em}predictions}$$\n",
        ">- **Precision**:\n",
        ">$$TP → predict \\hspace{0.2em} label = true \\hspace{0.2em} label \\hspace{0.5em} and \\hspace{0.5em} true \\hspace{0.2em} label = positive$$\n",
        ">$$FP → predict \\hspace{0.2em} label \\neq true \\hspace{0.2em} label \\hspace{0.5em} and \\hspace{0.5em} true \\hspace{0.2em} label = negative$$\n",
        ">$$FN → predict \\hspace{0.2em} label \\neq true \\hspace{0.2em} label \\hspace{0.5em} and \\hspace{0.5em} true \\hspace{0.2em} label = positive$$\n",
        ">$$TN → predict \\hspace{0.2em} label = true \\hspace{0.2em} label \\hspace{0.5em} and \\hspace{0.5em} true \\hspace{0.2em} label = negative$$\n",
        ">    - binary classification:\n",
        ">$$Precision = \\frac{TP}{TP + FP}$$\n",
        ">    - multi-class classification:To calculate the precision, we divide the number of correct predictions of each Class by the total number of that Class predictions (true and false).\n",
        ">$$Precission_{class} = \\frac{TP_{class}}{TP_{class} + FP_{class}}$$\n",
        ">- **Recall**:\n",
        ">    - binary classification:\n",
        ">$$Recall = \\frac{TP}{TP + FN}$$\n",
        ">    - multi-class classification: To calculate the recall, we divide the number of correct predictions of Class “A” by the total number of Class “A” objects in the dataset (both identified and not)\n",
        ">$$Recall_{class} = \\frac{TP_{class}}{TP_{class} + FN_{class}}$$\n",
        ">- **F1 Score**:\n",
        ">    - binary classification:\n",
        ">$$F1\\hspace{0.2em}Score = 2 \\times \\frac{Precission × Recall}{Precission + Recall}$$\n",
        ">    - multi-class classification:\n",
        ">         - macro-avg:\n",
        ">$$Precision_{macro avg} = \\frac{Precission_{class_1} + … + Precission_{class_N}}{N}$$\n",
        ">$$Recall_{macro avg} = \\frac{Recall_{class_1} + … + Recall_{class_N}}{N}$$\n",
        ">$$F1_{macro avg} = 2 \\times \\frac{Precission_{macro avg} + Recall_{macro avg}}{Precission_{macro avg} × Recall_{macro avg}}$$\n",
        ">         - micro-avg:\n",
        ">$$Precision_{micro avg} = \\frac{TP_{class_1} + … + TP_{class_N}}{TP_{class_1} FP_{class_1} + … + FP_{class_N} + TP_{class_N}}$$\n",
        ">$$Recall_{micro avg} = \\frac{TP_{class_1} + … + TP_{class_N}}{TP_{class_1} FN_{class_1} + … + FN_{class_N} + TP_{class_N}}$$\n",
        ">$$F1_{micro avg} = 2 \\times \\frac{Precission_{micro avg} + Recall_{micro avg}}{Precission_{micro avg} × Recall_{micro avg}}$$\n",
        ">         - wieghted: This approach takes into account the balance of classes. You weigh each class based on its representation in the dataset. Then, you compute precision and recall as a weighted average of the precision and recall in individual classes. Simply put, it would work like macro-averaging, but instead of dividing precision and recall by the number of classes, you give each class a fair representation based on the proportion it takes in the dataset.\n",
        "\n",
        "2. Decribe challenges for this multi-class problem and suggest solution for it.\n",
        "> Cosider our target var as a class either number, speaker name and etc and calculate this use above formulas.\n",
        "\n",
        "3. Describe each of these metrics and how to measure model performance.\n",
        "> - **Accuracy** measures the proportion of correctly classified cases from the total number of objects in the dataset\n",
        "> - **Precision** measures the model's ability to identify instances of a particular class correctly.\n",
        "> - **Recall** measures the model's ability to identify all instances of a particular class.\n",
        "> - **Macro-averaging** calculates each class's performance metric (e.g., precision, recall) and then takes the arithmetic mean across all classes. So, the macro-average gives equal weight to each class, regardless of the number of instances.\n",
        "> - **Micro-averaging**, on the other hand, aggregates the counts of true positives, false positives, and false negatives across all classes and then calculates the performance metric based on the total counts. So, the micro-average gives equal weight to each instance, regardless of the class label and the number of cases in the class.\n",
        "\n",
        "4. Describe the difference between Recall and Precision and explain why each of them alone is not sufficient. Provide examples for each where the value is high but the model performance is not good enough.\n",
        "> Recall measures the ability of a model to correctly identify all relevant instances (true positives) from the total number of actual positive instances. Precision measures the ability of a model to correctly identify only the relevant instances (true positives) out of all instances predicted as positive. Recall focuses on capturing all relevant instances, while precision focuses on minimizing false positives. While high recall indicates that the model is effectively capturing a large proportion of positive instances, it does not consider the number of false positives the model may produce. High precision means that when the model predicts a positive instance, it is likely to be correct. However, it does not consider the possibility of missing relevant instances (false negatives).<br>\n",
        "> For example, consider 100 groups of people, comprising 35 women and 65 men. Among the women, 30 are pregnant. Suppose a model classifies 25 of the women as pregnant, but also misclassifies all of the men as pregnant. This situation results in high recall but low precision. Thus, in this scenario, recall alone is not sufficient.<br>\n",
        "> Suppose you have a spam email classifier. Out of 1000 emails, only 50 are actually spam (positives), and the rest are legitimate (negatives). Now, imagine the classifier is highly precise but has low recall.The classifier identifies 40 emails as spam, and out of those, 35 are actually spam. However, the classifier fails to identify many of the actual spam emails and only detects 35 out of the 50 spam emails.\n",
        "\n",
        "5. Which kind of mean thechnique does F1 Score use? difference with normal mean and whay it is matter here?\n",
        "> The F1 score uses the harmonic mean technique to calculate a single metric that balances both precision and recall. The harmonic mean is used because it gives more weight to lower values. The harmonic mean is used because it gives more weight to lower values. F1 score becomes high only when both precision and recall are high. Normal mean gives equal weight to all values, on the other hand, harmonic weight gives weight to lower values.\n",
        "\n",
        "8. Why are the scores of these two models(speaker target var and digit target var) different from each other?\n",
        ">- **Model Complexity**: The complexity of the HMM models may vary between the two scenarios. The model trained on speaker-specific MFCCs may need to capture more complex patterns related to individual speech characteristics, while the model trained on number-specific MFCCs may require simpler patterns related to numerical sequences.\n",
        ">- **Feature Relevance**: MFCCs extracted from speech data capture different characteristics depending on whether they are speaker-specific or number-specific. Features that are more discriminative for distinguishing between speakers may not be as effective for distinguishing between numbers, and vice versa.\n",
        ">- **Data Variability**: The variability present in the data for speaker-specific MFCCs and number-specific MFCCs may differ. Variations in speech patterns between speakers and variations in pronunciation of digits can affect the models' ability to generalize."
      ]
    }
  ],
  "metadata": {
    "colab": {
      "provenance": [],
      "mount_file_id": "1fZBXXQiHacUHXCXz1zcjON5_WtO2dhgN",
      "authorship_tag": "ABX9TyPXObHRtS1yJH+GMZMttSan",
      "include_colab_link": true
    },
    "kernelspec": {
      "display_name": "Python 3",
      "name": "python3"
    },
    "language_info": {
      "name": "python"
    }
  },
  "nbformat": 4,
  "nbformat_minor": 0
}