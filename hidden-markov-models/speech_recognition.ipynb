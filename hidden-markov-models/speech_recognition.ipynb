{
  "nbformat": 4,
  "nbformat_minor": 0,
  "metadata": {
    "colab": {
      "provenance": [],
      "mount_file_id": "1fZBXXQiHacUHXCXz1zcjON5_WtO2dhgN",
      "authorship_tag": "ABX9TyNGeoa9VZ19cVWZH4VSZFww",
      "include_colab_link": true
    },
    "kernelspec": {
      "name": "python3",
      "display_name": "Python 3"
    },
    "language_info": {
      "name": "python"
    }
  },
  "cells": [
    {
      "cell_type": "markdown",
      "metadata": {
        "id": "view-in-github",
        "colab_type": "text"
      },
      "source": [
        "<a href=\"https://colab.research.google.com/github/ArshiAbolghasemi/AI-UT/blob/main/hidden-markov-models/speech_recognition.ipynb\" target=\"_parent\"><img src=\"https://colab.research.google.com/assets/colab-badge.svg\" alt=\"Open In Colab\"/></a>"
      ]
    },
    {
      "cell_type": "markdown",
      "source": [
        "# Speech Recognition\n",
        "In this project, we will develop a speech recognition system for numbers based on **Hidden Markov Models (HMMs)**.\n",
        "We have a dataset that contains records of 6 different speakers pronouncing numbers 0 to 9 in English."
      ],
      "metadata": {
        "id": "o02BkbR7RZMZ"
      }
    },
    {
      "cell_type": "markdown",
      "source": [
        "# Settings And Imports\n",
        "\n",
        "This section contains libraries and settings that are required."
      ],
      "metadata": {
        "id": "Uo9Tn2fC5OOr"
      }
    },
    {
      "cell_type": "markdown",
      "source": [
        "## Imports"
      ],
      "metadata": {
        "id": "7cr-XfGnwueL"
      }
    },
    {
      "cell_type": "code",
      "source": [
        "import librosa\n",
        "import numpy as np\n",
        "import matplotlib.pyplot as plt\n",
        "import matplotlib.ticker as ticker\n",
        "import random\n",
        "import os\n",
        "from typing import List, Dict, Any\n",
        "from google.colab import drive"
      ],
      "metadata": {
        "id": "BaKAT1Qi5i9q"
      },
      "execution_count": 71,
      "outputs": []
    },
    {
      "cell_type": "markdown",
      "source": [
        "## Settings"
      ],
      "metadata": {
        "id": "DfjwhlklFbYZ"
      }
    },
    {
      "cell_type": "code",
      "source": [
        "DRIVE_MOUNTED_PATH=os.path.join(os.getcwd(), 'drive/')\n",
        "AUDIOS_DATASET_PATH=os.path.join(DRIVE_MOUNTED_PATH, 'MyDrive/AI-UT/hidden-markov-models/recordings/')\n",
        "\n",
        "N_MFCC=13\n",
        "HOP_LENGTH=512"
      ],
      "metadata": {
        "id": "W8FiYTNoFdcY"
      },
      "execution_count": 99,
      "outputs": []
    },
    {
      "cell_type": "markdown",
      "source": [
        "## Mountin to google drive"
      ],
      "metadata": {
        "id": "KrCcCoLrwmJp"
      }
    },
    {
      "cell_type": "code",
      "source": [
        "drive.mount(DRIVE_MOUNTED_PATH)"
      ],
      "metadata": {
        "colab": {
          "base_uri": "https://localhost:8080/"
        },
        "id": "iytOtQcqwr6b",
        "outputId": "6c973554-834f-4098-b2f1-b856915160be"
      },
      "execution_count": 100,
      "outputs": [
        {
          "output_type": "stream",
          "name": "stdout",
          "text": [
            "Mounted at /content/drive/\n"
          ]
        }
      ]
    },
    {
      "cell_type": "markdown",
      "source": [
        "# Data Preprocessing and Feature Extracting\n",
        "\n"
      ],
      "metadata": {
        "id": "dQuuLvAH1zLB"
      }
    },
    {
      "cell_type": "markdown",
      "source": [
        "## Load Audios Dataset\n",
        "First, let's load our audio data samples."
      ],
      "metadata": {
        "id": "OxOEW4ndBOby"
      }
    },
    {
      "cell_type": "code",
      "source": [
        "def load_audios_dataset() -> List[Dict[str, Any]]:\n",
        "  audios_data = list(dict())\n",
        "  for audio_file in os.listdir(AUDIOS_DATASET_PATH):\n",
        "    audio_file_path = os.path.join(AUDIOS_DATASET_PATH, audio_file)\n",
        "    signal, sr = librosa.load(audio_file_path)\n",
        "    audios_data.append({\n",
        "        'signal': signal,\n",
        "        'sampling_rate': sr,\n",
        "    })\n",
        "\n",
        "  return audios_data\n",
        "\n",
        "audios_data = load_audios_dataset()"
      ],
      "metadata": {
        "id": "RtZ0wictBfQc"
      },
      "execution_count": 101,
      "outputs": []
    },
    {
      "cell_type": "markdown",
      "source": [
        "## Segmentation"
      ],
      "metadata": {
        "id": "2khhUqo3N8a2"
      }
    },
    {
      "cell_type": "markdown",
      "source": [
        "1. Does **segmentation** useful for this dataset? why?\n",
        "> In the scenario you've described, segmentation would likely be very useful for various tasks such as **feature extraction**, and **noise reduction** and it helps to our **process be more efficient**.\n",
        ">- **Feature Extraction**: For tasks like speech recognition or speaker identification, feature extraction is crucial. Segmenting the audio into smaller frames allows for the extraction of features such as MFCCs, which capture the spectral characteristics of speech over short time windows. By extracting features from each segment independently, you can capture the nuances of each speaker's pronunciation and speech patterns more effectively.\n",
        "> - **Noise Reduction**: If the audio recordings contain background noise or interference, segmentation can aid in targeted noise reduction. By segmenting the audio into smaller frames, it becomes easier to identify and remove segments that are corrupted by noise. This improves the overall quality of the audio data and enhances the performance of downstream tasks such as speech recognition.\n",
        "> - **Efficient Processing**: Processing 3000 audio files containing numerous repetitions of 0 - 9 digits pronounced by six speakers can be computationally intensive. Segmenting the audio into smaller frames allows for more efficient processing, as you can analyze smaller segments in parallel. This reduces computational requirements and facilitates faster processing of the audio data."
      ],
      "metadata": {
        "id": "-5emuW1m7bwb"
      }
    },
    {
      "cell_type": "markdown",
      "source": [
        "## Feature Extraction\n"
      ],
      "metadata": {
        "id": "Jyw9m120OCWH"
      }
    },
    {
      "cell_type": "markdown",
      "source": [
        "### Audio Features Explaination"
      ],
      "metadata": {
        "id": "s0KwfMGUjRLj"
      }
    },
    {
      "cell_type": "markdown",
      "source": [
        "2. Explain each of the following terms: \"MFCC,\" \"Zero Crossing Rate,\" \"mel-spectrogram,\" and \"chroma features,\" as well as the relationships between them.\n",
        "> **MFCC (Mel-frequency cepstral coefficients)**:\n",
        "MFCCs are a widely used feature representation for audio signals, particularly in speech and music processing. They capture the spectral characteristics of audio signals by transforming the frequency domain representation of the signal into a compressed, decorrelated form. MFCCs are obtained by taking the Discrete Cosine Transform (DCT) of the log of the power spectrum of the signal, after mapping the frequency axis to the mel scale, which approximates the human auditory system's response to different frequencies. MFCCs are commonly used as features for tasks such as speech recognition, speaker identification, and music genre classification.<br>\n",
        "> **Zero Crossing Rate**: The zero crossing rate (ZCR) is a simple feature that measures the rate at which a signal changes its sign (crosses zero) within a given time window.Higher ZCR values indicate more rapid changes in the audio signal, which may correspond to sounds with higher pitch or more rapid variations in amplitude.<br>\n",
        "> **Mel-spectrogram**: A mel-spectrogram is a spectrogram where the frequency axis is converted from Hertz to the mel scale, which approximates the human auditory system's perception of pitch. A mel-spectrogram represents the time-varying frequency content of an audio signal over time.<br>\n",
        "> **Chroma Features**: Chroma features represent the distribution of pitch classes (or chroma) in an audio signal, disregarding the exact frequency information. Chroma features are particularly useful for tasks where the harmonic content and tonal structure of the audio signal are important, such as music genre classification, chord recognition, and melody extraction.<br>\n",
        "> Relationships between the terms:<br>\n",
        "  - MFCCs, mel-spectrograms, and chroma features are all representations of audio signals commonly used in audio processing tasks.\n",
        "  - Mel-spectrograms and chroma features are derived from the frequency domain representation of the audio signal, while MFCCs are derived from the mel-scaled power spectrum.\n",
        "  - MFCCs capture both spectral and temporal characteristics of audio signals and are widely used as features in speech and music processing tasks.\n",
        "  - Mel-spectrograms provide a perceptually relevant representation of the frequency content of audio signals, while chroma features focus on the tonal content.\n",
        "  - Zero crossing rate provides information about the temporal dynamics of the audio signal and can be used in conjunction with other features to characterize audio signals further."
      ],
      "metadata": {
        "id": "AiYhqi3R7UuH"
      }
    },
    {
      "cell_type": "markdown",
      "source": [
        "### MFCC\n",
        "Now, let's compute MFCC for each sample"
      ],
      "metadata": {
        "id": "MLRnjn5J7MB5"
      }
    },
    {
      "cell_type": "code",
      "source": [
        "def compute_mfcc(audios_data: List[Dict[str, any]]) -> List[np.ndarray]:\n",
        "  return list(map(\n",
        "      lambda audio_data: librosa.feature.mfcc(\n",
        "          y=audio_data['signal'],\n",
        "          sr=audio_data['sampling_rate'],\n",
        "          hop_length=HOP_LENGTH,\n",
        "          n_mfcc=N_MFCC\n",
        "      ),\n",
        "      audios_data\n",
        "  ))\n",
        "\n",
        "mfccs = compute_mfcc(audios_data)"
      ],
      "metadata": {
        "id": "y1YXycYq7RDd"
      },
      "execution_count": 102,
      "outputs": []
    },
    {
      "cell_type": "markdown",
      "source": [
        "Here is a heatmap of the MFCCs for one of our samples."
      ],
      "metadata": {
        "id": "4S9g-suvqxcw"
      }
    },
    {
      "cell_type": "code",
      "source": [
        "def display_mfcc_heat_map(mfcc: np.ndarray, audio_data: Dict[str, Any]) -> None:\n",
        "  plt.figure(figsize=(8, 5))\n",
        "  librosa.display.specshow(mfcc, x_axis='time', sr=audio_data[\"sampling_rate\"])\n",
        "  plt.colorbar(format=ticker.FuncFormatter(\n",
        "      lambda x, pos: f'+{x:.2f} dB' if x > 0 else f'{x:.2f} dB'))\n",
        "  plt.title('MFCC')\n",
        "  plt.xlabel('Time')\n",
        "  plt.ylabel('MFCC')\n",
        "  plt.show()\n",
        "\n",
        "audio_data_idx = random.randint(0, len(os.listdir(AUDIOS_DATASET_PATH)) - 1)\n",
        "display_mfcc_heat_map(mfccs[audio_data_idx], audios_data[audio_data_idx])"
      ],
      "metadata": {
        "colab": {
          "base_uri": "https://localhost:8080/",
          "height": 487
        },
        "id": "YP7_1FlArMPP",
        "outputId": "0dbbcc82-7c1f-40c5-97b9-263b5d5cc10e"
      },
      "execution_count": 109,
      "outputs": [
        {
          "output_type": "display_data",
          "data": {
            "text/plain": [
              "<Figure size 800x500 with 2 Axes>"
            ],
            "image/png": "[encoded data removed]"
          },
          "metadata": {}
        }
      ]
    },
    {
      "cell_type": "markdown",
      "source": [
        "3. Examining the robustness of MFCCs against changes in signals and noise.\n",
        ">MFCC is very sensitive to noise interference, which tends to drastically degrade the performance of recognition system\n",
        "\n",
        "4. Are there any situations where MFCCs are least efficient?\n",
        ">While Mel-Frequency Cepstral Coefficients (MFCCs) are widely used and generally effective for many audio processing tasks, there are situations where they may be less efficient or less suitable compared to other feature extraction techniques. Some scenarios where MFCCs may be less efficient include:\n",
        ">- Non-Stationary Signals\n",
        ">- Highly Dynamic Signals\n",
        ">- Highly Noisy Environments\n",
        "\n",
        "5. Why do the coefficients overlap with each other in calculating MFCCs?\n",
        ">Overlap between adjacent MFCC coefficients helps improve the representation of the spectral characteristics of the audio signal, enhances the discriminative power of the features, and ensures robustness to variations in the signal.\n",
        "\n",
        "6. Why are only first 12 or 13 MFCC coefficients commonly used in most projects?\n",
        "> The reason why we typically consider only the first 13 MFCCs is that they capture the most relevant information for speech recognition while discarding redundant information. Higher-order coefficients contain less discriminatory information and are more sensitive to noise, so they are often excluded to reduce computational complexity and improve the performance of speech processing systems."
      ],
      "metadata": {
        "id": "fi-CTXpsTybr"
      }
    }
  ]
}