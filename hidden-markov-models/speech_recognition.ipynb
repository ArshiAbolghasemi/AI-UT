{
  "nbformat": 4,
  "nbformat_minor": 0,
  "metadata": {
    "colab": {
      "provenance": [],
      "authorship_tag": "ABX9TyNkvsEQXDFJaAPFfxQ53dJb",
      "include_colab_link": true
    },
    "kernelspec": {
      "name": "python3",
      "display_name": "Python 3"
    },
    "language_info": {
      "name": "python"
    }
  },
  "cells": [
    {
      "cell_type": "markdown",
      "metadata": {
        "id": "view-in-github",
        "colab_type": "text"
      },
      "source": [
        "<a href=\"https://colab.research.google.com/github/ArshiAbolghasemi/AI-UT/blob/main/hidden-markov-models/speech_recognition.ipynb\" target=\"_parent\"><img src=\"https://colab.research.google.com/assets/colab-badge.svg\" alt=\"Open In Colab\"/></a>"
      ]
    },
    {
      "cell_type": "markdown",
      "source": [
        "# Speech Recognition\n",
        "In this project, we will develop a speech recognition system for numbers based on **Hidden Markov Models (HMMs)**.\n",
        "We have a dataset that contains records of 6 different speakers pronouncing numbers 0 to 9 in English."
      ],
      "metadata": {
        "id": "o02BkbR7RZMZ"
      }
    }
  ]
}