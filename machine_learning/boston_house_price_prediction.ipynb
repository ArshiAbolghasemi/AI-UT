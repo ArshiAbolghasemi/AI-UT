{
  "cells": [
    {
      "cell_type": "markdown",
      "metadata": {
        "id": "view-in-github",
        "colab_type": "text"
      },
      "source": [
        "<a href=\"https://colab.research.google.com/github/ArshiAbolghasemi/AI-UT/blob/main/machine_learning/boston_house_price_prediction.ipynb\" target=\"_parent\"><img src=\"https://colab.research.google.com/assets/colab-badge.svg\" alt=\"Open In Colab\"/></a>"
      ]
    },
    {
      "cell_type": "markdown",
      "metadata": {
        "id": "WtZGZqI8ciiA"
      },
      "source": [
        "# Machine Learning"
      ]
    },
    {
      "cell_type": "markdown",
      "metadata": {
        "id": "ORNFPbDackVm"
      },
      "source": [
        "In this project we are going to predict boston area price using machine learning algorithms."
      ]
    },
    {
      "cell_type": "markdown",
      "metadata": {
        "id": "nbZEcEBmgqjM"
      },
      "source": [
        "## Imports\n",
        "\n",
        "\n"
      ]
    },
    {
      "cell_type": "code",
      "execution_count": null,
      "metadata": {
        "id": "gYVb1gnCg-W4"
      },
      "outputs": [],
      "source": [
        "import pandas as pd\n",
        "import os"
      ]
    },
    {
      "cell_type": "markdown",
      "metadata": {
        "id": "t4tsorGJdHGQ"
      },
      "source": [
        "## EDA\n",
        "\n",
        "EDA stands for Exploratory Data Analysis, which is the process of analyzing and summarizing data sets to understand their main characteristics. EDA is a preliminary step in data analysis that helps to identify patterns, relationships, and anomalies in the data before applying any statistical or machine learning techniques."
      ]
    },
    {
      "cell_type": "markdown",
      "source": [
        "First, let's read our dataset file."
      ],
      "metadata": {
        "id": "GZfzso85ri6B"
      }
    },
    {
      "cell_type": "code",
      "source": [
        "file_path = os.path.join(os.getcwd(), 'DataSet.xlsx')\n",
        "boston_house = pd.read_excel(file_path)"
      ],
      "metadata": {
        "id": "nf7cSewmrnYQ"
      },
      "execution_count": null,
      "outputs": []
    },
    {
      "cell_type": "markdown",
      "source": [
        "Now, we can use the shape attribute to check how large the resulting DataFrame is"
      ],
      "metadata": {
        "id": "qMrDYATcs2no"
      }
    },
    {
      "cell_type": "code",
      "source": [
        "boston_house.shape"
      ],
      "metadata": {
        "id": "p6Ay3V-Ks_yr"
      },
      "execution_count": null,
      "outputs": []
    },
    {
      "cell_type": "markdown",
      "source": [
        "We can examine the contents of the house DataFrame using the head() command, which grabs the first five rows:"
      ],
      "metadata": {
        "id": "fEvO7AmjtHzy"
      }
    },
    {
      "cell_type": "code",
      "source": [
        "boston_house.head()"
      ],
      "metadata": {
        "id": "nXjZxCDItTKR"
      },
      "execution_count": null,
      "outputs": []
    }
  ],
  "metadata": {
    "colab": {
      "provenance": [],
      "authorship_tag": "ABX9TyM3szTtkqD+ThFim0zUIf/+",
      "include_colab_link": true
    },
    "kernelspec": {
      "display_name": "Python 3",
      "name": "python3"
    },
    "language_info": {
      "name": "python"
    }
  },
  "nbformat": 4,
  "nbformat_minor": 0
}